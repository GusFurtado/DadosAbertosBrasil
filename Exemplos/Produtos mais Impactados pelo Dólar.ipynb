{
 "cells": [
  {
   "cell_type": "markdown",
   "metadata": {},
   "source": [
    "## **Produtos mais Impactados pelo Dólar**\n",
    "\n",
    "#### Este notebook apresenta a correlação entre a cotação do dólar e a inflação dos produtos e compõe o IPC-A, a fim de identificar quais são os produtos mais impactados pela diferença cambial"
   ]
  },
  {
   "cell_type": "code",
   "execution_count": 1,
   "metadata": {},
   "outputs": [],
   "source": [
    "from DadosAbertosBrasil import ibge, favoritos\n",
    "import numpy as np\n",
    "import pandas as pd\n",
    "import matplotlib.pyplot as plt"
   ]
  },
  {
   "cell_type": "markdown",
   "metadata": {},
   "source": [
    "#### 1. Obter cotação do dólar"
   ]
  },
  {
   "cell_type": "code",
   "execution_count": 2,
   "metadata": {},
   "outputs": [
    {
     "output_type": "execute_result",
     "data": {
      "text/plain": [
       "                     Data     USD\n",
       "0 2014-12-01 13:13:18.894  2.5624\n",
       "1 2014-12-02 13:07:39.693  2.5664\n",
       "2 2014-12-03 13:03:03.283  2.5607\n",
       "3 2014-12-04 13:05:35.617  2.5797\n",
       "4 2014-12-05 13:18:44.756  2.5888\n",
       "5 2014-12-08 13:11:24.541  2.5923\n",
       "6 2014-12-09 13:10:36.875  2.6016\n",
       "7 2014-12-10 13:06:25.303  2.5931\n",
       "8 2014-12-11 13:09:37.296  2.6271\n",
       "9 2014-12-12 13:05:36.926  2.6558"
      ],
      "text/html": "<div>\n<style scoped>\n    .dataframe tbody tr th:only-of-type {\n        vertical-align: middle;\n    }\n\n    .dataframe tbody tr th {\n        vertical-align: top;\n    }\n\n    .dataframe thead th {\n        text-align: right;\n    }\n</style>\n<table border=\"1\" class=\"dataframe\">\n  <thead>\n    <tr style=\"text-align: right;\">\n      <th></th>\n      <th>Data</th>\n      <th>USD</th>\n    </tr>\n  </thead>\n  <tbody>\n    <tr>\n      <th>0</th>\n      <td>2014-12-01 13:13:18.894</td>\n      <td>2.5624</td>\n    </tr>\n    <tr>\n      <th>1</th>\n      <td>2014-12-02 13:07:39.693</td>\n      <td>2.5664</td>\n    </tr>\n    <tr>\n      <th>2</th>\n      <td>2014-12-03 13:03:03.283</td>\n      <td>2.5607</td>\n    </tr>\n    <tr>\n      <th>3</th>\n      <td>2014-12-04 13:05:35.617</td>\n      <td>2.5797</td>\n    </tr>\n    <tr>\n      <th>4</th>\n      <td>2014-12-05 13:18:44.756</td>\n      <td>2.5888</td>\n    </tr>\n    <tr>\n      <th>5</th>\n      <td>2014-12-08 13:11:24.541</td>\n      <td>2.5923</td>\n    </tr>\n    <tr>\n      <th>6</th>\n      <td>2014-12-09 13:10:36.875</td>\n      <td>2.6016</td>\n    </tr>\n    <tr>\n      <th>7</th>\n      <td>2014-12-10 13:06:25.303</td>\n      <td>2.5931</td>\n    </tr>\n    <tr>\n      <th>8</th>\n      <td>2014-12-11 13:09:37.296</td>\n      <td>2.6271</td>\n    </tr>\n    <tr>\n      <th>9</th>\n      <td>2014-12-12 13:05:36.926</td>\n      <td>2.6558</td>\n    </tr>\n  </tbody>\n</table>\n</div>"
     },
     "metadata": {},
     "execution_count": 2
    }
   ],
   "source": [
    "# Capturar câmbio\n",
    "dolar = favoritos.cambio(\n",
    "    moedas = 'USD',\n",
    "    inicio = '2014-12-01',\n",
    "    fim = '2020-01-01'\n",
    ")\n",
    "\n",
    "dolar.head(10)"
   ]
  },
  {
   "cell_type": "code",
   "execution_count": 3,
   "metadata": {},
   "outputs": [
    {
     "output_type": "execute_result",
     "data": {
      "text/plain": [
       "                     Data     USD  mês   ano\n",
       "0 2014-12-01 13:13:18.894  2.5624   12  2014\n",
       "1 2014-12-02 13:07:39.693  2.5664   12  2014\n",
       "2 2014-12-03 13:03:03.283  2.5607   12  2014\n",
       "3 2014-12-04 13:05:35.617  2.5797   12  2014\n",
       "4 2014-12-05 13:18:44.756  2.5888   12  2014\n",
       "5 2014-12-08 13:11:24.541  2.5923   12  2014\n",
       "6 2014-12-09 13:10:36.875  2.6016   12  2014\n",
       "7 2014-12-10 13:06:25.303  2.5931   12  2014\n",
       "8 2014-12-11 13:09:37.296  2.6271   12  2014\n",
       "9 2014-12-12 13:05:36.926  2.6558   12  2014"
      ],
      "text/html": "<div>\n<style scoped>\n    .dataframe tbody tr th:only-of-type {\n        vertical-align: middle;\n    }\n\n    .dataframe tbody tr th {\n        vertical-align: top;\n    }\n\n    .dataframe thead th {\n        text-align: right;\n    }\n</style>\n<table border=\"1\" class=\"dataframe\">\n  <thead>\n    <tr style=\"text-align: right;\">\n      <th></th>\n      <th>Data</th>\n      <th>USD</th>\n      <th>mês</th>\n      <th>ano</th>\n    </tr>\n  </thead>\n  <tbody>\n    <tr>\n      <th>0</th>\n      <td>2014-12-01 13:13:18.894</td>\n      <td>2.5624</td>\n      <td>12</td>\n      <td>2014</td>\n    </tr>\n    <tr>\n      <th>1</th>\n      <td>2014-12-02 13:07:39.693</td>\n      <td>2.5664</td>\n      <td>12</td>\n      <td>2014</td>\n    </tr>\n    <tr>\n      <th>2</th>\n      <td>2014-12-03 13:03:03.283</td>\n      <td>2.5607</td>\n      <td>12</td>\n      <td>2014</td>\n    </tr>\n    <tr>\n      <th>3</th>\n      <td>2014-12-04 13:05:35.617</td>\n      <td>2.5797</td>\n      <td>12</td>\n      <td>2014</td>\n    </tr>\n    <tr>\n      <th>4</th>\n      <td>2014-12-05 13:18:44.756</td>\n      <td>2.5888</td>\n      <td>12</td>\n      <td>2014</td>\n    </tr>\n    <tr>\n      <th>5</th>\n      <td>2014-12-08 13:11:24.541</td>\n      <td>2.5923</td>\n      <td>12</td>\n      <td>2014</td>\n    </tr>\n    <tr>\n      <th>6</th>\n      <td>2014-12-09 13:10:36.875</td>\n      <td>2.6016</td>\n      <td>12</td>\n      <td>2014</td>\n    </tr>\n    <tr>\n      <th>7</th>\n      <td>2014-12-10 13:06:25.303</td>\n      <td>2.5931</td>\n      <td>12</td>\n      <td>2014</td>\n    </tr>\n    <tr>\n      <th>8</th>\n      <td>2014-12-11 13:09:37.296</td>\n      <td>2.6271</td>\n      <td>12</td>\n      <td>2014</td>\n    </tr>\n    <tr>\n      <th>9</th>\n      <td>2014-12-12 13:05:36.926</td>\n      <td>2.6558</td>\n      <td>12</td>\n      <td>2014</td>\n    </tr>\n  </tbody>\n</table>\n</div>"
     },
     "metadata": {},
     "execution_count": 3
    }
   ],
   "source": [
    "# Formatar datas\n",
    "dolar['mês'] = dolar.Data.dt.month\n",
    "dolar['ano'] = dolar.Data.dt.year\n",
    "dolar.head(10)"
   ]
  },
  {
   "cell_type": "code",
   "execution_count": 4,
   "metadata": {},
   "outputs": [
    {
     "output_type": "execute_result",
     "data": {
      "text/plain": [
       "                      Data       USD\n",
       "1  2015-01-30 13:03:33.490  0.002297\n",
       "2  2015-02-27 13:16:10.395  0.081095\n",
       "3  2015-03-31 13:03:36.780  0.114586\n",
       "4  2015-04-30 13:09:01.536 -0.066833\n",
       "5  2015-05-29 13:04:28.682  0.061865\n",
       "6  2015-06-30 13:02:53.185 -0.023971\n",
       "7  2015-07-31 13:09:26.023  0.093921\n",
       "8  2015-08-31 13:10:45.736  0.074455\n",
       "9  2015-09-30 13:03:13.098  0.089451\n",
       "10 2015-10-30 13:03:37.247 -0.028694"
      ],
      "text/html": "<div>\n<style scoped>\n    .dataframe tbody tr th:only-of-type {\n        vertical-align: middle;\n    }\n\n    .dataframe tbody tr th {\n        vertical-align: top;\n    }\n\n    .dataframe thead th {\n        text-align: right;\n    }\n</style>\n<table border=\"1\" class=\"dataframe\">\n  <thead>\n    <tr style=\"text-align: right;\">\n      <th></th>\n      <th>Data</th>\n      <th>USD</th>\n    </tr>\n  </thead>\n  <tbody>\n    <tr>\n      <th>1</th>\n      <td>2015-01-30 13:03:33.490</td>\n      <td>0.002297</td>\n    </tr>\n    <tr>\n      <th>2</th>\n      <td>2015-02-27 13:16:10.395</td>\n      <td>0.081095</td>\n    </tr>\n    <tr>\n      <th>3</th>\n      <td>2015-03-31 13:03:36.780</td>\n      <td>0.114586</td>\n    </tr>\n    <tr>\n      <th>4</th>\n      <td>2015-04-30 13:09:01.536</td>\n      <td>-0.066833</td>\n    </tr>\n    <tr>\n      <th>5</th>\n      <td>2015-05-29 13:04:28.682</td>\n      <td>0.061865</td>\n    </tr>\n    <tr>\n      <th>6</th>\n      <td>2015-06-30 13:02:53.185</td>\n      <td>-0.023971</td>\n    </tr>\n    <tr>\n      <th>7</th>\n      <td>2015-07-31 13:09:26.023</td>\n      <td>0.093921</td>\n    </tr>\n    <tr>\n      <th>8</th>\n      <td>2015-08-31 13:10:45.736</td>\n      <td>0.074455</td>\n    </tr>\n    <tr>\n      <th>9</th>\n      <td>2015-09-30 13:03:13.098</td>\n      <td>0.089451</td>\n    </tr>\n    <tr>\n      <th>10</th>\n      <td>2015-10-30 13:03:37.247</td>\n      <td>-0.028694</td>\n    </tr>\n  </tbody>\n</table>\n</div>"
     },
     "metadata": {},
     "execution_count": 4
    }
   ],
   "source": [
    "# Obter última cotação do mês\n",
    "dolar = dolar.groupby(['ano', 'mês'], as_index=False).last() \\\n",
    "    .drop(columns=['ano', 'mês'])\n",
    "\n",
    "# Obter variação percentual da cotação\n",
    "dolar.USD = dolar.USD.pct_change()\n",
    "dolar.dropna(inplace=True)\n",
    "\n",
    "dolar.head(10)"
   ]
  },
  {
   "cell_type": "markdown",
   "metadata": {},
   "source": [
    "#### 2. Obter índice IPCA-15 mensal"
   ]
  },
  {
   "cell_type": "code",
   "execution_count": 5,
   "metadata": {},
   "outputs": [
    {
     "output_type": "execute_result",
     "data": {
      "text/plain": [
       "                                                 tabela_nome pesquisa_id  \\\n",
       "tabela_id                                                                  \n",
       "3065       IPCA15 - Série histórica com número-índice, va...          IQ   \n",
       "1387       IPCA15 - Variação mensal, acumulada no ano e p...          IQ   \n",
       "1646       IPCA15 - Variação mensal, acumulada no ano e p...          IQ   \n",
       "7062       IPCA15 - Variação mensal, acumulada no ano, ac...          IQ   \n",
       "1705       IPCA15 - Variação mensal, acumulada no ano, ac...          IQ   \n",
       "\n",
       "                                              pesquisa_nome  \n",
       "tabela_id                                                    \n",
       "3065       Índice Nacional de Preços ao Consumidor Amplo 15  \n",
       "1387       Índice Nacional de Preços ao Consumidor Amplo 15  \n",
       "1646       Índice Nacional de Preços ao Consumidor Amplo 15  \n",
       "7062       Índice Nacional de Preços ao Consumidor Amplo 15  \n",
       "1705       Índice Nacional de Preços ao Consumidor Amplo 15  "
      ],
      "text/html": "<div>\n<style scoped>\n    .dataframe tbody tr th:only-of-type {\n        vertical-align: middle;\n    }\n\n    .dataframe tbody tr th {\n        vertical-align: top;\n    }\n\n    .dataframe thead th {\n        text-align: right;\n    }\n</style>\n<table border=\"1\" class=\"dataframe\">\n  <thead>\n    <tr style=\"text-align: right;\">\n      <th></th>\n      <th>tabela_nome</th>\n      <th>pesquisa_id</th>\n      <th>pesquisa_nome</th>\n    </tr>\n    <tr>\n      <th>tabela_id</th>\n      <th></th>\n      <th></th>\n      <th></th>\n    </tr>\n  </thead>\n  <tbody>\n    <tr>\n      <th>3065</th>\n      <td>IPCA15 - Série histórica com número-índice, va...</td>\n      <td>IQ</td>\n      <td>Índice Nacional de Preços ao Consumidor Amplo 15</td>\n    </tr>\n    <tr>\n      <th>1387</th>\n      <td>IPCA15 - Variação mensal, acumulada no ano e p...</td>\n      <td>IQ</td>\n      <td>Índice Nacional de Preços ao Consumidor Amplo 15</td>\n    </tr>\n    <tr>\n      <th>1646</th>\n      <td>IPCA15 - Variação mensal, acumulada no ano e p...</td>\n      <td>IQ</td>\n      <td>Índice Nacional de Preços ao Consumidor Amplo 15</td>\n    </tr>\n    <tr>\n      <th>7062</th>\n      <td>IPCA15 - Variação mensal, acumulada no ano, ac...</td>\n      <td>IQ</td>\n      <td>Índice Nacional de Preços ao Consumidor Amplo 15</td>\n    </tr>\n    <tr>\n      <th>1705</th>\n      <td>IPCA15 - Variação mensal, acumulada no ano, ac...</td>\n      <td>IQ</td>\n      <td>Índice Nacional de Preços ao Consumidor Amplo 15</td>\n    </tr>\n  </tbody>\n</table>\n</div>"
     },
     "metadata": {},
     "execution_count": 5
    }
   ],
   "source": [
    "ibge.lista_tabelas(\n",
    "    contendo = 'IPCA15',\n",
    "    index = True\n",
    ")"
   ]
  },
  {
   "cell_type": "code",
   "execution_count": 6,
   "metadata": {},
   "outputs": [],
   "source": [
    "meta = ibge.Metadados(1705)"
   ]
  },
  {
   "cell_type": "code",
   "execution_count": 7,
   "metadata": {},
   "outputs": [
    {
     "output_type": "execute_result",
     "data": {
      "text/plain": [
       "{'frequencia': 'mensal', 'inicio': 201202, 'fim': 202001}"
      ]
     },
     "metadata": {},
     "execution_count": 7
    }
   ],
   "source": [
    "# Períodos disponíveis\n",
    "meta.periodos"
   ]
  },
  {
   "cell_type": "code",
   "execution_count": 8,
   "metadata": {},
   "outputs": [
    {
     "output_type": "execute_result",
     "data": {
      "text/plain": [
       "{'Administrativo': ['N1', 'N6', 'N7'], 'Especial': [], 'IBGE': []}"
      ]
     },
     "metadata": {},
     "execution_count": 8
    }
   ],
   "source": [
    "# Localidades disponíveis\n",
    "meta.localidades"
   ]
  },
  {
   "cell_type": "code",
   "execution_count": 9,
   "metadata": {},
   "outputs": [
    {
     "output_type": "execute_result",
     "data": {
      "text/plain": [
       "[{'id': 355,\n",
       "  'nome': 'IPCA15 - Variação mensal',\n",
       "  'unidade': '%',\n",
       "  'sumarizacao': []},\n",
       " {'id': 356,\n",
       "  'nome': 'IPCA15 - Variação acumulada no ano',\n",
       "  'unidade': '%',\n",
       "  'sumarizacao': []},\n",
       " {'id': 1120,\n",
       "  'nome': 'IPCA15 - Variação acumulada em 12 meses',\n",
       "  'unidade': '%',\n",
       "  'sumarizacao': []},\n",
       " {'id': 357,\n",
       "  'nome': 'IPCA15 - Peso mensal',\n",
       "  'unidade': '%',\n",
       "  'sumarizacao': []}]"
      ]
     },
     "metadata": {},
     "execution_count": 9
    }
   ],
   "source": [
    "# Variáveis disponíveis\n",
    "meta.variaveis"
   ]
  },
  {
   "cell_type": "code",
   "execution_count": 10,
   "metadata": {},
   "outputs": [
    {
     "output_type": "execute_result",
     "data": {
      "text/plain": [
       "[7169, 7170, 7171, 7172, 7173, 7175, 7176, 7177, 12222, 7184]"
      ]
     },
     "metadata": {},
     "execution_count": 10
    }
   ],
   "source": [
    "# Aqui precisamos navegar pelo dictionaty de categorias para capturar uma lista de todas as ids\n",
    "categorias = [cat['id'] for cat in meta.classificacoes[0]['categorias']]\n",
    "\n",
    "categorias[:10]"
   ]
  },
  {
   "cell_type": "code",
   "execution_count": 11,
   "metadata": {},
   "outputs": [
    {
     "output_type": "execute_result",
     "data": {
      "text/plain": [
       "      Nível Territorial (Código) Nível Territorial Mês (Código)  \\\n",
       "5131                           1            Brasil       201512   \n",
       "15263                          1            Brasil       201711   \n",
       "711                            1            Brasil       201502   \n",
       "9315                           1            Brasil       201609   \n",
       "25219                          1            Brasil       201909   \n",
       "21737                          1            Brasil       201901   \n",
       "10428                          1            Brasil       201612   \n",
       "10036                          1            Brasil       201611   \n",
       "2697                           1            Brasil       201507   \n",
       "3036                           1            Brasil       201507   \n",
       "\n",
       "                  Mês Variável (Código)                  Variável  \\\n",
       "5131    dezembro 2015               355  IPCA15 - Variação mensal   \n",
       "15263   novembro 2017               355  IPCA15 - Variação mensal   \n",
       "711    fevereiro 2015               355  IPCA15 - Variação mensal   \n",
       "9315    setembro 2016               355  IPCA15 - Variação mensal   \n",
       "25219   setembro 2019               355  IPCA15 - Variação mensal   \n",
       "21737    janeiro 2019               355  IPCA15 - Variação mensal   \n",
       "10428   dezembro 2016               355  IPCA15 - Variação mensal   \n",
       "10036   novembro 2016               355  IPCA15 - Variação mensal   \n",
       "2697       julho 2015               355  IPCA15 - Variação mensal   \n",
       "3036       julho 2015               355  IPCA15 - Variação mensal   \n",
       "\n",
       "      Brasil (Código)  Brasil Geral, grupo, subgrupo, item e subitem (Código)  \\\n",
       "5131                1  Brasil                                            7508   \n",
       "15263               1  Brasil                                           12432   \n",
       "711                 1  Brasil                                            7575   \n",
       "9315                1  Brasil                                            7735   \n",
       "25219               1  Brasil                                          107647   \n",
       "21737               1  Brasil                                            7659   \n",
       "10428               1  Brasil                                          107633   \n",
       "10036               1  Brasil                                          107645   \n",
       "2697                1  Brasil                                            7203   \n",
       "3036                1  Brasil                                            7692   \n",
       "\n",
       "      Geral, grupo, subgrupo, item e subitem Unidade de Medida (Código)  \\\n",
       "5131                 3102035.Flores naturais                          2   \n",
       "15263               1108083.Peixe - tucunaré                          2   \n",
       "711                             4102004.Saia                          2   \n",
       "9315             7201010.Instrumento musical                          2   \n",
       "25219                3202005.Aparelho de DVD                          2   \n",
       "21737                    5104003.Óleo diesel                          2   \n",
       "10428    1201007.Refrigerante e água mineral                          2   \n",
       "10036         3102010.Utensílios de plástico                          2   \n",
       "2697                          1103004.Inhame                          2   \n",
       "3036       6202004.Hospitalização e cirurgia                          2   \n",
       "\n",
       "      Unidade de Medida  Valor  \n",
       "5131                  %   2.18  \n",
       "15263                 %  -0.38  \n",
       "711                   %  -0.82  \n",
       "9315                  %   1.52  \n",
       "25219                 %   0.52  \n",
       "21737                 %  -3.43  \n",
       "10428                 %   0.91  \n",
       "10036                 %   1.24  \n",
       "2697                  %  -1.98  \n",
       "3036                  %   0.31  "
      ],
      "text/html": "<div>\n<style scoped>\n    .dataframe tbody tr th:only-of-type {\n        vertical-align: middle;\n    }\n\n    .dataframe tbody tr th {\n        vertical-align: top;\n    }\n\n    .dataframe thead th {\n        text-align: right;\n    }\n</style>\n<table border=\"1\" class=\"dataframe\">\n  <thead>\n    <tr style=\"text-align: right;\">\n      <th></th>\n      <th>Nível Territorial (Código)</th>\n      <th>Nível Territorial</th>\n      <th>Mês (Código)</th>\n      <th>Mês</th>\n      <th>Variável (Código)</th>\n      <th>Variável</th>\n      <th>Brasil (Código)</th>\n      <th>Brasil</th>\n      <th>Geral, grupo, subgrupo, item e subitem (Código)</th>\n      <th>Geral, grupo, subgrupo, item e subitem</th>\n      <th>Unidade de Medida (Código)</th>\n      <th>Unidade de Medida</th>\n      <th>Valor</th>\n    </tr>\n  </thead>\n  <tbody>\n    <tr>\n      <th>5131</th>\n      <td>1</td>\n      <td>Brasil</td>\n      <td>201512</td>\n      <td>dezembro 2015</td>\n      <td>355</td>\n      <td>IPCA15 - Variação mensal</td>\n      <td>1</td>\n      <td>Brasil</td>\n      <td>7508</td>\n      <td>3102035.Flores naturais</td>\n      <td>2</td>\n      <td>%</td>\n      <td>2.18</td>\n    </tr>\n    <tr>\n      <th>15263</th>\n      <td>1</td>\n      <td>Brasil</td>\n      <td>201711</td>\n      <td>novembro 2017</td>\n      <td>355</td>\n      <td>IPCA15 - Variação mensal</td>\n      <td>1</td>\n      <td>Brasil</td>\n      <td>12432</td>\n      <td>1108083.Peixe - tucunaré</td>\n      <td>2</td>\n      <td>%</td>\n      <td>-0.38</td>\n    </tr>\n    <tr>\n      <th>711</th>\n      <td>1</td>\n      <td>Brasil</td>\n      <td>201502</td>\n      <td>fevereiro 2015</td>\n      <td>355</td>\n      <td>IPCA15 - Variação mensal</td>\n      <td>1</td>\n      <td>Brasil</td>\n      <td>7575</td>\n      <td>4102004.Saia</td>\n      <td>2</td>\n      <td>%</td>\n      <td>-0.82</td>\n    </tr>\n    <tr>\n      <th>9315</th>\n      <td>1</td>\n      <td>Brasil</td>\n      <td>201609</td>\n      <td>setembro 2016</td>\n      <td>355</td>\n      <td>IPCA15 - Variação mensal</td>\n      <td>1</td>\n      <td>Brasil</td>\n      <td>7735</td>\n      <td>7201010.Instrumento musical</td>\n      <td>2</td>\n      <td>%</td>\n      <td>1.52</td>\n    </tr>\n    <tr>\n      <th>25219</th>\n      <td>1</td>\n      <td>Brasil</td>\n      <td>201909</td>\n      <td>setembro 2019</td>\n      <td>355</td>\n      <td>IPCA15 - Variação mensal</td>\n      <td>1</td>\n      <td>Brasil</td>\n      <td>107647</td>\n      <td>3202005.Aparelho de DVD</td>\n      <td>2</td>\n      <td>%</td>\n      <td>0.52</td>\n    </tr>\n    <tr>\n      <th>21737</th>\n      <td>1</td>\n      <td>Brasil</td>\n      <td>201901</td>\n      <td>janeiro 2019</td>\n      <td>355</td>\n      <td>IPCA15 - Variação mensal</td>\n      <td>1</td>\n      <td>Brasil</td>\n      <td>7659</td>\n      <td>5104003.Óleo diesel</td>\n      <td>2</td>\n      <td>%</td>\n      <td>-3.43</td>\n    </tr>\n    <tr>\n      <th>10428</th>\n      <td>1</td>\n      <td>Brasil</td>\n      <td>201612</td>\n      <td>dezembro 2016</td>\n      <td>355</td>\n      <td>IPCA15 - Variação mensal</td>\n      <td>1</td>\n      <td>Brasil</td>\n      <td>107633</td>\n      <td>1201007.Refrigerante e água mineral</td>\n      <td>2</td>\n      <td>%</td>\n      <td>0.91</td>\n    </tr>\n    <tr>\n      <th>10036</th>\n      <td>1</td>\n      <td>Brasil</td>\n      <td>201611</td>\n      <td>novembro 2016</td>\n      <td>355</td>\n      <td>IPCA15 - Variação mensal</td>\n      <td>1</td>\n      <td>Brasil</td>\n      <td>107645</td>\n      <td>3102010.Utensílios de plástico</td>\n      <td>2</td>\n      <td>%</td>\n      <td>1.24</td>\n    </tr>\n    <tr>\n      <th>2697</th>\n      <td>1</td>\n      <td>Brasil</td>\n      <td>201507</td>\n      <td>julho 2015</td>\n      <td>355</td>\n      <td>IPCA15 - Variação mensal</td>\n      <td>1</td>\n      <td>Brasil</td>\n      <td>7203</td>\n      <td>1103004.Inhame</td>\n      <td>2</td>\n      <td>%</td>\n      <td>-1.98</td>\n    </tr>\n    <tr>\n      <th>3036</th>\n      <td>1</td>\n      <td>Brasil</td>\n      <td>201507</td>\n      <td>julho 2015</td>\n      <td>355</td>\n      <td>IPCA15 - Variação mensal</td>\n      <td>1</td>\n      <td>Brasil</td>\n      <td>7692</td>\n      <td>6202004.Hospitalização e cirurgia</td>\n      <td>2</td>\n      <td>%</td>\n      <td>0.31</td>\n    </tr>\n  </tbody>\n</table>\n</div>"
     },
     "metadata": {},
     "execution_count": 11
    }
   ],
   "source": [
    "# Tabela SIDRA\n",
    "df = ibge.sidra(\n",
    "    tabela = 1705,\n",
    "    periodos = '201501-201912',\n",
    "    variaveis = 355,\n",
    "    classificacoes = {315: categorias},\n",
    "    localidades = {1: 'all'}\n",
    ")\n",
    "\n",
    "df.sample(10)"
   ]
  },
  {
   "cell_type": "code",
   "execution_count": 12,
   "metadata": {},
   "outputs": [
    {
     "output_type": "execute_result",
     "data": {
      "text/plain": [
       "Geral, grupo, subgrupo, item e subitem  1.Alimentação e bebidas  \\\n",
       "Mês (Código)                                                      \n",
       "201501                                                     1.45   \n",
       "201502                                                     0.85   \n",
       "201503                                                     1.22   \n",
       "201504                                                     1.04   \n",
       "201505                                                     1.05   \n",
       "201506                                                     1.21   \n",
       "201507                                                     0.64   \n",
       "201508                                                     0.45   \n",
       "201509                                                    -0.06   \n",
       "201510                                                     0.62   \n",
       "\n",
       "Geral, grupo, subgrupo, item e subitem  11.Alimentação no domicílio  \\\n",
       "Mês (Código)                                                          \n",
       "201501                                                         1.73   \n",
       "201502                                                         0.77   \n",
       "201503                                                         1.22   \n",
       "201504                                                         0.93   \n",
       "201505                                                         1.20   \n",
       "201506                                                         1.50   \n",
       "201507                                                         0.50   \n",
       "201508                                                         0.28   \n",
       "201509                                                        -0.37   \n",
       "201510                                                         0.39   \n",
       "\n",
       "Geral, grupo, subgrupo, item e subitem  1101.Cereais, leguminosas e oleaginosas  \\\n",
       "Mês (Código)                                                                      \n",
       "201501                                                                     6.04   \n",
       "201502                                                                     2.88   \n",
       "201503                                                                     2.28   \n",
       "201504                                                                     0.29   \n",
       "201505                                                                    -1.45   \n",
       "201506                                                                    -0.63   \n",
       "201507                                                                    -0.17   \n",
       "201508                                                                    -0.98   \n",
       "201509                                                                    -0.87   \n",
       "201510                                                                     1.50   \n",
       "\n",
       "Geral, grupo, subgrupo, item e subitem  1101002.Arroz  \\\n",
       "Mês (Código)                                            \n",
       "201501                                           1.10   \n",
       "201502                                           0.32   \n",
       "201503                                           0.93   \n",
       "201504                                          -0.45   \n",
       "201505                                          -0.42   \n",
       "201506                                           0.44   \n",
       "201507                                          -0.06   \n",
       "201508                                          -0.46   \n",
       "201509                                          -0.41   \n",
       "201510                                           2.15   \n",
       "\n",
       "Geral, grupo, subgrupo, item e subitem  1101051.Feijão - mulatinho  \\\n",
       "Mês (Código)                                                         \n",
       "201501                                                        2.70   \n",
       "201502                                                        7.02   \n",
       "201503                                                        9.69   \n",
       "201504                                                       -0.16   \n",
       "201505                                                        6.39   \n",
       "201506                                                       -1.28   \n",
       "201507                                                        5.74   \n",
       "201508                                                        5.52   \n",
       "201509                                                       -2.25   \n",
       "201510                                                       -6.31   \n",
       "\n",
       "Geral, grupo, subgrupo, item e subitem  1101052.Feijão - preto  \\\n",
       "Mês (Código)                                                     \n",
       "201501                                                    5.06   \n",
       "201502                                                    1.61   \n",
       "201503                                                    3.04   \n",
       "201504                                                   -1.57   \n",
       "201505                                                   -3.19   \n",
       "201506                                                   -0.80   \n",
       "201507                                                   -2.17   \n",
       "201508                                                   -4.30   \n",
       "201509                                                    1.11   \n",
       "201510                                                   -0.04   \n",
       "\n",
       "Geral, grupo, subgrupo, item e subitem  1101053.Feijão - macassar (fradinho)  \\\n",
       "Mês (Código)                                                                   \n",
       "201501                                                                  8.42   \n",
       "201502                                                                  5.67   \n",
       "201503                                                                  7.57   \n",
       "201504                                                                  3.31   \n",
       "201505                                                                  2.17   \n",
       "201506                                                                 -1.69   \n",
       "201507                                                                 -6.27   \n",
       "201508                                                                 -4.26   \n",
       "201509                                                                 -1.57   \n",
       "201510                                                                 -0.37   \n",
       "\n",
       "Geral, grupo, subgrupo, item e subitem  1101073.Feijão - carioca (rajado)  \\\n",
       "Mês (Código)                                                                \n",
       "201501                                                              24.25   \n",
       "201502                                                              10.07   \n",
       "201503                                                               4.17   \n",
       "201504                                                               2.37   \n",
       "201505                                                              -4.79   \n",
       "201506                                                              -3.15   \n",
       "201507                                                               0.69   \n",
       "201508                                                              -1.48   \n",
       "201509                                                              -2.48   \n",
       "201510                                                               1.35   \n",
       "\n",
       "Geral, grupo, subgrupo, item e subitem  1102.Farinhas, féculas e massas  \\\n",
       "Mês (Código)                                                              \n",
       "201501                                                             0.38   \n",
       "201502                                                             0.51   \n",
       "201503                                                             0.82   \n",
       "201504                                                            -0.11   \n",
       "201505                                                            -0.50   \n",
       "201506                                                             0.52   \n",
       "201507                                                             0.63   \n",
       "201508                                                             1.25   \n",
       "201509                                                             1.06   \n",
       "201510                                                             0.38   \n",
       "\n",
       "Geral, grupo, subgrupo, item e subitem  1102001.Farinha de arroz  ...  \\\n",
       "Mês (Código)                                                      ...   \n",
       "201501                                                      0.41  ...   \n",
       "201502                                                      2.92  ...   \n",
       "201503                                                      3.54  ...   \n",
       "201504                                                      1.97  ...   \n",
       "201505                                                      0.96  ...   \n",
       "201506                                                     -1.35  ...   \n",
       "201507                                                      0.24  ...   \n",
       "201508                                                     -0.15  ...   \n",
       "201509                                                      0.35  ...   \n",
       "201510                                                     -0.19  ...   \n",
       "\n",
       "Geral, grupo, subgrupo, item e subitem  9101.Comunicação  9101001.Correio  \\\n",
       "Mês (Código)                                                                \n",
       "201501                                             -0.04             0.00   \n",
       "201502                                              0.28             0.00   \n",
       "201503                                             -0.78             0.00   \n",
       "201504                                             -0.30             0.00   \n",
       "201505                                              0.22             5.86   \n",
       "201506                                              0.08             0.00   \n",
       "201507                                              0.59             0.00   \n",
       "201508                                              0.11             0.00   \n",
       "201509                                              0.01             0.00   \n",
       "201510                                              0.08             0.00   \n",
       "\n",
       "Geral, grupo, subgrupo, item e subitem  9101002.Telefone fixo  \\\n",
       "Mês (Código)                                                    \n",
       "201501                                                   0.00   \n",
       "201502                                                   0.00   \n",
       "201503                                                  -2.84   \n",
       "201504                                                  -1.94   \n",
       "201505                                                   0.00   \n",
       "201506                                                   0.00   \n",
       "201507                                                   1.28   \n",
       "201508                                                   0.07   \n",
       "201509                                                   0.00   \n",
       "201510                                                   0.32   \n",
       "\n",
       "Geral, grupo, subgrupo, item e subitem  9101003.Telefone público  \\\n",
       "Mês (Código)                                                       \n",
       "201501                                                      0.81   \n",
       "201502                                                      0.47   \n",
       "201503                                                     -0.22   \n",
       "201504                                                      0.24   \n",
       "201505                                                      1.53   \n",
       "201506                                                      0.32   \n",
       "201507                                                      0.04   \n",
       "201508                                                     -0.12   \n",
       "201509                                                      0.07   \n",
       "201510                                                      1.55   \n",
       "\n",
       "Geral, grupo, subgrupo, item e subitem  9101008.Telefone celular  \\\n",
       "Mês (Código)                                                       \n",
       "201501                                                      0.00   \n",
       "201502                                                      0.90   \n",
       "201503                                                      0.00   \n",
       "201504                                                      0.00   \n",
       "201505                                                      0.30   \n",
       "201506                                                      0.03   \n",
       "201507                                                      0.83   \n",
       "201508                                                      0.00   \n",
       "201509                                                      0.08   \n",
       "201510                                                      0.00   \n",
       "\n",
       "Geral, grupo, subgrupo, item e subitem  9101018.Acesso à internet  \\\n",
       "Mês (Código)                                                        \n",
       "201501                                                        0.0   \n",
       "201502                                                        0.0   \n",
       "201503                                                        0.0   \n",
       "201504                                                        0.0   \n",
       "201505                                                        0.0   \n",
       "201506                                                        0.0   \n",
       "201507                                                        0.0   \n",
       "201508                                                        0.0   \n",
       "201509                                                        0.0   \n",
       "201510                                                        0.0   \n",
       "\n",
       "Geral, grupo, subgrupo, item e subitem  9101019.Aparelho telefônico  \\\n",
       "Mês (Código)                                                          \n",
       "201501                                                        -1.41   \n",
       "201502                                                        -0.65   \n",
       "201503                                                         0.29   \n",
       "201504                                                         0.07   \n",
       "201505                                                         0.03   \n",
       "201506                                                         1.29   \n",
       "201507                                                        -0.59   \n",
       "201508                                                        -0.54   \n",
       "201509                                                        -0.28   \n",
       "201510                                                        -1.25   \n",
       "\n",
       "Geral, grupo, subgrupo, item e subitem  9101021.Telefone com internet - pacote  \\\n",
       "Mês (Código)                                                                     \n",
       "201501                                                                    0.00   \n",
       "201502                                                                    0.00   \n",
       "201503                                                                    0.00   \n",
       "201504                                                                    1.18   \n",
       "201505                                                                    0.34   \n",
       "201506                                                                    0.00   \n",
       "201507                                                                    0.00   \n",
       "201508                                                                    0.65   \n",
       "201509                                                                    0.00   \n",
       "201510                                                                    0.00   \n",
       "\n",
       "Geral, grupo, subgrupo, item e subitem  9101022.TV por assinatura com internet  \\\n",
       "Mês (Código)                                                                     \n",
       "201501                                                                    0.00   \n",
       "201502                                                                    0.11   \n",
       "201503                                                                    0.00   \n",
       "201504                                                                    0.00   \n",
       "201505                                                                    0.00   \n",
       "201506                                                                    0.00   \n",
       "201507                                                                    0.00   \n",
       "201508                                                                    0.00   \n",
       "201509                                                                    0.00   \n",
       "201510                                                                    0.00   \n",
       "\n",
       "Geral, grupo, subgrupo, item e subitem  Índice geral  \n",
       "Mês (Código)                                          \n",
       "201501                                          0.89  \n",
       "201502                                          1.33  \n",
       "201503                                          1.24  \n",
       "201504                                          1.07  \n",
       "201505                                          0.60  \n",
       "201506                                          0.99  \n",
       "201507                                          0.59  \n",
       "201508                                          0.43  \n",
       "201509                                          0.39  \n",
       "201510                                          0.66  \n",
       "\n",
       "[10 rows x 446 columns]"
      ],
      "text/html": "<div>\n<style scoped>\n    .dataframe tbody tr th:only-of-type {\n        vertical-align: middle;\n    }\n\n    .dataframe tbody tr th {\n        vertical-align: top;\n    }\n\n    .dataframe thead th {\n        text-align: right;\n    }\n</style>\n<table border=\"1\" class=\"dataframe\">\n  <thead>\n    <tr style=\"text-align: right;\">\n      <th>Geral, grupo, subgrupo, item e subitem</th>\n      <th>1.Alimentação e bebidas</th>\n      <th>11.Alimentação no domicílio</th>\n      <th>1101.Cereais, leguminosas e oleaginosas</th>\n      <th>1101002.Arroz</th>\n      <th>1101051.Feijão - mulatinho</th>\n      <th>1101052.Feijão - preto</th>\n      <th>1101053.Feijão - macassar (fradinho)</th>\n      <th>1101073.Feijão - carioca (rajado)</th>\n      <th>1102.Farinhas, féculas e massas</th>\n      <th>1102001.Farinha de arroz</th>\n      <th>...</th>\n      <th>9101.Comunicação</th>\n      <th>9101001.Correio</th>\n      <th>9101002.Telefone fixo</th>\n      <th>9101003.Telefone público</th>\n      <th>9101008.Telefone celular</th>\n      <th>9101018.Acesso à internet</th>\n      <th>9101019.Aparelho telefônico</th>\n      <th>9101021.Telefone com internet - pacote</th>\n      <th>9101022.TV por assinatura com internet</th>\n      <th>Índice geral</th>\n    </tr>\n    <tr>\n      <th>Mês (Código)</th>\n      <th></th>\n      <th></th>\n      <th></th>\n      <th></th>\n      <th></th>\n      <th></th>\n      <th></th>\n      <th></th>\n      <th></th>\n      <th></th>\n      <th></th>\n      <th></th>\n      <th></th>\n      <th></th>\n      <th></th>\n      <th></th>\n      <th></th>\n      <th></th>\n      <th></th>\n      <th></th>\n      <th></th>\n    </tr>\n  </thead>\n  <tbody>\n    <tr>\n      <th>201501</th>\n      <td>1.45</td>\n      <td>1.73</td>\n      <td>6.04</td>\n      <td>1.10</td>\n      <td>2.70</td>\n      <td>5.06</td>\n      <td>8.42</td>\n      <td>24.25</td>\n      <td>0.38</td>\n      <td>0.41</td>\n      <td>...</td>\n      <td>-0.04</td>\n      <td>0.00</td>\n      <td>0.00</td>\n      <td>0.81</td>\n      <td>0.00</td>\n      <td>0.0</td>\n      <td>-1.41</td>\n      <td>0.00</td>\n      <td>0.00</td>\n      <td>0.89</td>\n    </tr>\n    <tr>\n      <th>201502</th>\n      <td>0.85</td>\n      <td>0.77</td>\n      <td>2.88</td>\n      <td>0.32</td>\n      <td>7.02</td>\n      <td>1.61</td>\n      <td>5.67</td>\n      <td>10.07</td>\n      <td>0.51</td>\n      <td>2.92</td>\n      <td>...</td>\n      <td>0.28</td>\n      <td>0.00</td>\n      <td>0.00</td>\n      <td>0.47</td>\n      <td>0.90</td>\n      <td>0.0</td>\n      <td>-0.65</td>\n      <td>0.00</td>\n      <td>0.11</td>\n      <td>1.33</td>\n    </tr>\n    <tr>\n      <th>201503</th>\n      <td>1.22</td>\n      <td>1.22</td>\n      <td>2.28</td>\n      <td>0.93</td>\n      <td>9.69</td>\n      <td>3.04</td>\n      <td>7.57</td>\n      <td>4.17</td>\n      <td>0.82</td>\n      <td>3.54</td>\n      <td>...</td>\n      <td>-0.78</td>\n      <td>0.00</td>\n      <td>-2.84</td>\n      <td>-0.22</td>\n      <td>0.00</td>\n      <td>0.0</td>\n      <td>0.29</td>\n      <td>0.00</td>\n      <td>0.00</td>\n      <td>1.24</td>\n    </tr>\n    <tr>\n      <th>201504</th>\n      <td>1.04</td>\n      <td>0.93</td>\n      <td>0.29</td>\n      <td>-0.45</td>\n      <td>-0.16</td>\n      <td>-1.57</td>\n      <td>3.31</td>\n      <td>2.37</td>\n      <td>-0.11</td>\n      <td>1.97</td>\n      <td>...</td>\n      <td>-0.30</td>\n      <td>0.00</td>\n      <td>-1.94</td>\n      <td>0.24</td>\n      <td>0.00</td>\n      <td>0.0</td>\n      <td>0.07</td>\n      <td>1.18</td>\n      <td>0.00</td>\n      <td>1.07</td>\n    </tr>\n    <tr>\n      <th>201505</th>\n      <td>1.05</td>\n      <td>1.20</td>\n      <td>-1.45</td>\n      <td>-0.42</td>\n      <td>6.39</td>\n      <td>-3.19</td>\n      <td>2.17</td>\n      <td>-4.79</td>\n      <td>-0.50</td>\n      <td>0.96</td>\n      <td>...</td>\n      <td>0.22</td>\n      <td>5.86</td>\n      <td>0.00</td>\n      <td>1.53</td>\n      <td>0.30</td>\n      <td>0.0</td>\n      <td>0.03</td>\n      <td>0.34</td>\n      <td>0.00</td>\n      <td>0.60</td>\n    </tr>\n    <tr>\n      <th>201506</th>\n      <td>1.21</td>\n      <td>1.50</td>\n      <td>-0.63</td>\n      <td>0.44</td>\n      <td>-1.28</td>\n      <td>-0.80</td>\n      <td>-1.69</td>\n      <td>-3.15</td>\n      <td>0.52</td>\n      <td>-1.35</td>\n      <td>...</td>\n      <td>0.08</td>\n      <td>0.00</td>\n      <td>0.00</td>\n      <td>0.32</td>\n      <td>0.03</td>\n      <td>0.0</td>\n      <td>1.29</td>\n      <td>0.00</td>\n      <td>0.00</td>\n      <td>0.99</td>\n    </tr>\n    <tr>\n      <th>201507</th>\n      <td>0.64</td>\n      <td>0.50</td>\n      <td>-0.17</td>\n      <td>-0.06</td>\n      <td>5.74</td>\n      <td>-2.17</td>\n      <td>-6.27</td>\n      <td>0.69</td>\n      <td>0.63</td>\n      <td>0.24</td>\n      <td>...</td>\n      <td>0.59</td>\n      <td>0.00</td>\n      <td>1.28</td>\n      <td>0.04</td>\n      <td>0.83</td>\n      <td>0.0</td>\n      <td>-0.59</td>\n      <td>0.00</td>\n      <td>0.00</td>\n      <td>0.59</td>\n    </tr>\n    <tr>\n      <th>201508</th>\n      <td>0.45</td>\n      <td>0.28</td>\n      <td>-0.98</td>\n      <td>-0.46</td>\n      <td>5.52</td>\n      <td>-4.30</td>\n      <td>-4.26</td>\n      <td>-1.48</td>\n      <td>1.25</td>\n      <td>-0.15</td>\n      <td>...</td>\n      <td>0.11</td>\n      <td>0.00</td>\n      <td>0.07</td>\n      <td>-0.12</td>\n      <td>0.00</td>\n      <td>0.0</td>\n      <td>-0.54</td>\n      <td>0.65</td>\n      <td>0.00</td>\n      <td>0.43</td>\n    </tr>\n    <tr>\n      <th>201509</th>\n      <td>-0.06</td>\n      <td>-0.37</td>\n      <td>-0.87</td>\n      <td>-0.41</td>\n      <td>-2.25</td>\n      <td>1.11</td>\n      <td>-1.57</td>\n      <td>-2.48</td>\n      <td>1.06</td>\n      <td>0.35</td>\n      <td>...</td>\n      <td>0.01</td>\n      <td>0.00</td>\n      <td>0.00</td>\n      <td>0.07</td>\n      <td>0.08</td>\n      <td>0.0</td>\n      <td>-0.28</td>\n      <td>0.00</td>\n      <td>0.00</td>\n      <td>0.39</td>\n    </tr>\n    <tr>\n      <th>201510</th>\n      <td>0.62</td>\n      <td>0.39</td>\n      <td>1.50</td>\n      <td>2.15</td>\n      <td>-6.31</td>\n      <td>-0.04</td>\n      <td>-0.37</td>\n      <td>1.35</td>\n      <td>0.38</td>\n      <td>-0.19</td>\n      <td>...</td>\n      <td>0.08</td>\n      <td>0.00</td>\n      <td>0.32</td>\n      <td>1.55</td>\n      <td>0.00</td>\n      <td>0.0</td>\n      <td>-1.25</td>\n      <td>0.00</td>\n      <td>0.00</td>\n      <td>0.66</td>\n    </tr>\n  </tbody>\n</table>\n<p>10 rows × 446 columns</p>\n</div>"
     },
     "metadata": {},
     "execution_count": 12
    }
   ],
   "source": [
    "series = df.pivot(\n",
    "    index = 'Mês (Código)',\n",
    "    columns = 'Geral, grupo, subgrupo, item e subitem',\n",
    "    values = 'Valor'\n",
    ").astype(float)\n",
    "\n",
    "series.head(10)"
   ]
  },
  {
   "cell_type": "markdown",
   "metadata": {},
   "source": [
    "#### 3. Formatar DataFrame de câmbio para que colunas coincidam"
   ]
  },
  {
   "cell_type": "code",
   "execution_count": 13,
   "metadata": {},
   "outputs": [
    {
     "output_type": "execute_result",
     "data": {
      "text/plain": [
       "             USD\n",
       "Data            \n",
       "201501  0.002297\n",
       "201502  0.081095\n",
       "201503  0.114586\n",
       "201504 -0.066833\n",
       "201505  0.061865\n",
       "201506 -0.023971\n",
       "201507  0.093921\n",
       "201508  0.074455\n",
       "201509  0.089451\n",
       "201510 -0.028694"
      ],
      "text/html": "<div>\n<style scoped>\n    .dataframe tbody tr th:only-of-type {\n        vertical-align: middle;\n    }\n\n    .dataframe tbody tr th {\n        vertical-align: top;\n    }\n\n    .dataframe thead th {\n        text-align: right;\n    }\n</style>\n<table border=\"1\" class=\"dataframe\">\n  <thead>\n    <tr style=\"text-align: right;\">\n      <th></th>\n      <th>USD</th>\n    </tr>\n    <tr>\n      <th>Data</th>\n      <th></th>\n    </tr>\n  </thead>\n  <tbody>\n    <tr>\n      <th>201501</th>\n      <td>0.002297</td>\n    </tr>\n    <tr>\n      <th>201502</th>\n      <td>0.081095</td>\n    </tr>\n    <tr>\n      <th>201503</th>\n      <td>0.114586</td>\n    </tr>\n    <tr>\n      <th>201504</th>\n      <td>-0.066833</td>\n    </tr>\n    <tr>\n      <th>201505</th>\n      <td>0.061865</td>\n    </tr>\n    <tr>\n      <th>201506</th>\n      <td>-0.023971</td>\n    </tr>\n    <tr>\n      <th>201507</th>\n      <td>0.093921</td>\n    </tr>\n    <tr>\n      <th>201508</th>\n      <td>0.074455</td>\n    </tr>\n    <tr>\n      <th>201509</th>\n      <td>0.089451</td>\n    </tr>\n    <tr>\n      <th>201510</th>\n      <td>-0.028694</td>\n    </tr>\n  </tbody>\n</table>\n</div>"
     },
     "metadata": {},
     "execution_count": 13
    }
   ],
   "source": [
    "dolar.Data = dolar.Data.dt.strftime('%Y%m')\n",
    "dolar.set_index('Data', inplace=True)\n",
    "\n",
    "dolar.head(10)"
   ]
  },
  {
   "cell_type": "markdown",
   "metadata": {},
   "source": [
    "#### 4. Correlação"
   ]
  },
  {
   "cell_type": "code",
   "execution_count": 14,
   "metadata": {},
   "outputs": [
    {
     "output_type": "execute_result",
     "data": {
      "text/plain": [
       "                            Itens  Correlação\n",
       "175      21.Encargos e manutenção   -0.026251\n",
       "45                    1106.Frutas   -0.018889\n",
       "358  6202003.Exame de laboratório    0.011827\n",
       "174                   2.Habitação    0.251669\n",
       "375       6301017.Papel higiênico    0.096328\n",
       "103              1109008.Linguiça   -0.092342\n",
       "325  5104.Combustíveis (veículos)    0.069121\n",
       "81                  1108.Pescados   -0.046662\n",
       "79                  1107096.Peito   -0.164978\n",
       "219                3102005.Tapete    0.036436"
      ],
      "text/html": "<div>\n<style scoped>\n    .dataframe tbody tr th:only-of-type {\n        vertical-align: middle;\n    }\n\n    .dataframe tbody tr th {\n        vertical-align: top;\n    }\n\n    .dataframe thead th {\n        text-align: right;\n    }\n</style>\n<table border=\"1\" class=\"dataframe\">\n  <thead>\n    <tr style=\"text-align: right;\">\n      <th></th>\n      <th>Itens</th>\n      <th>Correlação</th>\n    </tr>\n  </thead>\n  <tbody>\n    <tr>\n      <th>175</th>\n      <td>21.Encargos e manutenção</td>\n      <td>-0.026251</td>\n    </tr>\n    <tr>\n      <th>45</th>\n      <td>1106.Frutas</td>\n      <td>-0.018889</td>\n    </tr>\n    <tr>\n      <th>358</th>\n      <td>6202003.Exame de laboratório</td>\n      <td>0.011827</td>\n    </tr>\n    <tr>\n      <th>174</th>\n      <td>2.Habitação</td>\n      <td>0.251669</td>\n    </tr>\n    <tr>\n      <th>375</th>\n      <td>6301017.Papel higiênico</td>\n      <td>0.096328</td>\n    </tr>\n    <tr>\n      <th>103</th>\n      <td>1109008.Linguiça</td>\n      <td>-0.092342</td>\n    </tr>\n    <tr>\n      <th>325</th>\n      <td>5104.Combustíveis (veículos)</td>\n      <td>0.069121</td>\n    </tr>\n    <tr>\n      <th>81</th>\n      <td>1108.Pescados</td>\n      <td>-0.046662</td>\n    </tr>\n    <tr>\n      <th>79</th>\n      <td>1107096.Peito</td>\n      <td>-0.164978</td>\n    </tr>\n    <tr>\n      <th>219</th>\n      <td>3102005.Tapete</td>\n      <td>0.036436</td>\n    </tr>\n  </tbody>\n</table>\n</div>"
     },
     "metadata": {},
     "execution_count": 14
    }
   ],
   "source": [
    "corr = [[col, np.corrcoef(x=dolar.USD, y=series[col])[0,1]] \\\n",
    "    for col in series.columns]\n",
    "\n",
    "corr = pd.DataFrame(corr, columns=['Itens', 'Correlação'])\n",
    "\n",
    "corr.sample(10)"
   ]
  },
  {
   "cell_type": "code",
   "execution_count": 15,
   "metadata": {},
   "outputs": [
    {
     "output_type": "execute_result",
     "data": {
      "text/plain": [
       "                                    Itens  Correlação\n",
       "400            7201054.Boate e danceteria    0.400803\n",
       "214             3101003.Móvel para quarto    0.325490\n",
       "145            1115017.Pepino em conserva    0.320569\n",
       "329                  5104005.Gás veicular    0.306430\n",
       "221           3102007.Utensílios de metal    0.304604\n",
       "310                5102001.Automóvel novo    0.299042\n",
       "208     2202.Energia elétrica residencial    0.289758\n",
       "209  2202003.Energia elétrica residencial    0.289758\n",
       "203             22.Combustíveis e energia    0.277848\n",
       "171                       1201048.Cerveja    0.272757"
      ],
      "text/html": "<div>\n<style scoped>\n    .dataframe tbody tr th:only-of-type {\n        vertical-align: middle;\n    }\n\n    .dataframe tbody tr th {\n        vertical-align: top;\n    }\n\n    .dataframe thead th {\n        text-align: right;\n    }\n</style>\n<table border=\"1\" class=\"dataframe\">\n  <thead>\n    <tr style=\"text-align: right;\">\n      <th></th>\n      <th>Itens</th>\n      <th>Correlação</th>\n    </tr>\n  </thead>\n  <tbody>\n    <tr>\n      <th>400</th>\n      <td>7201054.Boate e danceteria</td>\n      <td>0.400803</td>\n    </tr>\n    <tr>\n      <th>214</th>\n      <td>3101003.Móvel para quarto</td>\n      <td>0.325490</td>\n    </tr>\n    <tr>\n      <th>145</th>\n      <td>1115017.Pepino em conserva</td>\n      <td>0.320569</td>\n    </tr>\n    <tr>\n      <th>329</th>\n      <td>5104005.Gás veicular</td>\n      <td>0.306430</td>\n    </tr>\n    <tr>\n      <th>221</th>\n      <td>3102007.Utensílios de metal</td>\n      <td>0.304604</td>\n    </tr>\n    <tr>\n      <th>310</th>\n      <td>5102001.Automóvel novo</td>\n      <td>0.299042</td>\n    </tr>\n    <tr>\n      <th>208</th>\n      <td>2202.Energia elétrica residencial</td>\n      <td>0.289758</td>\n    </tr>\n    <tr>\n      <th>209</th>\n      <td>2202003.Energia elétrica residencial</td>\n      <td>0.289758</td>\n    </tr>\n    <tr>\n      <th>203</th>\n      <td>22.Combustíveis e energia</td>\n      <td>0.277848</td>\n    </tr>\n    <tr>\n      <th>171</th>\n      <td>1201048.Cerveja</td>\n      <td>0.272757</td>\n    </tr>\n  </tbody>\n</table>\n</div>"
     },
     "metadata": {},
     "execution_count": 15
    }
   ],
   "source": [
    "# Maior correlação positiva com dólar\n",
    "corr.sort_values('Correlação', ascending=False).head(10)"
   ]
  },
  {
   "cell_type": "code",
   "execution_count": 16,
   "metadata": {},
   "outputs": [
    {
     "output_type": "execute_result",
     "data": {
      "text/plain": [
       "                                   Itens  Correlação\n",
       "120                     1111031.Manteiga   -0.380618\n",
       "291             4301004.Relógio de pulso   -0.353403\n",
       "425                      8103001.Caderno   -0.333411\n",
       "305               5101010.Passagem aérea   -0.322829\n",
       "131                    1113040.Margarina   -0.297855\n",
       "324                  5102053.Motocicleta   -0.286491\n",
       "128                1113.Óleos e gorduras   -0.284880\n",
       "299              5101.Transporte público   -0.280395\n",
       "260    4101009.Camisa/camiseta masculina   -0.268817\n",
       "249  3301009.Conserto de aparelho de som   -0.262327"
      ],
      "text/html": "<div>\n<style scoped>\n    .dataframe tbody tr th:only-of-type {\n        vertical-align: middle;\n    }\n\n    .dataframe tbody tr th {\n        vertical-align: top;\n    }\n\n    .dataframe thead th {\n        text-align: right;\n    }\n</style>\n<table border=\"1\" class=\"dataframe\">\n  <thead>\n    <tr style=\"text-align: right;\">\n      <th></th>\n      <th>Itens</th>\n      <th>Correlação</th>\n    </tr>\n  </thead>\n  <tbody>\n    <tr>\n      <th>120</th>\n      <td>1111031.Manteiga</td>\n      <td>-0.380618</td>\n    </tr>\n    <tr>\n      <th>291</th>\n      <td>4301004.Relógio de pulso</td>\n      <td>-0.353403</td>\n    </tr>\n    <tr>\n      <th>425</th>\n      <td>8103001.Caderno</td>\n      <td>-0.333411</td>\n    </tr>\n    <tr>\n      <th>305</th>\n      <td>5101010.Passagem aérea</td>\n      <td>-0.322829</td>\n    </tr>\n    <tr>\n      <th>131</th>\n      <td>1113040.Margarina</td>\n      <td>-0.297855</td>\n    </tr>\n    <tr>\n      <th>324</th>\n      <td>5102053.Motocicleta</td>\n      <td>-0.286491</td>\n    </tr>\n    <tr>\n      <th>128</th>\n      <td>1113.Óleos e gorduras</td>\n      <td>-0.284880</td>\n    </tr>\n    <tr>\n      <th>299</th>\n      <td>5101.Transporte público</td>\n      <td>-0.280395</td>\n    </tr>\n    <tr>\n      <th>260</th>\n      <td>4101009.Camisa/camiseta masculina</td>\n      <td>-0.268817</td>\n    </tr>\n    <tr>\n      <th>249</th>\n      <td>3301009.Conserto de aparelho de som</td>\n      <td>-0.262327</td>\n    </tr>\n  </tbody>\n</table>\n</div>"
     },
     "metadata": {},
     "execution_count": 16
    }
   ],
   "source": [
    "# Maior correlação negativa com dólar\n",
    "corr.sort_values('Correlação', ascending=True).head(10)"
   ]
  },
  {
   "cell_type": "markdown",
   "metadata": {},
   "source": [
    "#### 5. Plottar os dois itens mais correlacionados"
   ]
  },
  {
   "cell_type": "code",
   "execution_count": 17,
   "metadata": {},
   "outputs": [
    {
     "output_type": "display_data",
     "data": {
      "text/plain": "<Figure size 720x1080 with 2 Axes>",
      "image/svg+xml": "<?xml version=\"1.0\" encoding=\"utf-8\" standalone=\"no\"?>\r\n<!DOCTYPE svg PUBLIC \"-//W3C//DTD SVG 1.1//EN\"\r\n  \"http://www.w3.org/Graphics/SVG/1.1/DTD/svg11.dtd\">\r\n<!-- Created with matplotlib (https://matplotlib.org/) -->\r\n<svg height=\"846.478125pt\" version=\"1.1\" viewBox=\"0 0 607.820312 846.478125\" width=\"607.820312pt\" xmlns=\"http://www.w3.org/2000/svg\" xmlns:xlink=\"http://www.w3.org/1999/xlink\">\r\n <defs>\r\n  <style type=\"text/css\">\r\n*{stroke-linecap:butt;stroke-linejoin:round;}\r\n  </style>\r\n </defs>\r\n <g id=\"figure_1\">\r\n  <g id=\"patch_1\">\r\n   <path d=\"M 0 846.478125 \r\nL 607.820312 846.478125 \r\nL 607.820312 0 \r\nL 0 0 \r\nz\r\n\" style=\"fill:none;\"/>\r\n  </g>\r\n  <g id=\"axes_1\">\r\n   <g id=\"patch_2\">\r\n    <path d=\"M 42.620313 377.836364 \r\nL 600.620312 377.836364 \r\nL 600.620312 7.2 \r\nL 42.620313 7.2 \r\nz\r\n\" style=\"fill:#ffffff;\"/>\r\n   </g>\r\n   <g id=\"PathCollection_1\">\r\n    <defs>\r\n     <path d=\"M 0 3 \r\nC 0.795609 3 1.55874 2.683901 2.12132 2.12132 \r\nC 2.683901 1.55874 3 0.795609 3 0 \r\nC 3 -0.795609 2.683901 -1.55874 2.12132 -2.12132 \r\nC 1.55874 -2.683901 0.795609 -3 0 -3 \r\nC -0.795609 -3 -1.55874 -2.683901 -2.12132 -2.12132 \r\nC -2.683901 -1.55874 -3 -0.795609 -3 0 \r\nC -3 0.795609 -2.683901 1.55874 -2.12132 2.12132 \r\nC -1.55874 2.683901 -0.795609 3 0 3 \r\nz\r\n\" id=\"m73a259c802\" style=\"stroke:#1f77b4;\"/>\r\n    </defs>\r\n    <g clip-path=\"url(#p5b3ad6dfff)\">\r\n     <use style=\"fill:#1f77b4;stroke:#1f77b4;\" x=\"318.396291\" xlink:href=\"#m73a259c802\" y=\"226.700719\"/>\r\n     <use style=\"fill:#1f77b4;stroke:#1f77b4;\" x=\"498.648021\" xlink:href=\"#m73a259c802\" y=\"121.101096\"/>\r\n     <use style=\"fill:#1f77b4;stroke:#1f77b4;\" x=\"575.256676\" xlink:href=\"#m73a259c802\" y=\"122.321901\"/>\r\n     <use style=\"fill:#1f77b4;stroke:#1f77b4;\" x=\"160.263136\" xlink:href=\"#m73a259c802\" y=\"191.907779\"/>\r\n     <use style=\"fill:#1f77b4;stroke:#1f77b4;\" x=\"454.659557\" xlink:href=\"#m73a259c802\" y=\"194.349389\"/>\r\n     <use style=\"fill:#1f77b4;stroke:#1f77b4;\" x=\"258.308804\" xlink:href=\"#m73a259c802\" y=\"240.129572\"/>\r\n     <use style=\"fill:#1f77b4;stroke:#1f77b4;\" x=\"527.987267\" xlink:href=\"#m73a259c802\" y=\"194.349389\"/>\r\n     <use style=\"fill:#1f77b4;stroke:#1f77b4;\" x=\"483.458208\" xlink:href=\"#m73a259c802\" y=\"24.047107\"/>\r\n     <use style=\"fill:#1f77b4;stroke:#1f77b4;\" x=\"517.761046\" xlink:href=\"#m73a259c802\" y=\"277.364121\"/>\r\n     <use style=\"fill:#1f77b4;stroke:#1f77b4;\" x=\"247.504753\" xlink:href=\"#m73a259c802\" y=\"265.156073\"/>\r\n     <use style=\"fill:#1f77b4;stroke:#1f77b4;\" x=\"308.222923\" xlink:href=\"#m73a259c802\" y=\"271.870499\"/>\r\n     <use style=\"fill:#1f77b4;stroke:#1f77b4;\" x=\"345.341173\" xlink:href=\"#m73a259c802\" y=\"226.090316\"/>\r\n     <use style=\"fill:#1f77b4;stroke:#1f77b4;\" x=\"393.985624\" xlink:href=\"#m73a259c802\" y=\"193.128584\"/>\r\n     <use style=\"fill:#1f77b4;stroke:#1f77b4;\" x=\"277.383255\" xlink:href=\"#m73a259c802\" y=\"183.972548\"/>\r\n     <use style=\"fill:#1f77b4;stroke:#1f77b4;\" x=\"71.322571\" xlink:href=\"#m73a259c802\" y=\"227.311121\"/>\r\n     <use style=\"fill:#1f77b4;stroke:#1f77b4;\" x=\"243.661422\" xlink:href=\"#m73a259c802\" y=\"266.98728\"/>\r\n     <use style=\"fill:#1f77b4;stroke:#1f77b4;\" x=\"408.797769\" xlink:href=\"#m73a259c802\" y=\"194.959792\"/>\r\n     <use style=\"fill:#1f77b4;stroke:#1f77b4;\" x=\"67.983949\" xlink:href=\"#m73a259c802\" y=\"360.989256\"/>\r\n     <use style=\"fill:#1f77b4;stroke:#1f77b4;\" x=\"333.952682\" xlink:href=\"#m73a259c802\" y=\"226.700719\"/>\r\n     <use style=\"fill:#1f77b4;stroke:#1f77b4;\" x=\"314.061135\" xlink:href=\"#m73a259c802\" y=\"313.377866\"/>\r\n     <use style=\"fill:#1f77b4;stroke:#1f77b4;\" x=\"317.308142\" xlink:href=\"#m73a259c802\" y=\"287.130561\"/>\r\n     <use style=\"fill:#1f77b4;stroke:#1f77b4;\" x=\"267.269129\" xlink:href=\"#m73a259c802\" y=\"252.337621\"/>\r\n     <use style=\"fill:#1f77b4;stroke:#1f77b4;\" x=\"468.178612\" xlink:href=\"#m73a259c802\" y=\"75.931315\"/>\r\n     <use style=\"fill:#1f77b4;stroke:#1f77b4;\" x=\"220.476864\" xlink:href=\"#m73a259c802\" y=\"216.323877\"/>\r\n     <use style=\"fill:#1f77b4;stroke:#1f77b4;\" x=\"220.42481\" xlink:href=\"#m73a259c802\" y=\"204.726231\"/>\r\n     <use style=\"fill:#1f77b4;stroke:#1f77b4;\" x=\"292.879652\" xlink:href=\"#m73a259c802\" y=\"152.842023\"/>\r\n     <use style=\"fill:#1f77b4;stroke:#1f77b4;\" x=\"364.143523\" xlink:href=\"#m73a259c802\" y=\"351.83322\"/>\r\n     <use style=\"fill:#1f77b4;stroke:#1f77b4;\" x=\"334.802169\" xlink:href=\"#m73a259c802\" y=\"223.038304\"/>\r\n     <use style=\"fill:#1f77b4;stroke:#1f77b4;\" x=\"345.541565\" xlink:href=\"#m73a259c802\" y=\"187.02456\"/>\r\n     <use style=\"fill:#1f77b4;stroke:#1f77b4;\" x=\"358.629159\" xlink:href=\"#m73a259c802\" y=\"194.349389\"/>\r\n     <use style=\"fill:#1f77b4;stroke:#1f77b4;\" x=\"190.40856\" xlink:href=\"#m73a259c802\" y=\"252.337621\"/>\r\n     <use style=\"fill:#1f77b4;stroke:#1f77b4;\" x=\"325.125941\" xlink:href=\"#m73a259c802\" y=\"224.259109\"/>\r\n     <use style=\"fill:#1f77b4;stroke:#1f77b4;\" x=\"328.334356\" xlink:href=\"#m73a259c802\" y=\"197.401401\"/>\r\n     <use style=\"fill:#1f77b4;stroke:#1f77b4;\" x=\"391.775633\" xlink:href=\"#m73a259c802\" y=\"136.971559\"/>\r\n     <use style=\"fill:#1f77b4;stroke:#1f77b4;\" x=\"302.462613\" xlink:href=\"#m73a259c802\" y=\"213.882267\"/>\r\n     <use style=\"fill:#1f77b4;stroke:#1f77b4;\" x=\"345.685254\" xlink:href=\"#m73a259c802\" y=\"224.869511\"/>\r\n     <use style=\"fill:#1f77b4;stroke:#1f77b4;\" x=\"212.460104\" xlink:href=\"#m73a259c802\" y=\"231.583938\"/>\r\n     <use style=\"fill:#1f77b4;stroke:#1f77b4;\" x=\"372.818671\" xlink:href=\"#m73a259c802\" y=\"295.676195\"/>\r\n     <use style=\"fill:#1f77b4;stroke:#1f77b4;\" x=\"368.763625\" xlink:href=\"#m73a259c802\" y=\"208.388645\"/>\r\n     <use style=\"fill:#1f77b4;stroke:#1f77b4;\" x=\"421.399481\" xlink:href=\"#m73a259c802\" y=\"233.415146\"/>\r\n     <use style=\"fill:#1f77b4;stroke:#1f77b4;\" x=\"481.299559\" xlink:href=\"#m73a259c802\" y=\"217.544682\"/>\r\n     <use style=\"fill:#1f77b4;stroke:#1f77b4;\" x=\"385.862933\" xlink:href=\"#m73a259c802\" y=\"221.817499\"/>\r\n     <use style=\"fill:#1f77b4;stroke:#1f77b4;\" x=\"253.283043\" xlink:href=\"#m73a259c802\" y=\"193.738987\"/>\r\n     <use style=\"fill:#1f77b4;stroke:#1f77b4;\" x=\"544.883606\" xlink:href=\"#m73a259c802\" y=\"224.869511\"/>\r\n     <use style=\"fill:#1f77b4;stroke:#1f77b4;\" x=\"240.457444\" xlink:href=\"#m73a259c802\" y=\"241.96078\"/>\r\n     <use style=\"fill:#1f77b4;stroke:#1f77b4;\" x=\"149.632262\" xlink:href=\"#m73a259c802\" y=\"182.14134\"/>\r\n     <use style=\"fill:#1f77b4;stroke:#1f77b4;\" x=\"402.73044\" xlink:href=\"#m73a259c802\" y=\"260.272853\"/>\r\n     <use style=\"fill:#1f77b4;stroke:#1f77b4;\" x=\"319.952281\" xlink:href=\"#m73a259c802\" y=\"165.660474\"/>\r\n     <use style=\"fill:#1f77b4;stroke:#1f77b4;\" x=\"181.553684\" xlink:href=\"#m73a259c802\" y=\"255.389633\"/>\r\n     <use style=\"fill:#1f77b4;stroke:#1f77b4;\" x=\"367.387936\" xlink:href=\"#m73a259c802\" y=\"228.531926\"/>\r\n     <use style=\"fill:#1f77b4;stroke:#1f77b4;\" x=\"409.941622\" xlink:href=\"#m73a259c802\" y=\"198.011804\"/>\r\n     <use style=\"fill:#1f77b4;stroke:#1f77b4;\" x=\"341.672864\" xlink:href=\"#m73a259c802\" y=\"265.766475\"/>\r\n     <use style=\"fill:#1f77b4;stroke:#1f77b4;\" x=\"310.475939\" xlink:href=\"#m73a259c802\" y=\"144.296389\"/>\r\n     <use style=\"fill:#1f77b4;stroke:#1f77b4;\" x=\"250.161049\" xlink:href=\"#m73a259c802\" y=\"231.583938\"/>\r\n     <use style=\"fill:#1f77b4;stroke:#1f77b4;\" x=\"272.970716\" xlink:href=\"#m73a259c802\" y=\"202.284621\"/>\r\n     <use style=\"fill:#1f77b4;stroke:#1f77b4;\" x=\"540.136504\" xlink:href=\"#m73a259c802\" y=\"144.906791\"/>\r\n     <use style=\"fill:#1f77b4;stroke:#1f77b4;\" x=\"327.458867\" xlink:href=\"#m73a259c802\" y=\"245.012792\"/>\r\n     <use style=\"fill:#1f77b4;stroke:#1f77b4;\" x=\"225.090663\" xlink:href=\"#m73a259c802\" y=\"272.480902\"/>\r\n     <use style=\"fill:#1f77b4;stroke:#1f77b4;\" x=\"438.769241\" xlink:href=\"#m73a259c802\" y=\"196.790999\"/>\r\n     <use style=\"fill:#1f77b4;stroke:#1f77b4;\" x=\"208.462022\" xlink:href=\"#m73a259c802\" y=\"201.063816\"/>\r\n    </g>\r\n   </g>\r\n   <g id=\"matplotlib.axis_1\">\r\n    <g id=\"xtick_1\">\r\n     <g id=\"line2d_1\">\r\n      <defs>\r\n       <path d=\"M 0 0 \r\nL 0 3.5 \r\n\" id=\"mcb4cfacdfd\" style=\"stroke:#000000;stroke-width:0.8;\"/>\r\n      </defs>\r\n      <g>\r\n       <use style=\"stroke:#000000;stroke-width:0.8;\" x=\"84.393637\" xlink:href=\"#mcb4cfacdfd\" y=\"377.836364\"/>\r\n      </g>\r\n     </g>\r\n     <g id=\"text_1\">\r\n      <!-- −0.10 -->\r\n      <defs>\r\n       <path d=\"M 10.59375 35.5 \r\nL 73.1875 35.5 \r\nL 73.1875 27.203125 \r\nL 10.59375 27.203125 \r\nz\r\n\" id=\"DejaVuSans-8722\"/>\r\n       <path d=\"M 31.78125 66.40625 \r\nQ 24.171875 66.40625 20.328125 58.90625 \r\nQ 16.5 51.421875 16.5 36.375 \r\nQ 16.5 21.390625 20.328125 13.890625 \r\nQ 24.171875 6.390625 31.78125 6.390625 \r\nQ 39.453125 6.390625 43.28125 13.890625 \r\nQ 47.125 21.390625 47.125 36.375 \r\nQ 47.125 51.421875 43.28125 58.90625 \r\nQ 39.453125 66.40625 31.78125 66.40625 \r\nz\r\nM 31.78125 74.21875 \r\nQ 44.046875 74.21875 50.515625 64.515625 \r\nQ 56.984375 54.828125 56.984375 36.375 \r\nQ 56.984375 17.96875 50.515625 8.265625 \r\nQ 44.046875 -1.421875 31.78125 -1.421875 \r\nQ 19.53125 -1.421875 13.0625 8.265625 \r\nQ 6.59375 17.96875 6.59375 36.375 \r\nQ 6.59375 54.828125 13.0625 64.515625 \r\nQ 19.53125 74.21875 31.78125 74.21875 \r\nz\r\n\" id=\"DejaVuSans-48\"/>\r\n       <path d=\"M 10.6875 12.40625 \r\nL 21 12.40625 \r\nL 21 0 \r\nL 10.6875 0 \r\nz\r\n\" id=\"DejaVuSans-46\"/>\r\n       <path d=\"M 12.40625 8.296875 \r\nL 28.515625 8.296875 \r\nL 28.515625 63.921875 \r\nL 10.984375 60.40625 \r\nL 10.984375 69.390625 \r\nL 28.421875 72.90625 \r\nL 38.28125 72.90625 \r\nL 38.28125 8.296875 \r\nL 54.390625 8.296875 \r\nL 54.390625 0 \r\nL 12.40625 0 \r\nz\r\n\" id=\"DejaVuSans-49\"/>\r\n      </defs>\r\n      <g transform=\"translate(69.07098 392.434801)scale(0.1 -0.1)\">\r\n       <use xlink:href=\"#DejaVuSans-8722\"/>\r\n       <use x=\"83.789062\" xlink:href=\"#DejaVuSans-48\"/>\r\n       <use x=\"147.412109\" xlink:href=\"#DejaVuSans-46\"/>\r\n       <use x=\"179.199219\" xlink:href=\"#DejaVuSans-49\"/>\r\n       <use x=\"242.822266\" xlink:href=\"#DejaVuSans-48\"/>\r\n      </g>\r\n     </g>\r\n    </g>\r\n    <g id=\"xtick_2\">\r\n     <g id=\"line2d_2\">\r\n      <g>\r\n       <use style=\"stroke:#000000;stroke-width:0.8;\" x=\"198.768333\" xlink:href=\"#mcb4cfacdfd\" y=\"377.836364\"/>\r\n      </g>\r\n     </g>\r\n     <g id=\"text_2\">\r\n      <!-- −0.05 -->\r\n      <defs>\r\n       <path d=\"M 10.796875 72.90625 \r\nL 49.515625 72.90625 \r\nL 49.515625 64.59375 \r\nL 19.828125 64.59375 \r\nL 19.828125 46.734375 \r\nQ 21.96875 47.46875 24.109375 47.828125 \r\nQ 26.265625 48.1875 28.421875 48.1875 \r\nQ 40.625 48.1875 47.75 41.5 \r\nQ 54.890625 34.8125 54.890625 23.390625 \r\nQ 54.890625 11.625 47.5625 5.09375 \r\nQ 40.234375 -1.421875 26.90625 -1.421875 \r\nQ 22.3125 -1.421875 17.546875 -0.640625 \r\nQ 12.796875 0.140625 7.71875 1.703125 \r\nL 7.71875 11.625 \r\nQ 12.109375 9.234375 16.796875 8.0625 \r\nQ 21.484375 6.890625 26.703125 6.890625 \r\nQ 35.15625 6.890625 40.078125 11.328125 \r\nQ 45.015625 15.765625 45.015625 23.390625 \r\nQ 45.015625 31 40.078125 35.4375 \r\nQ 35.15625 39.890625 26.703125 39.890625 \r\nQ 22.75 39.890625 18.8125 39.015625 \r\nQ 14.890625 38.140625 10.796875 36.28125 \r\nz\r\n\" id=\"DejaVuSans-53\"/>\r\n      </defs>\r\n      <g transform=\"translate(183.445677 392.434801)scale(0.1 -0.1)\">\r\n       <use xlink:href=\"#DejaVuSans-8722\"/>\r\n       <use x=\"83.789062\" xlink:href=\"#DejaVuSans-48\"/>\r\n       <use x=\"147.412109\" xlink:href=\"#DejaVuSans-46\"/>\r\n       <use x=\"179.199219\" xlink:href=\"#DejaVuSans-48\"/>\r\n       <use x=\"242.822266\" xlink:href=\"#DejaVuSans-53\"/>\r\n      </g>\r\n     </g>\r\n    </g>\r\n    <g id=\"xtick_3\">\r\n     <g id=\"line2d_3\">\r\n      <g>\r\n       <use style=\"stroke:#000000;stroke-width:0.8;\" x=\"313.14303\" xlink:href=\"#mcb4cfacdfd\" y=\"377.836364\"/>\r\n      </g>\r\n     </g>\r\n     <g id=\"text_3\">\r\n      <!-- 0.00 -->\r\n      <g transform=\"translate(302.010217 392.434801)scale(0.1 -0.1)\">\r\n       <use xlink:href=\"#DejaVuSans-48\"/>\r\n       <use x=\"63.623047\" xlink:href=\"#DejaVuSans-46\"/>\r\n       <use x=\"95.410156\" xlink:href=\"#DejaVuSans-48\"/>\r\n       <use x=\"159.033203\" xlink:href=\"#DejaVuSans-48\"/>\r\n      </g>\r\n     </g>\r\n    </g>\r\n    <g id=\"xtick_4\">\r\n     <g id=\"line2d_4\">\r\n      <g>\r\n       <use style=\"stroke:#000000;stroke-width:0.8;\" x=\"427.517726\" xlink:href=\"#mcb4cfacdfd\" y=\"377.836364\"/>\r\n      </g>\r\n     </g>\r\n     <g id=\"text_4\">\r\n      <!-- 0.05 -->\r\n      <g transform=\"translate(416.384913 392.434801)scale(0.1 -0.1)\">\r\n       <use xlink:href=\"#DejaVuSans-48\"/>\r\n       <use x=\"63.623047\" xlink:href=\"#DejaVuSans-46\"/>\r\n       <use x=\"95.410156\" xlink:href=\"#DejaVuSans-48\"/>\r\n       <use x=\"159.033203\" xlink:href=\"#DejaVuSans-53\"/>\r\n      </g>\r\n     </g>\r\n    </g>\r\n    <g id=\"xtick_5\">\r\n     <g id=\"line2d_5\">\r\n      <g>\r\n       <use style=\"stroke:#000000;stroke-width:0.8;\" x=\"541.892422\" xlink:href=\"#mcb4cfacdfd\" y=\"377.836364\"/>\r\n      </g>\r\n     </g>\r\n     <g id=\"text_5\">\r\n      <!-- 0.10 -->\r\n      <g transform=\"translate(530.75961 392.434801)scale(0.1 -0.1)\">\r\n       <use xlink:href=\"#DejaVuSans-48\"/>\r\n       <use x=\"63.623047\" xlink:href=\"#DejaVuSans-46\"/>\r\n       <use x=\"95.410156\" xlink:href=\"#DejaVuSans-49\"/>\r\n       <use x=\"159.033203\" xlink:href=\"#DejaVuSans-48\"/>\r\n      </g>\r\n     </g>\r\n    </g>\r\n   </g>\r\n   <g id=\"matplotlib.axis_2\">\r\n    <g id=\"ytick_1\">\r\n     <g id=\"line2d_6\">\r\n      <defs>\r\n       <path d=\"M 0 0 \r\nL -3.5 0 \r\n\" id=\"me1c77cc54d\" style=\"stroke:#000000;stroke-width:0.8;\"/>\r\n      </defs>\r\n      <g>\r\n       <use style=\"stroke:#000000;stroke-width:0.8;\" x=\"42.620313\" xlink:href=\"#me1c77cc54d\" y=\"344.50839\"/>\r\n      </g>\r\n     </g>\r\n     <g id=\"text_6\">\r\n      <!-- −2 -->\r\n      <defs>\r\n       <path d=\"M 19.1875 8.296875 \r\nL 53.609375 8.296875 \r\nL 53.609375 0 \r\nL 7.328125 0 \r\nL 7.328125 8.296875 \r\nQ 12.9375 14.109375 22.625 23.890625 \r\nQ 32.328125 33.6875 34.8125 36.53125 \r\nQ 39.546875 41.84375 41.421875 45.53125 \r\nQ 43.3125 49.21875 43.3125 52.78125 \r\nQ 43.3125 58.59375 39.234375 62.25 \r\nQ 35.15625 65.921875 28.609375 65.921875 \r\nQ 23.96875 65.921875 18.8125 64.3125 \r\nQ 13.671875 62.703125 7.8125 59.421875 \r\nL 7.8125 69.390625 \r\nQ 13.765625 71.78125 18.9375 73 \r\nQ 24.125 74.21875 28.421875 74.21875 \r\nQ 39.75 74.21875 46.484375 68.546875 \r\nQ 53.21875 62.890625 53.21875 53.421875 \r\nQ 53.21875 48.921875 51.53125 44.890625 \r\nQ 49.859375 40.875 45.40625 35.40625 \r\nQ 44.1875 33.984375 37.640625 27.21875 \r\nQ 31.109375 20.453125 19.1875 8.296875 \r\nz\r\n\" id=\"DejaVuSans-50\"/>\r\n      </defs>\r\n      <g transform=\"translate(20.878125 348.307609)scale(0.1 -0.1)\">\r\n       <use xlink:href=\"#DejaVuSans-8722\"/>\r\n       <use x=\"83.789062\" xlink:href=\"#DejaVuSans-50\"/>\r\n      </g>\r\n     </g>\r\n    </g>\r\n    <g id=\"ytick_2\">\r\n     <g id=\"line2d_7\">\r\n      <g>\r\n       <use style=\"stroke:#000000;stroke-width:0.8;\" x=\"42.620313\" xlink:href=\"#me1c77cc54d\" y=\"283.468146\"/>\r\n      </g>\r\n     </g>\r\n     <g id=\"text_7\">\r\n      <!-- −1 -->\r\n      <g transform=\"translate(20.878125 287.267365)scale(0.1 -0.1)\">\r\n       <use xlink:href=\"#DejaVuSans-8722\"/>\r\n       <use x=\"83.789062\" xlink:href=\"#DejaVuSans-49\"/>\r\n      </g>\r\n     </g>\r\n    </g>\r\n    <g id=\"ytick_3\">\r\n     <g id=\"line2d_8\">\r\n      <g>\r\n       <use style=\"stroke:#000000;stroke-width:0.8;\" x=\"42.620313\" xlink:href=\"#me1c77cc54d\" y=\"222.427902\"/>\r\n      </g>\r\n     </g>\r\n     <g id=\"text_8\">\r\n      <!-- 0 -->\r\n      <g transform=\"translate(29.257813 226.22712)scale(0.1 -0.1)\">\r\n       <use xlink:href=\"#DejaVuSans-48\"/>\r\n      </g>\r\n     </g>\r\n    </g>\r\n    <g id=\"ytick_4\">\r\n     <g id=\"line2d_9\">\r\n      <g>\r\n       <use style=\"stroke:#000000;stroke-width:0.8;\" x=\"42.620313\" xlink:href=\"#me1c77cc54d\" y=\"161.387657\"/>\r\n      </g>\r\n     </g>\r\n     <g id=\"text_9\">\r\n      <!-- 1 -->\r\n      <g transform=\"translate(29.257813 165.186876)scale(0.1 -0.1)\">\r\n       <use xlink:href=\"#DejaVuSans-49\"/>\r\n      </g>\r\n     </g>\r\n    </g>\r\n    <g id=\"ytick_5\">\r\n     <g id=\"line2d_10\">\r\n      <g>\r\n       <use style=\"stroke:#000000;stroke-width:0.8;\" x=\"42.620313\" xlink:href=\"#me1c77cc54d\" y=\"100.347413\"/>\r\n      </g>\r\n     </g>\r\n     <g id=\"text_10\">\r\n      <!-- 2 -->\r\n      <g transform=\"translate(29.257813 104.146632)scale(0.1 -0.1)\">\r\n       <use xlink:href=\"#DejaVuSans-50\"/>\r\n      </g>\r\n     </g>\r\n    </g>\r\n    <g id=\"ytick_6\">\r\n     <g id=\"line2d_11\">\r\n      <g>\r\n       <use style=\"stroke:#000000;stroke-width:0.8;\" x=\"42.620313\" xlink:href=\"#me1c77cc54d\" y=\"39.307169\"/>\r\n      </g>\r\n     </g>\r\n     <g id=\"text_11\">\r\n      <!-- 3 -->\r\n      <defs>\r\n       <path d=\"M 40.578125 39.3125 \r\nQ 47.65625 37.796875 51.625 33 \r\nQ 55.609375 28.21875 55.609375 21.1875 \r\nQ 55.609375 10.40625 48.1875 4.484375 \r\nQ 40.765625 -1.421875 27.09375 -1.421875 \r\nQ 22.515625 -1.421875 17.65625 -0.515625 \r\nQ 12.796875 0.390625 7.625 2.203125 \r\nL 7.625 11.71875 \r\nQ 11.71875 9.328125 16.59375 8.109375 \r\nQ 21.484375 6.890625 26.8125 6.890625 \r\nQ 36.078125 6.890625 40.9375 10.546875 \r\nQ 45.796875 14.203125 45.796875 21.1875 \r\nQ 45.796875 27.640625 41.28125 31.265625 \r\nQ 36.765625 34.90625 28.71875 34.90625 \r\nL 20.21875 34.90625 \r\nL 20.21875 43.015625 \r\nL 29.109375 43.015625 \r\nQ 36.375 43.015625 40.234375 45.921875 \r\nQ 44.09375 48.828125 44.09375 54.296875 \r\nQ 44.09375 59.90625 40.109375 62.90625 \r\nQ 36.140625 65.921875 28.71875 65.921875 \r\nQ 24.65625 65.921875 20.015625 65.03125 \r\nQ 15.375 64.15625 9.8125 62.3125 \r\nL 9.8125 71.09375 \r\nQ 15.4375 72.65625 20.34375 73.4375 \r\nQ 25.25 74.21875 29.59375 74.21875 \r\nQ 40.828125 74.21875 47.359375 69.109375 \r\nQ 53.90625 64.015625 53.90625 55.328125 \r\nQ 53.90625 49.265625 50.4375 45.09375 \r\nQ 46.96875 40.921875 40.578125 39.3125 \r\nz\r\n\" id=\"DejaVuSans-51\"/>\r\n      </defs>\r\n      <g transform=\"translate(29.257813 43.106387)scale(0.1 -0.1)\">\r\n       <use xlink:href=\"#DejaVuSans-51\"/>\r\n      </g>\r\n     </g>\r\n    </g>\r\n    <g id=\"text_12\">\r\n     <!-- IPCA mensal de boates e danceterias -->\r\n     <defs>\r\n      <path d=\"M 9.8125 72.90625 \r\nL 19.671875 72.90625 \r\nL 19.671875 0 \r\nL 9.8125 0 \r\nz\r\n\" id=\"DejaVuSans-73\"/>\r\n      <path d=\"M 19.671875 64.796875 \r\nL 19.671875 37.40625 \r\nL 32.078125 37.40625 \r\nQ 38.96875 37.40625 42.71875 40.96875 \r\nQ 46.484375 44.53125 46.484375 51.125 \r\nQ 46.484375 57.671875 42.71875 61.234375 \r\nQ 38.96875 64.796875 32.078125 64.796875 \r\nz\r\nM 9.8125 72.90625 \r\nL 32.078125 72.90625 \r\nQ 44.34375 72.90625 50.609375 67.359375 \r\nQ 56.890625 61.8125 56.890625 51.125 \r\nQ 56.890625 40.328125 50.609375 34.8125 \r\nQ 44.34375 29.296875 32.078125 29.296875 \r\nL 19.671875 29.296875 \r\nL 19.671875 0 \r\nL 9.8125 0 \r\nz\r\n\" id=\"DejaVuSans-80\"/>\r\n      <path d=\"M 64.40625 67.28125 \r\nL 64.40625 56.890625 \r\nQ 59.421875 61.53125 53.78125 63.8125 \r\nQ 48.140625 66.109375 41.796875 66.109375 \r\nQ 29.296875 66.109375 22.65625 58.46875 \r\nQ 16.015625 50.828125 16.015625 36.375 \r\nQ 16.015625 21.96875 22.65625 14.328125 \r\nQ 29.296875 6.6875 41.796875 6.6875 \r\nQ 48.140625 6.6875 53.78125 8.984375 \r\nQ 59.421875 11.28125 64.40625 15.921875 \r\nL 64.40625 5.609375 \r\nQ 59.234375 2.09375 53.4375 0.328125 \r\nQ 47.65625 -1.421875 41.21875 -1.421875 \r\nQ 24.65625 -1.421875 15.125 8.703125 \r\nQ 5.609375 18.84375 5.609375 36.375 \r\nQ 5.609375 53.953125 15.125 64.078125 \r\nQ 24.65625 74.21875 41.21875 74.21875 \r\nQ 47.75 74.21875 53.53125 72.484375 \r\nQ 59.328125 70.75 64.40625 67.28125 \r\nz\r\n\" id=\"DejaVuSans-67\"/>\r\n      <path d=\"M 34.1875 63.1875 \r\nL 20.796875 26.90625 \r\nL 47.609375 26.90625 \r\nz\r\nM 28.609375 72.90625 \r\nL 39.796875 72.90625 \r\nL 67.578125 0 \r\nL 57.328125 0 \r\nL 50.6875 18.703125 \r\nL 17.828125 18.703125 \r\nL 11.1875 0 \r\nL 0.78125 0 \r\nz\r\n\" id=\"DejaVuSans-65\"/>\r\n      <path id=\"DejaVuSans-32\"/>\r\n      <path d=\"M 52 44.1875 \r\nQ 55.375 50.25 60.0625 53.125 \r\nQ 64.75 56 71.09375 56 \r\nQ 79.640625 56 84.28125 50.015625 \r\nQ 88.921875 44.046875 88.921875 33.015625 \r\nL 88.921875 0 \r\nL 79.890625 0 \r\nL 79.890625 32.71875 \r\nQ 79.890625 40.578125 77.09375 44.375 \r\nQ 74.3125 48.1875 68.609375 48.1875 \r\nQ 61.625 48.1875 57.5625 43.546875 \r\nQ 53.515625 38.921875 53.515625 30.90625 \r\nL 53.515625 0 \r\nL 44.484375 0 \r\nL 44.484375 32.71875 \r\nQ 44.484375 40.625 41.703125 44.40625 \r\nQ 38.921875 48.1875 33.109375 48.1875 \r\nQ 26.21875 48.1875 22.15625 43.53125 \r\nQ 18.109375 38.875 18.109375 30.90625 \r\nL 18.109375 0 \r\nL 9.078125 0 \r\nL 9.078125 54.6875 \r\nL 18.109375 54.6875 \r\nL 18.109375 46.1875 \r\nQ 21.1875 51.21875 25.484375 53.609375 \r\nQ 29.78125 56 35.6875 56 \r\nQ 41.65625 56 45.828125 52.96875 \r\nQ 50 49.953125 52 44.1875 \r\nz\r\n\" id=\"DejaVuSans-109\"/>\r\n      <path d=\"M 56.203125 29.59375 \r\nL 56.203125 25.203125 \r\nL 14.890625 25.203125 \r\nQ 15.484375 15.921875 20.484375 11.0625 \r\nQ 25.484375 6.203125 34.421875 6.203125 \r\nQ 39.59375 6.203125 44.453125 7.46875 \r\nQ 49.3125 8.734375 54.109375 11.28125 \r\nL 54.109375 2.78125 \r\nQ 49.265625 0.734375 44.1875 -0.34375 \r\nQ 39.109375 -1.421875 33.890625 -1.421875 \r\nQ 20.796875 -1.421875 13.15625 6.1875 \r\nQ 5.515625 13.8125 5.515625 26.8125 \r\nQ 5.515625 40.234375 12.765625 48.109375 \r\nQ 20.015625 56 32.328125 56 \r\nQ 43.359375 56 49.78125 48.890625 \r\nQ 56.203125 41.796875 56.203125 29.59375 \r\nz\r\nM 47.21875 32.234375 \r\nQ 47.125 39.59375 43.09375 43.984375 \r\nQ 39.0625 48.390625 32.421875 48.390625 \r\nQ 24.90625 48.390625 20.390625 44.140625 \r\nQ 15.875 39.890625 15.1875 32.171875 \r\nz\r\n\" id=\"DejaVuSans-101\"/>\r\n      <path d=\"M 54.890625 33.015625 \r\nL 54.890625 0 \r\nL 45.90625 0 \r\nL 45.90625 32.71875 \r\nQ 45.90625 40.484375 42.875 44.328125 \r\nQ 39.84375 48.1875 33.796875 48.1875 \r\nQ 26.515625 48.1875 22.3125 43.546875 \r\nQ 18.109375 38.921875 18.109375 30.90625 \r\nL 18.109375 0 \r\nL 9.078125 0 \r\nL 9.078125 54.6875 \r\nL 18.109375 54.6875 \r\nL 18.109375 46.1875 \r\nQ 21.34375 51.125 25.703125 53.5625 \r\nQ 30.078125 56 35.796875 56 \r\nQ 45.21875 56 50.046875 50.171875 \r\nQ 54.890625 44.34375 54.890625 33.015625 \r\nz\r\n\" id=\"DejaVuSans-110\"/>\r\n      <path d=\"M 44.28125 53.078125 \r\nL 44.28125 44.578125 \r\nQ 40.484375 46.53125 36.375 47.5 \r\nQ 32.28125 48.484375 27.875 48.484375 \r\nQ 21.1875 48.484375 17.84375 46.4375 \r\nQ 14.5 44.390625 14.5 40.28125 \r\nQ 14.5 37.15625 16.890625 35.375 \r\nQ 19.28125 33.59375 26.515625 31.984375 \r\nL 29.59375 31.296875 \r\nQ 39.15625 29.25 43.1875 25.515625 \r\nQ 47.21875 21.78125 47.21875 15.09375 \r\nQ 47.21875 7.46875 41.1875 3.015625 \r\nQ 35.15625 -1.421875 24.609375 -1.421875 \r\nQ 20.21875 -1.421875 15.453125 -0.5625 \r\nQ 10.6875 0.296875 5.421875 2 \r\nL 5.421875 11.28125 \r\nQ 10.40625 8.6875 15.234375 7.390625 \r\nQ 20.0625 6.109375 24.8125 6.109375 \r\nQ 31.15625 6.109375 34.5625 8.28125 \r\nQ 37.984375 10.453125 37.984375 14.40625 \r\nQ 37.984375 18.0625 35.515625 20.015625 \r\nQ 33.0625 21.96875 24.703125 23.78125 \r\nL 21.578125 24.515625 \r\nQ 13.234375 26.265625 9.515625 29.90625 \r\nQ 5.8125 33.546875 5.8125 39.890625 \r\nQ 5.8125 47.609375 11.28125 51.796875 \r\nQ 16.75 56 26.8125 56 \r\nQ 31.78125 56 36.171875 55.265625 \r\nQ 40.578125 54.546875 44.28125 53.078125 \r\nz\r\n\" id=\"DejaVuSans-115\"/>\r\n      <path d=\"M 34.28125 27.484375 \r\nQ 23.390625 27.484375 19.1875 25 \r\nQ 14.984375 22.515625 14.984375 16.5 \r\nQ 14.984375 11.71875 18.140625 8.90625 \r\nQ 21.296875 6.109375 26.703125 6.109375 \r\nQ 34.1875 6.109375 38.703125 11.40625 \r\nQ 43.21875 16.703125 43.21875 25.484375 \r\nL 43.21875 27.484375 \r\nz\r\nM 52.203125 31.203125 \r\nL 52.203125 0 \r\nL 43.21875 0 \r\nL 43.21875 8.296875 \r\nQ 40.140625 3.328125 35.546875 0.953125 \r\nQ 30.953125 -1.421875 24.3125 -1.421875 \r\nQ 15.921875 -1.421875 10.953125 3.296875 \r\nQ 6 8.015625 6 15.921875 \r\nQ 6 25.140625 12.171875 29.828125 \r\nQ 18.359375 34.515625 30.609375 34.515625 \r\nL 43.21875 34.515625 \r\nL 43.21875 35.40625 \r\nQ 43.21875 41.609375 39.140625 45 \r\nQ 35.0625 48.390625 27.6875 48.390625 \r\nQ 23 48.390625 18.546875 47.265625 \r\nQ 14.109375 46.140625 10.015625 43.890625 \r\nL 10.015625 52.203125 \r\nQ 14.9375 54.109375 19.578125 55.046875 \r\nQ 24.21875 56 28.609375 56 \r\nQ 40.484375 56 46.34375 49.84375 \r\nQ 52.203125 43.703125 52.203125 31.203125 \r\nz\r\n\" id=\"DejaVuSans-97\"/>\r\n      <path d=\"M 9.421875 75.984375 \r\nL 18.40625 75.984375 \r\nL 18.40625 0 \r\nL 9.421875 0 \r\nz\r\n\" id=\"DejaVuSans-108\"/>\r\n      <path d=\"M 45.40625 46.390625 \r\nL 45.40625 75.984375 \r\nL 54.390625 75.984375 \r\nL 54.390625 0 \r\nL 45.40625 0 \r\nL 45.40625 8.203125 \r\nQ 42.578125 3.328125 38.25 0.953125 \r\nQ 33.9375 -1.421875 27.875 -1.421875 \r\nQ 17.96875 -1.421875 11.734375 6.484375 \r\nQ 5.515625 14.40625 5.515625 27.296875 \r\nQ 5.515625 40.1875 11.734375 48.09375 \r\nQ 17.96875 56 27.875 56 \r\nQ 33.9375 56 38.25 53.625 \r\nQ 42.578125 51.265625 45.40625 46.390625 \r\nz\r\nM 14.796875 27.296875 \r\nQ 14.796875 17.390625 18.875 11.75 \r\nQ 22.953125 6.109375 30.078125 6.109375 \r\nQ 37.203125 6.109375 41.296875 11.75 \r\nQ 45.40625 17.390625 45.40625 27.296875 \r\nQ 45.40625 37.203125 41.296875 42.84375 \r\nQ 37.203125 48.484375 30.078125 48.484375 \r\nQ 22.953125 48.484375 18.875 42.84375 \r\nQ 14.796875 37.203125 14.796875 27.296875 \r\nz\r\n\" id=\"DejaVuSans-100\"/>\r\n      <path d=\"M 48.6875 27.296875 \r\nQ 48.6875 37.203125 44.609375 42.84375 \r\nQ 40.53125 48.484375 33.40625 48.484375 \r\nQ 26.265625 48.484375 22.1875 42.84375 \r\nQ 18.109375 37.203125 18.109375 27.296875 \r\nQ 18.109375 17.390625 22.1875 11.75 \r\nQ 26.265625 6.109375 33.40625 6.109375 \r\nQ 40.53125 6.109375 44.609375 11.75 \r\nQ 48.6875 17.390625 48.6875 27.296875 \r\nz\r\nM 18.109375 46.390625 \r\nQ 20.953125 51.265625 25.265625 53.625 \r\nQ 29.59375 56 35.59375 56 \r\nQ 45.5625 56 51.78125 48.09375 \r\nQ 58.015625 40.1875 58.015625 27.296875 \r\nQ 58.015625 14.40625 51.78125 6.484375 \r\nQ 45.5625 -1.421875 35.59375 -1.421875 \r\nQ 29.59375 -1.421875 25.265625 0.953125 \r\nQ 20.953125 3.328125 18.109375 8.203125 \r\nL 18.109375 0 \r\nL 9.078125 0 \r\nL 9.078125 75.984375 \r\nL 18.109375 75.984375 \r\nz\r\n\" id=\"DejaVuSans-98\"/>\r\n      <path d=\"M 30.609375 48.390625 \r\nQ 23.390625 48.390625 19.1875 42.75 \r\nQ 14.984375 37.109375 14.984375 27.296875 \r\nQ 14.984375 17.484375 19.15625 11.84375 \r\nQ 23.34375 6.203125 30.609375 6.203125 \r\nQ 37.796875 6.203125 41.984375 11.859375 \r\nQ 46.1875 17.53125 46.1875 27.296875 \r\nQ 46.1875 37.015625 41.984375 42.703125 \r\nQ 37.796875 48.390625 30.609375 48.390625 \r\nz\r\nM 30.609375 56 \r\nQ 42.328125 56 49.015625 48.375 \r\nQ 55.71875 40.765625 55.71875 27.296875 \r\nQ 55.71875 13.875 49.015625 6.21875 \r\nQ 42.328125 -1.421875 30.609375 -1.421875 \r\nQ 18.84375 -1.421875 12.171875 6.21875 \r\nQ 5.515625 13.875 5.515625 27.296875 \r\nQ 5.515625 40.765625 12.171875 48.375 \r\nQ 18.84375 56 30.609375 56 \r\nz\r\n\" id=\"DejaVuSans-111\"/>\r\n      <path d=\"M 18.3125 70.21875 \r\nL 18.3125 54.6875 \r\nL 36.8125 54.6875 \r\nL 36.8125 47.703125 \r\nL 18.3125 47.703125 \r\nL 18.3125 18.015625 \r\nQ 18.3125 11.328125 20.140625 9.421875 \r\nQ 21.96875 7.515625 27.59375 7.515625 \r\nL 36.8125 7.515625 \r\nL 36.8125 0 \r\nL 27.59375 0 \r\nQ 17.1875 0 13.234375 3.875 \r\nQ 9.28125 7.765625 9.28125 18.015625 \r\nL 9.28125 47.703125 \r\nL 2.6875 47.703125 \r\nL 2.6875 54.6875 \r\nL 9.28125 54.6875 \r\nL 9.28125 70.21875 \r\nz\r\n\" id=\"DejaVuSans-116\"/>\r\n      <path d=\"M 48.78125 52.59375 \r\nL 48.78125 44.1875 \r\nQ 44.96875 46.296875 41.140625 47.34375 \r\nQ 37.3125 48.390625 33.40625 48.390625 \r\nQ 24.65625 48.390625 19.8125 42.84375 \r\nQ 14.984375 37.3125 14.984375 27.296875 \r\nQ 14.984375 17.28125 19.8125 11.734375 \r\nQ 24.65625 6.203125 33.40625 6.203125 \r\nQ 37.3125 6.203125 41.140625 7.25 \r\nQ 44.96875 8.296875 48.78125 10.40625 \r\nL 48.78125 2.09375 \r\nQ 45.015625 0.34375 40.984375 -0.53125 \r\nQ 36.96875 -1.421875 32.421875 -1.421875 \r\nQ 20.0625 -1.421875 12.78125 6.34375 \r\nQ 5.515625 14.109375 5.515625 27.296875 \r\nQ 5.515625 40.671875 12.859375 48.328125 \r\nQ 20.21875 56 33.015625 56 \r\nQ 37.15625 56 41.109375 55.140625 \r\nQ 45.0625 54.296875 48.78125 52.59375 \r\nz\r\n\" id=\"DejaVuSans-99\"/>\r\n      <path d=\"M 41.109375 46.296875 \r\nQ 39.59375 47.171875 37.8125 47.578125 \r\nQ 36.03125 48 33.890625 48 \r\nQ 26.265625 48 22.1875 43.046875 \r\nQ 18.109375 38.09375 18.109375 28.8125 \r\nL 18.109375 0 \r\nL 9.078125 0 \r\nL 9.078125 54.6875 \r\nL 18.109375 54.6875 \r\nL 18.109375 46.1875 \r\nQ 20.953125 51.171875 25.484375 53.578125 \r\nQ 30.03125 56 36.53125 56 \r\nQ 37.453125 56 38.578125 55.875 \r\nQ 39.703125 55.765625 41.0625 55.515625 \r\nz\r\n\" id=\"DejaVuSans-114\"/>\r\n      <path d=\"M 9.421875 54.6875 \r\nL 18.40625 54.6875 \r\nL 18.40625 0 \r\nL 9.421875 0 \r\nz\r\nM 9.421875 75.984375 \r\nL 18.40625 75.984375 \r\nL 18.40625 64.59375 \r\nL 9.421875 64.59375 \r\nz\r\n\" id=\"DejaVuSans-105\"/>\r\n     </defs>\r\n     <g transform=\"translate(14.798438 285.687713)rotate(-90)scale(0.1 -0.1)\">\r\n      <use xlink:href=\"#DejaVuSans-73\"/>\r\n      <use x=\"29.492188\" xlink:href=\"#DejaVuSans-80\"/>\r\n      <use x=\"89.794922\" xlink:href=\"#DejaVuSans-67\"/>\r\n      <use x=\"159.619141\" xlink:href=\"#DejaVuSans-65\"/>\r\n      <use x=\"228.027344\" xlink:href=\"#DejaVuSans-32\"/>\r\n      <use x=\"259.814453\" xlink:href=\"#DejaVuSans-109\"/>\r\n      <use x=\"357.226562\" xlink:href=\"#DejaVuSans-101\"/>\r\n      <use x=\"418.75\" xlink:href=\"#DejaVuSans-110\"/>\r\n      <use x=\"482.128906\" xlink:href=\"#DejaVuSans-115\"/>\r\n      <use x=\"534.228516\" xlink:href=\"#DejaVuSans-97\"/>\r\n      <use x=\"595.507812\" xlink:href=\"#DejaVuSans-108\"/>\r\n      <use x=\"623.291016\" xlink:href=\"#DejaVuSans-32\"/>\r\n      <use x=\"655.078125\" xlink:href=\"#DejaVuSans-100\"/>\r\n      <use x=\"718.554688\" xlink:href=\"#DejaVuSans-101\"/>\r\n      <use x=\"780.078125\" xlink:href=\"#DejaVuSans-32\"/>\r\n      <use x=\"811.865234\" xlink:href=\"#DejaVuSans-98\"/>\r\n      <use x=\"875.341797\" xlink:href=\"#DejaVuSans-111\"/>\r\n      <use x=\"936.523438\" xlink:href=\"#DejaVuSans-97\"/>\r\n      <use x=\"997.802734\" xlink:href=\"#DejaVuSans-116\"/>\r\n      <use x=\"1037.011719\" xlink:href=\"#DejaVuSans-101\"/>\r\n      <use x=\"1098.535156\" xlink:href=\"#DejaVuSans-115\"/>\r\n      <use x=\"1150.634766\" xlink:href=\"#DejaVuSans-32\"/>\r\n      <use x=\"1182.421875\" xlink:href=\"#DejaVuSans-101\"/>\r\n      <use x=\"1243.945312\" xlink:href=\"#DejaVuSans-32\"/>\r\n      <use x=\"1275.732422\" xlink:href=\"#DejaVuSans-100\"/>\r\n      <use x=\"1339.208984\" xlink:href=\"#DejaVuSans-97\"/>\r\n      <use x=\"1400.488281\" xlink:href=\"#DejaVuSans-110\"/>\r\n      <use x=\"1463.867188\" xlink:href=\"#DejaVuSans-99\"/>\r\n      <use x=\"1518.847656\" xlink:href=\"#DejaVuSans-101\"/>\r\n      <use x=\"1580.371094\" xlink:href=\"#DejaVuSans-116\"/>\r\n      <use x=\"1619.580078\" xlink:href=\"#DejaVuSans-101\"/>\r\n      <use x=\"1681.103516\" xlink:href=\"#DejaVuSans-114\"/>\r\n      <use x=\"1722.216797\" xlink:href=\"#DejaVuSans-105\"/>\r\n      <use x=\"1750\" xlink:href=\"#DejaVuSans-97\"/>\r\n      <use x=\"1811.279297\" xlink:href=\"#DejaVuSans-115\"/>\r\n     </g>\r\n    </g>\r\n   </g>\r\n   <g id=\"patch_3\">\r\n    <path d=\"M 42.620313 377.836364 \r\nL 42.620313 7.2 \r\n\" style=\"fill:none;stroke:#000000;stroke-linecap:square;stroke-linejoin:miter;stroke-width:0.8;\"/>\r\n   </g>\r\n   <g id=\"patch_4\">\r\n    <path d=\"M 600.620312 377.836364 \r\nL 600.620312 7.2 \r\n\" style=\"fill:none;stroke:#000000;stroke-linecap:square;stroke-linejoin:miter;stroke-width:0.8;\"/>\r\n   </g>\r\n   <g id=\"patch_5\">\r\n    <path d=\"M 42.620313 377.836364 \r\nL 600.620313 377.836364 \r\n\" style=\"fill:none;stroke:#000000;stroke-linecap:square;stroke-linejoin:miter;stroke-width:0.8;\"/>\r\n   </g>\r\n   <g id=\"patch_6\">\r\n    <path d=\"M 42.620313 7.2 \r\nL 600.620313 7.2 \r\n\" style=\"fill:none;stroke:#000000;stroke-linecap:square;stroke-linejoin:miter;stroke-width:0.8;\"/>\r\n   </g>\r\n  </g>\r\n  <g id=\"axes_2\">\r\n   <g id=\"patch_7\">\r\n    <path d=\"M 42.620313 822.6 \r\nL 600.620312 822.6 \r\nL 600.620312 451.963636 \r\nL 42.620313 451.963636 \r\nz\r\n\" style=\"fill:#ffffff;\"/>\r\n   </g>\r\n   <g id=\"PathCollection_2\">\r\n    <g clip-path=\"url(#p448a5f275c)\">\r\n     <use style=\"fill:#1f77b4;stroke:#1f77b4;\" x=\"318.396291\" xlink:href=\"#m73a259c802\" y=\"736.024255\"/>\r\n     <use style=\"fill:#1f77b4;stroke:#1f77b4;\" x=\"498.648021\" xlink:href=\"#m73a259c802\" y=\"763.485876\"/>\r\n     <use style=\"fill:#1f77b4;stroke:#1f77b4;\" x=\"575.256676\" xlink:href=\"#m73a259c802\" y=\"765.157453\"/>\r\n     <use style=\"fill:#1f77b4;stroke:#1f77b4;\" x=\"160.263136\" xlink:href=\"#m73a259c802\" y=\"697.339189\"/>\r\n     <use style=\"fill:#1f77b4;stroke:#1f77b4;\" x=\"454.659557\" xlink:href=\"#m73a259c802\" y=\"727.188777\"/>\r\n     <use style=\"fill:#1f77b4;stroke:#1f77b4;\" x=\"258.308804\" xlink:href=\"#m73a259c802\" y=\"693.757239\"/>\r\n     <use style=\"fill:#1f77b4;stroke:#1f77b4;\" x=\"527.987267\" xlink:href=\"#m73a259c802\" y=\"713.577365\"/>\r\n     <use style=\"fill:#1f77b4;stroke:#1f77b4;\" x=\"483.458208\" xlink:href=\"#m73a259c802\" y=\"699.488359\"/>\r\n     <use style=\"fill:#1f77b4;stroke:#1f77b4;\" x=\"517.761046\" xlink:href=\"#m73a259c802\" y=\"732.442305\"/>\r\n     <use style=\"fill:#1f77b4;stroke:#1f77b4;\" x=\"247.504753\" xlink:href=\"#m73a259c802\" y=\"717.875706\"/>\r\n     <use style=\"fill:#1f77b4;stroke:#1f77b4;\" x=\"308.222923\" xlink:href=\"#m73a259c802\" y=\"710.711805\"/>\r\n     <use style=\"fill:#1f77b4;stroke:#1f77b4;\" x=\"345.341173\" xlink:href=\"#m73a259c802\" y=\"683.250184\"/>\r\n     <use style=\"fill:#1f77b4;stroke:#1f77b4;\" x=\"393.985624\" xlink:href=\"#m73a259c802\" y=\"699.727156\"/>\r\n     <use style=\"fill:#1f77b4;stroke:#1f77b4;\" x=\"277.383255\" xlink:href=\"#m73a259c802\" y=\"640.02798\"/>\r\n     <use style=\"fill:#1f77b4;stroke:#1f77b4;\" x=\"71.322571\" xlink:href=\"#m73a259c802\" y=\"468.810744\"/>\r\n     <use style=\"fill:#1f77b4;stroke:#1f77b4;\" x=\"243.661422\" xlink:href=\"#m73a259c802\" y=\"537.822991\"/>\r\n     <use style=\"fill:#1f77b4;stroke:#1f77b4;\" x=\"408.797769\" xlink:href=\"#m73a259c802\" y=\"611.372376\"/>\r\n     <use style=\"fill:#1f77b4;stroke:#1f77b4;\" x=\"67.983949\" xlink:href=\"#m73a259c802\" y=\"631.431299\"/>\r\n     <use style=\"fill:#1f77b4;stroke:#1f77b4;\" x=\"333.952682\" xlink:href=\"#m73a259c802\" y=\"593.223826\"/>\r\n     <use style=\"fill:#1f77b4;stroke:#1f77b4;\" x=\"314.061135\" xlink:href=\"#m73a259c802\" y=\"630.714909\"/>\r\n     <use style=\"fill:#1f77b4;stroke:#1f77b4;\" x=\"317.308142\" xlink:href=\"#m73a259c802\" y=\"685.638151\"/>\r\n     <use style=\"fill:#1f77b4;stroke:#1f77b4;\" x=\"267.269129\" xlink:href=\"#m73a259c802\" y=\"752.740024\"/>\r\n     <use style=\"fill:#1f77b4;stroke:#1f77b4;\" x=\"468.178612\" xlink:href=\"#m73a259c802\" y=\"795.007041\"/>\r\n     <use style=\"fill:#1f77b4;stroke:#1f77b4;\" x=\"220.476864\" xlink:href=\"#m73a259c802\" y=\"747.725294\"/>\r\n     <use style=\"fill:#1f77b4;stroke:#1f77b4;\" x=\"220.42481\" xlink:href=\"#m73a259c802\" y=\"752.501228\"/>\r\n     <use style=\"fill:#1f77b4;stroke:#1f77b4;\" x=\"292.879652\" xlink:href=\"#m73a259c802\" y=\"680.862217\"/>\r\n     <use style=\"fill:#1f77b4;stroke:#1f77b4;\" x=\"364.143523\" xlink:href=\"#m73a259c802\" y=\"679.90703\"/>\r\n     <use style=\"fill:#1f77b4;stroke:#1f77b4;\" x=\"334.802169\" xlink:href=\"#m73a259c802\" y=\"702.831513\"/>\r\n     <use style=\"fill:#1f77b4;stroke:#1f77b4;\" x=\"345.541565\" xlink:href=\"#m73a259c802\" y=\"658.89292\"/>\r\n     <use style=\"fill:#1f77b4;stroke:#1f77b4;\" x=\"358.629159\" xlink:href=\"#m73a259c802\" y=\"738.651019\"/>\r\n     <use style=\"fill:#1f77b4;stroke:#1f77b4;\" x=\"190.40856\" xlink:href=\"#m73a259c802\" y=\"705.458277\"/>\r\n     <use style=\"fill:#1f77b4;stroke:#1f77b4;\" x=\"325.125941\" xlink:href=\"#m73a259c802\" y=\"742.232969\"/>\r\n     <use style=\"fill:#1f77b4;stroke:#1f77b4;\" x=\"328.334356\" xlink:href=\"#m73a259c802\" y=\"749.396871\"/>\r\n     <use style=\"fill:#1f77b4;stroke:#1f77b4;\" x=\"391.775633\" xlink:href=\"#m73a259c802\" y=\"772.798947\"/>\r\n     <use style=\"fill:#1f77b4;stroke:#1f77b4;\" x=\"302.462613\" xlink:href=\"#m73a259c802\" y=\"770.649777\"/>\r\n     <use style=\"fill:#1f77b4;stroke:#1f77b4;\" x=\"345.685254\" xlink:href=\"#m73a259c802\" y=\"753.695211\"/>\r\n     <use style=\"fill:#1f77b4;stroke:#1f77b4;\" x=\"212.460104\" xlink:href=\"#m73a259c802\" y=\"742.710563\"/>\r\n     <use style=\"fill:#1f77b4;stroke:#1f77b4;\" x=\"372.818671\" xlink:href=\"#m73a259c802\" y=\"705.458277\"/>\r\n     <use style=\"fill:#1f77b4;stroke:#1f77b4;\" x=\"368.763625\" xlink:href=\"#m73a259c802\" y=\"805.752893\"/>\r\n     <use style=\"fill:#1f77b4;stroke:#1f77b4;\" x=\"421.399481\" xlink:href=\"#m73a259c802\" y=\"749.635667\"/>\r\n     <use style=\"fill:#1f77b4;stroke:#1f77b4;\" x=\"481.299559\" xlink:href=\"#m73a259c802\" y=\"780.918035\"/>\r\n     <use style=\"fill:#1f77b4;stroke:#1f77b4;\" x=\"385.862933\" xlink:href=\"#m73a259c802\" y=\"740.322596\"/>\r\n     <use style=\"fill:#1f77b4;stroke:#1f77b4;\" x=\"253.283043\" xlink:href=\"#m73a259c802\" y=\"719.308486\"/>\r\n     <use style=\"fill:#1f77b4;stroke:#1f77b4;\" x=\"544.883606\" xlink:href=\"#m73a259c802\" y=\"749.158074\"/>\r\n     <use style=\"fill:#1f77b4;stroke:#1f77b4;\" x=\"240.457444\" xlink:href=\"#m73a259c802\" y=\"741.516579\"/>\r\n     <use style=\"fill:#1f77b4;stroke:#1f77b4;\" x=\"149.632262\" xlink:href=\"#m73a259c802\" y=\"691.130475\"/>\r\n     <use style=\"fill:#1f77b4;stroke:#1f77b4;\" x=\"402.73044\" xlink:href=\"#m73a259c802\" y=\"694.951222\"/>\r\n     <use style=\"fill:#1f77b4;stroke:#1f77b4;\" x=\"319.952281\" xlink:href=\"#m73a259c802\" y=\"752.978821\"/>\r\n     <use style=\"fill:#1f77b4;stroke:#1f77b4;\" x=\"181.553684\" xlink:href=\"#m73a259c802\" y=\"696.145206\"/>\r\n     <use style=\"fill:#1f77b4;stroke:#1f77b4;\" x=\"367.387936\" xlink:href=\"#m73a259c802\" y=\"753.934008\"/>\r\n     <use style=\"fill:#1f77b4;stroke:#1f77b4;\" x=\"409.941622\" xlink:href=\"#m73a259c802\" y=\"715.726535\"/>\r\n     <use style=\"fill:#1f77b4;stroke:#1f77b4;\" x=\"341.672864\" xlink:href=\"#m73a259c802\" y=\"725.039607\"/>\r\n     <use style=\"fill:#1f77b4;stroke:#1f77b4;\" x=\"310.475939\" xlink:href=\"#m73a259c802\" y=\"733.397491\"/>\r\n     <use style=\"fill:#1f77b4;stroke:#1f77b4;\" x=\"250.161049\" xlink:href=\"#m73a259c802\" y=\"747.008903\"/>\r\n     <use style=\"fill:#1f77b4;stroke:#1f77b4;\" x=\"272.970716\" xlink:href=\"#m73a259c802\" y=\"736.263052\"/>\r\n     <use style=\"fill:#1f77b4;stroke:#1f77b4;\" x=\"540.136504\" xlink:href=\"#m73a259c802\" y=\"761.575502\"/>\r\n     <use style=\"fill:#1f77b4;stroke:#1f77b4;\" x=\"327.458867\" xlink:href=\"#m73a259c802\" y=\"741.516579\"/>\r\n     <use style=\"fill:#1f77b4;stroke:#1f77b4;\" x=\"225.090663\" xlink:href=\"#m73a259c802\" y=\"793.813057\"/>\r\n     <use style=\"fill:#1f77b4;stroke:#1f77b4;\" x=\"438.769241\" xlink:href=\"#m73a259c802\" y=\"729.815541\"/>\r\n     <use style=\"fill:#1f77b4;stroke:#1f77b4;\" x=\"208.462022\" xlink:href=\"#m73a259c802\" y=\"742.710563\"/>\r\n    </g>\r\n   </g>\r\n   <g id=\"matplotlib.axis_3\">\r\n    <g id=\"xtick_6\">\r\n     <g id=\"line2d_12\">\r\n      <g>\r\n       <use style=\"stroke:#000000;stroke-width:0.8;\" x=\"84.393637\" xlink:href=\"#mcb4cfacdfd\" y=\"822.6\"/>\r\n      </g>\r\n     </g>\r\n     <g id=\"text_13\">\r\n      <!-- −0.10 -->\r\n      <g transform=\"translate(69.07098 837.198437)scale(0.1 -0.1)\">\r\n       <use xlink:href=\"#DejaVuSans-8722\"/>\r\n       <use x=\"83.789062\" xlink:href=\"#DejaVuSans-48\"/>\r\n       <use x=\"147.412109\" xlink:href=\"#DejaVuSans-46\"/>\r\n       <use x=\"179.199219\" xlink:href=\"#DejaVuSans-49\"/>\r\n       <use x=\"242.822266\" xlink:href=\"#DejaVuSans-48\"/>\r\n      </g>\r\n     </g>\r\n    </g>\r\n    <g id=\"xtick_7\">\r\n     <g id=\"line2d_13\">\r\n      <g>\r\n       <use style=\"stroke:#000000;stroke-width:0.8;\" x=\"198.768333\" xlink:href=\"#mcb4cfacdfd\" y=\"822.6\"/>\r\n      </g>\r\n     </g>\r\n     <g id=\"text_14\">\r\n      <!-- −0.05 -->\r\n      <g transform=\"translate(183.445677 837.198437)scale(0.1 -0.1)\">\r\n       <use xlink:href=\"#DejaVuSans-8722\"/>\r\n       <use x=\"83.789062\" xlink:href=\"#DejaVuSans-48\"/>\r\n       <use x=\"147.412109\" xlink:href=\"#DejaVuSans-46\"/>\r\n       <use x=\"179.199219\" xlink:href=\"#DejaVuSans-48\"/>\r\n       <use x=\"242.822266\" xlink:href=\"#DejaVuSans-53\"/>\r\n      </g>\r\n     </g>\r\n    </g>\r\n    <g id=\"xtick_8\">\r\n     <g id=\"line2d_14\">\r\n      <g>\r\n       <use style=\"stroke:#000000;stroke-width:0.8;\" x=\"313.14303\" xlink:href=\"#mcb4cfacdfd\" y=\"822.6\"/>\r\n      </g>\r\n     </g>\r\n     <g id=\"text_15\">\r\n      <!-- 0.00 -->\r\n      <g transform=\"translate(302.010217 837.198437)scale(0.1 -0.1)\">\r\n       <use xlink:href=\"#DejaVuSans-48\"/>\r\n       <use x=\"63.623047\" xlink:href=\"#DejaVuSans-46\"/>\r\n       <use x=\"95.410156\" xlink:href=\"#DejaVuSans-48\"/>\r\n       <use x=\"159.033203\" xlink:href=\"#DejaVuSans-48\"/>\r\n      </g>\r\n     </g>\r\n    </g>\r\n    <g id=\"xtick_9\">\r\n     <g id=\"line2d_15\">\r\n      <g>\r\n       <use style=\"stroke:#000000;stroke-width:0.8;\" x=\"427.517726\" xlink:href=\"#mcb4cfacdfd\" y=\"822.6\"/>\r\n      </g>\r\n     </g>\r\n     <g id=\"text_16\">\r\n      <!-- 0.05 -->\r\n      <g transform=\"translate(416.384913 837.198437)scale(0.1 -0.1)\">\r\n       <use xlink:href=\"#DejaVuSans-48\"/>\r\n       <use x=\"63.623047\" xlink:href=\"#DejaVuSans-46\"/>\r\n       <use x=\"95.410156\" xlink:href=\"#DejaVuSans-48\"/>\r\n       <use x=\"159.033203\" xlink:href=\"#DejaVuSans-53\"/>\r\n      </g>\r\n     </g>\r\n    </g>\r\n    <g id=\"xtick_10\">\r\n     <g id=\"line2d_16\">\r\n      <g>\r\n       <use style=\"stroke:#000000;stroke-width:0.8;\" x=\"541.892422\" xlink:href=\"#mcb4cfacdfd\" y=\"822.6\"/>\r\n      </g>\r\n     </g>\r\n     <g id=\"text_17\">\r\n      <!-- 0.10 -->\r\n      <g transform=\"translate(530.75961 837.198437)scale(0.1 -0.1)\">\r\n       <use xlink:href=\"#DejaVuSans-48\"/>\r\n       <use x=\"63.623047\" xlink:href=\"#DejaVuSans-46\"/>\r\n       <use x=\"95.410156\" xlink:href=\"#DejaVuSans-49\"/>\r\n       <use x=\"159.033203\" xlink:href=\"#DejaVuSans-48\"/>\r\n      </g>\r\n     </g>\r\n    </g>\r\n   </g>\r\n   <g id=\"matplotlib.axis_4\">\r\n    <g id=\"ytick_7\">\r\n     <g id=\"line2d_17\">\r\n      <g>\r\n       <use style=\"stroke:#000000;stroke-width:0.8;\" x=\"42.620313\" xlink:href=\"#me1c77cc54d\" y=\"790.469904\"/>\r\n      </g>\r\n     </g>\r\n     <g id=\"text_18\">\r\n      <!-- −2 -->\r\n      <g transform=\"translate(20.878125 794.269122)scale(0.1 -0.1)\">\r\n       <use xlink:href=\"#DejaVuSans-8722\"/>\r\n       <use x=\"83.789062\" xlink:href=\"#DejaVuSans-50\"/>\r\n      </g>\r\n     </g>\r\n    </g>\r\n    <g id=\"ytick_8\">\r\n     <g id=\"line2d_18\">\r\n      <g>\r\n       <use style=\"stroke:#000000;stroke-width:0.8;\" x=\"42.620313\" xlink:href=\"#me1c77cc54d\" y=\"742.710563\"/>\r\n      </g>\r\n     </g>\r\n     <g id=\"text_19\">\r\n      <!-- 0 -->\r\n      <g transform=\"translate(29.257813 746.509782)scale(0.1 -0.1)\">\r\n       <use xlink:href=\"#DejaVuSans-48\"/>\r\n      </g>\r\n     </g>\r\n    </g>\r\n    <g id=\"ytick_9\">\r\n     <g id=\"line2d_19\">\r\n      <g>\r\n       <use style=\"stroke:#000000;stroke-width:0.8;\" x=\"42.620313\" xlink:href=\"#me1c77cc54d\" y=\"694.951222\"/>\r\n      </g>\r\n     </g>\r\n     <g id=\"text_20\">\r\n      <!-- 2 -->\r\n      <g transform=\"translate(29.257813 698.750441)scale(0.1 -0.1)\">\r\n       <use xlink:href=\"#DejaVuSans-50\"/>\r\n      </g>\r\n     </g>\r\n    </g>\r\n    <g id=\"ytick_10\">\r\n     <g id=\"line2d_20\">\r\n      <g>\r\n       <use style=\"stroke:#000000;stroke-width:0.8;\" x=\"42.620313\" xlink:href=\"#me1c77cc54d\" y=\"647.191881\"/>\r\n      </g>\r\n     </g>\r\n     <g id=\"text_21\">\r\n      <!-- 4 -->\r\n      <defs>\r\n       <path d=\"M 37.796875 64.3125 \r\nL 12.890625 25.390625 \r\nL 37.796875 25.390625 \r\nz\r\nM 35.203125 72.90625 \r\nL 47.609375 72.90625 \r\nL 47.609375 25.390625 \r\nL 58.015625 25.390625 \r\nL 58.015625 17.1875 \r\nL 47.609375 17.1875 \r\nL 47.609375 0 \r\nL 37.796875 0 \r\nL 37.796875 17.1875 \r\nL 4.890625 17.1875 \r\nL 4.890625 26.703125 \r\nz\r\n\" id=\"DejaVuSans-52\"/>\r\n      </defs>\r\n      <g transform=\"translate(29.257813 650.9911)scale(0.1 -0.1)\">\r\n       <use xlink:href=\"#DejaVuSans-52\"/>\r\n      </g>\r\n     </g>\r\n    </g>\r\n    <g id=\"ytick_11\">\r\n     <g id=\"line2d_21\">\r\n      <g>\r\n       <use style=\"stroke:#000000;stroke-width:0.8;\" x=\"42.620313\" xlink:href=\"#me1c77cc54d\" y=\"599.432541\"/>\r\n      </g>\r\n     </g>\r\n     <g id=\"text_22\">\r\n      <!-- 6 -->\r\n      <defs>\r\n       <path d=\"M 33.015625 40.375 \r\nQ 26.375 40.375 22.484375 35.828125 \r\nQ 18.609375 31.296875 18.609375 23.390625 \r\nQ 18.609375 15.53125 22.484375 10.953125 \r\nQ 26.375 6.390625 33.015625 6.390625 \r\nQ 39.65625 6.390625 43.53125 10.953125 \r\nQ 47.40625 15.53125 47.40625 23.390625 \r\nQ 47.40625 31.296875 43.53125 35.828125 \r\nQ 39.65625 40.375 33.015625 40.375 \r\nz\r\nM 52.59375 71.296875 \r\nL 52.59375 62.3125 \r\nQ 48.875 64.0625 45.09375 64.984375 \r\nQ 41.3125 65.921875 37.59375 65.921875 \r\nQ 27.828125 65.921875 22.671875 59.328125 \r\nQ 17.53125 52.734375 16.796875 39.40625 \r\nQ 19.671875 43.65625 24.015625 45.921875 \r\nQ 28.375 48.1875 33.59375 48.1875 \r\nQ 44.578125 48.1875 50.953125 41.515625 \r\nQ 57.328125 34.859375 57.328125 23.390625 \r\nQ 57.328125 12.15625 50.6875 5.359375 \r\nQ 44.046875 -1.421875 33.015625 -1.421875 \r\nQ 20.359375 -1.421875 13.671875 8.265625 \r\nQ 6.984375 17.96875 6.984375 36.375 \r\nQ 6.984375 53.65625 15.1875 63.9375 \r\nQ 23.390625 74.21875 37.203125 74.21875 \r\nQ 40.921875 74.21875 44.703125 73.484375 \r\nQ 48.484375 72.75 52.59375 71.296875 \r\nz\r\n\" id=\"DejaVuSans-54\"/>\r\n      </defs>\r\n      <g transform=\"translate(29.257813 603.231759)scale(0.1 -0.1)\">\r\n       <use xlink:href=\"#DejaVuSans-54\"/>\r\n      </g>\r\n     </g>\r\n    </g>\r\n    <g id=\"ytick_12\">\r\n     <g id=\"line2d_22\">\r\n      <g>\r\n       <use style=\"stroke:#000000;stroke-width:0.8;\" x=\"42.620313\" xlink:href=\"#me1c77cc54d\" y=\"551.6732\"/>\r\n      </g>\r\n     </g>\r\n     <g id=\"text_23\">\r\n      <!-- 8 -->\r\n      <defs>\r\n       <path d=\"M 31.78125 34.625 \r\nQ 24.75 34.625 20.71875 30.859375 \r\nQ 16.703125 27.09375 16.703125 20.515625 \r\nQ 16.703125 13.921875 20.71875 10.15625 \r\nQ 24.75 6.390625 31.78125 6.390625 \r\nQ 38.8125 6.390625 42.859375 10.171875 \r\nQ 46.921875 13.96875 46.921875 20.515625 \r\nQ 46.921875 27.09375 42.890625 30.859375 \r\nQ 38.875 34.625 31.78125 34.625 \r\nz\r\nM 21.921875 38.8125 \r\nQ 15.578125 40.375 12.03125 44.71875 \r\nQ 8.5 49.078125 8.5 55.328125 \r\nQ 8.5 64.0625 14.71875 69.140625 \r\nQ 20.953125 74.21875 31.78125 74.21875 \r\nQ 42.671875 74.21875 48.875 69.140625 \r\nQ 55.078125 64.0625 55.078125 55.328125 \r\nQ 55.078125 49.078125 51.53125 44.71875 \r\nQ 48 40.375 41.703125 38.8125 \r\nQ 48.828125 37.15625 52.796875 32.3125 \r\nQ 56.78125 27.484375 56.78125 20.515625 \r\nQ 56.78125 9.90625 50.3125 4.234375 \r\nQ 43.84375 -1.421875 31.78125 -1.421875 \r\nQ 19.734375 -1.421875 13.25 4.234375 \r\nQ 6.78125 9.90625 6.78125 20.515625 \r\nQ 6.78125 27.484375 10.78125 32.3125 \r\nQ 14.796875 37.15625 21.921875 38.8125 \r\nz\r\nM 18.3125 54.390625 \r\nQ 18.3125 48.734375 21.84375 45.5625 \r\nQ 25.390625 42.390625 31.78125 42.390625 \r\nQ 38.140625 42.390625 41.71875 45.5625 \r\nQ 45.3125 48.734375 45.3125 54.390625 \r\nQ 45.3125 60.0625 41.71875 63.234375 \r\nQ 38.140625 66.40625 31.78125 66.40625 \r\nQ 25.390625 66.40625 21.84375 63.234375 \r\nQ 18.3125 60.0625 18.3125 54.390625 \r\nz\r\n\" id=\"DejaVuSans-56\"/>\r\n      </defs>\r\n      <g transform=\"translate(29.257813 555.472419)scale(0.1 -0.1)\">\r\n       <use xlink:href=\"#DejaVuSans-56\"/>\r\n      </g>\r\n     </g>\r\n    </g>\r\n    <g id=\"ytick_13\">\r\n     <g id=\"line2d_23\">\r\n      <g>\r\n       <use style=\"stroke:#000000;stroke-width:0.8;\" x=\"42.620313\" xlink:href=\"#me1c77cc54d\" y=\"503.913859\"/>\r\n      </g>\r\n     </g>\r\n     <g id=\"text_24\">\r\n      <!-- 10 -->\r\n      <g transform=\"translate(22.895313 507.713078)scale(0.1 -0.1)\">\r\n       <use xlink:href=\"#DejaVuSans-49\"/>\r\n       <use x=\"63.623047\" xlink:href=\"#DejaVuSans-48\"/>\r\n      </g>\r\n     </g>\r\n    </g>\r\n    <g id=\"ytick_14\">\r\n     <g id=\"line2d_24\">\r\n      <g>\r\n       <use style=\"stroke:#000000;stroke-width:0.8;\" x=\"42.620313\" xlink:href=\"#me1c77cc54d\" y=\"456.154519\"/>\r\n      </g>\r\n     </g>\r\n     <g id=\"text_25\">\r\n      <!-- 12 -->\r\n      <g transform=\"translate(22.895313 459.953737)scale(0.1 -0.1)\">\r\n       <use xlink:href=\"#DejaVuSans-49\"/>\r\n       <use x=\"63.623047\" xlink:href=\"#DejaVuSans-50\"/>\r\n      </g>\r\n     </g>\r\n    </g>\r\n    <g id=\"text_26\">\r\n     <!-- IPCA mensal de Manteiga -->\r\n     <defs>\r\n      <path d=\"M 9.8125 72.90625 \r\nL 24.515625 72.90625 \r\nL 43.109375 23.296875 \r\nL 61.8125 72.90625 \r\nL 76.515625 72.90625 \r\nL 76.515625 0 \r\nL 66.890625 0 \r\nL 66.890625 64.015625 \r\nL 48.09375 14.015625 \r\nL 38.1875 14.015625 \r\nL 19.390625 64.015625 \r\nL 19.390625 0 \r\nL 9.8125 0 \r\nz\r\n\" id=\"DejaVuSans-77\"/>\r\n      <path d=\"M 45.40625 27.984375 \r\nQ 45.40625 37.75 41.375 43.109375 \r\nQ 37.359375 48.484375 30.078125 48.484375 \r\nQ 22.859375 48.484375 18.828125 43.109375 \r\nQ 14.796875 37.75 14.796875 27.984375 \r\nQ 14.796875 18.265625 18.828125 12.890625 \r\nQ 22.859375 7.515625 30.078125 7.515625 \r\nQ 37.359375 7.515625 41.375 12.890625 \r\nQ 45.40625 18.265625 45.40625 27.984375 \r\nz\r\nM 54.390625 6.78125 \r\nQ 54.390625 -7.171875 48.1875 -13.984375 \r\nQ 42 -20.796875 29.203125 -20.796875 \r\nQ 24.46875 -20.796875 20.265625 -20.09375 \r\nQ 16.0625 -19.390625 12.109375 -17.921875 \r\nL 12.109375 -9.1875 \r\nQ 16.0625 -11.328125 19.921875 -12.34375 \r\nQ 23.78125 -13.375 27.78125 -13.375 \r\nQ 36.625 -13.375 41.015625 -8.765625 \r\nQ 45.40625 -4.15625 45.40625 5.171875 \r\nL 45.40625 9.625 \r\nQ 42.625 4.78125 38.28125 2.390625 \r\nQ 33.9375 0 27.875 0 \r\nQ 17.828125 0 11.671875 7.65625 \r\nQ 5.515625 15.328125 5.515625 27.984375 \r\nQ 5.515625 40.671875 11.671875 48.328125 \r\nQ 17.828125 56 27.875 56 \r\nQ 33.9375 56 38.28125 53.609375 \r\nQ 42.625 51.21875 45.40625 46.390625 \r\nL 45.40625 54.6875 \r\nL 54.390625 54.6875 \r\nz\r\n\" id=\"DejaVuSans-103\"/>\r\n     </defs>\r\n     <g transform=\"translate(14.798438 701.085724)rotate(-90)scale(0.1 -0.1)\">\r\n      <use xlink:href=\"#DejaVuSans-73\"/>\r\n      <use x=\"29.492188\" xlink:href=\"#DejaVuSans-80\"/>\r\n      <use x=\"89.794922\" xlink:href=\"#DejaVuSans-67\"/>\r\n      <use x=\"159.619141\" xlink:href=\"#DejaVuSans-65\"/>\r\n      <use x=\"228.027344\" xlink:href=\"#DejaVuSans-32\"/>\r\n      <use x=\"259.814453\" xlink:href=\"#DejaVuSans-109\"/>\r\n      <use x=\"357.226562\" xlink:href=\"#DejaVuSans-101\"/>\r\n      <use x=\"418.75\" xlink:href=\"#DejaVuSans-110\"/>\r\n      <use x=\"482.128906\" xlink:href=\"#DejaVuSans-115\"/>\r\n      <use x=\"534.228516\" xlink:href=\"#DejaVuSans-97\"/>\r\n      <use x=\"595.507812\" xlink:href=\"#DejaVuSans-108\"/>\r\n      <use x=\"623.291016\" xlink:href=\"#DejaVuSans-32\"/>\r\n      <use x=\"655.078125\" xlink:href=\"#DejaVuSans-100\"/>\r\n      <use x=\"718.554688\" xlink:href=\"#DejaVuSans-101\"/>\r\n      <use x=\"780.078125\" xlink:href=\"#DejaVuSans-32\"/>\r\n      <use x=\"811.865234\" xlink:href=\"#DejaVuSans-77\"/>\r\n      <use x=\"898.144531\" xlink:href=\"#DejaVuSans-97\"/>\r\n      <use x=\"959.423828\" xlink:href=\"#DejaVuSans-110\"/>\r\n      <use x=\"1022.802734\" xlink:href=\"#DejaVuSans-116\"/>\r\n      <use x=\"1062.011719\" xlink:href=\"#DejaVuSans-101\"/>\r\n      <use x=\"1123.535156\" xlink:href=\"#DejaVuSans-105\"/>\r\n      <use x=\"1151.318359\" xlink:href=\"#DejaVuSans-103\"/>\r\n      <use x=\"1214.794922\" xlink:href=\"#DejaVuSans-97\"/>\r\n     </g>\r\n    </g>\r\n   </g>\r\n   <g id=\"patch_8\">\r\n    <path d=\"M 42.620313 822.6 \r\nL 42.620313 451.963636 \r\n\" style=\"fill:none;stroke:#000000;stroke-linecap:square;stroke-linejoin:miter;stroke-width:0.8;\"/>\r\n   </g>\r\n   <g id=\"patch_9\">\r\n    <path d=\"M 600.620312 822.6 \r\nL 600.620312 451.963636 \r\n\" style=\"fill:none;stroke:#000000;stroke-linecap:square;stroke-linejoin:miter;stroke-width:0.8;\"/>\r\n   </g>\r\n   <g id=\"patch_10\">\r\n    <path d=\"M 42.620313 822.6 \r\nL 600.620313 822.6 \r\n\" style=\"fill:none;stroke:#000000;stroke-linecap:square;stroke-linejoin:miter;stroke-width:0.8;\"/>\r\n   </g>\r\n   <g id=\"patch_11\">\r\n    <path d=\"M 42.620313 451.963636 \r\nL 600.620313 451.963636 \r\n\" style=\"fill:none;stroke:#000000;stroke-linecap:square;stroke-linejoin:miter;stroke-width:0.8;\"/>\r\n   </g>\r\n  </g>\r\n </g>\r\n <defs>\r\n  <clipPath id=\"p5b3ad6dfff\">\r\n   <rect height=\"370.636364\" width=\"558\" x=\"42.620313\" y=\"7.2\"/>\r\n  </clipPath>\r\n  <clipPath id=\"p448a5f275c\">\r\n   <rect height=\"370.636364\" width=\"558\" x=\"42.620313\" y=\"451.963636\"/>\r\n  </clipPath>\r\n </defs>\r\n</svg>\r\n",
      "image/png": "[encoded data removed]"
     },
     "metadata": {
      "needs_background": "light"
     }
    }
   ],
   "source": [
    "fig, axs = plt.subplots(2, 1, figsize=(10,15))\n",
    "\n",
    "# Boate\n",
    "ax1 = plt.subplot(211)\n",
    "plt.scatter(dolar.USD, series['7201054.Boate e danceteria'])\n",
    "plt.ylabel('IPCA mensal de boates e danceterias')\n",
    "\n",
    "# Manteiga\n",
    "ax2 = plt.subplot(212, sharex=ax1)\n",
    "plt.scatter(dolar.USD, series['1111031.Manteiga'])\n",
    "plt.ylabel('IPCA mensal de Manteiga')\n",
    "\n",
    "plt.show()"
   ]
  },
  {
   "cell_type": "code",
   "execution_count": null,
   "metadata": {},
   "outputs": [],
   "source": []
  }
 ],
 "metadata": {
  "kernelspec": {
   "display_name": "Python 3",
   "language": "python",
   "name": "python3"
  },
  "language_info": {
   "codemirror_mode": {
    "name": "ipython",
    "version": 3
   },
   "file_extension": ".py",
   "mimetype": "text/x-python",
   "name": "python",
   "nbconvert_exporter": "python",
   "pygments_lexer": "ipython3",
   "version": "3.7.7-final"
  }
 },
 "nbformat": 4,
 "nbformat_minor": 4
}