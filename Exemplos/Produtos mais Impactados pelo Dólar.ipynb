{
 "cells": [
  {
   "cell_type": "markdown",
   "metadata": {},
   "source": [
    "## **Produtos mais Impactados pelo Dólar**\n",
    "\n",
    "#### Este notebook apresenta a correlação entre a cotação do dólar e a inflação dos produtos e compõe o IPC-A, a fim de identificar quais são os produtos mais impactados pela diferença cambial"
   ]
  },
  {
   "cell_type": "code",
   "execution_count": 1,
   "metadata": {},
   "outputs": [],
   "source": [
    "from DadosAbertosBrasil import ibge, ipea, favoritos\n",
    "import pandas as pd\n",
    "import matplotlib.pyplot as plt"
   ]
  },
  {
   "cell_type": "markdown",
   "metadata": {},
   "source": [
    "#### 1. Obter cotação do dólar"
   ]
  },
  {
   "cell_type": "code",
   "execution_count": 2,
   "metadata": {},
   "outputs": [
    {
     "data": {
      "text/html": [
       "<div>\n",
       "<style scoped>\n",
       "    .dataframe tbody tr th:only-of-type {\n",
       "        vertical-align: middle;\n",
       "    }\n",
       "\n",
       "    .dataframe tbody tr th {\n",
       "        vertical-align: top;\n",
       "    }\n",
       "\n",
       "    .dataframe thead th {\n",
       "        text-align: right;\n",
       "    }\n",
       "</style>\n",
       "<table border=\"1\" class=\"dataframe\">\n",
       "  <thead>\n",
       "    <tr style=\"text-align: right;\">\n",
       "      <th></th>\n",
       "      <th>Data</th>\n",
       "      <th>USD</th>\n",
       "    </tr>\n",
       "  </thead>\n",
       "  <tbody>\n",
       "    <tr>\n",
       "      <th>0</th>\n",
       "      <td>2015-01-02 13:09:00.008</td>\n",
       "      <td>2.6929</td>\n",
       "    </tr>\n",
       "    <tr>\n",
       "      <th>1</th>\n",
       "      <td>2015-01-05 13:05:39.045</td>\n",
       "      <td>2.7107</td>\n",
       "    </tr>\n",
       "    <tr>\n",
       "      <th>2</th>\n",
       "      <td>2015-01-06 13:02:40.508</td>\n",
       "      <td>2.7023</td>\n",
       "    </tr>\n",
       "    <tr>\n",
       "      <th>3</th>\n",
       "      <td>2015-01-07 13:03:26.355</td>\n",
       "      <td>2.6807</td>\n",
       "    </tr>\n",
       "    <tr>\n",
       "      <th>4</th>\n",
       "      <td>2015-01-08 13:14:50.913</td>\n",
       "      <td>2.6919</td>\n",
       "    </tr>\n",
       "    <tr>\n",
       "      <th>5</th>\n",
       "      <td>2015-01-09 13:05:35.298</td>\n",
       "      <td>2.6583</td>\n",
       "    </tr>\n",
       "    <tr>\n",
       "      <th>6</th>\n",
       "      <td>2015-01-12 13:08:28.690</td>\n",
       "      <td>2.6575</td>\n",
       "    </tr>\n",
       "    <tr>\n",
       "      <th>7</th>\n",
       "      <td>2015-01-13 13:03:36.247</td>\n",
       "      <td>2.6485</td>\n",
       "    </tr>\n",
       "    <tr>\n",
       "      <th>8</th>\n",
       "      <td>2015-01-14 13:11:33.125</td>\n",
       "      <td>2.6222</td>\n",
       "    </tr>\n",
       "    <tr>\n",
       "      <th>9</th>\n",
       "      <td>2015-01-15 13:09:30.875</td>\n",
       "      <td>2.6122</td>\n",
       "    </tr>\n",
       "  </tbody>\n",
       "</table>\n",
       "</div>"
      ],
      "text/plain": [
       "                     Data     USD\n",
       "0 2015-01-02 13:09:00.008  2.6929\n",
       "1 2015-01-05 13:05:39.045  2.7107\n",
       "2 2015-01-06 13:02:40.508  2.7023\n",
       "3 2015-01-07 13:03:26.355  2.6807\n",
       "4 2015-01-08 13:14:50.913  2.6919\n",
       "5 2015-01-09 13:05:35.298  2.6583\n",
       "6 2015-01-12 13:08:28.690  2.6575\n",
       "7 2015-01-13 13:03:36.247  2.6485\n",
       "8 2015-01-14 13:11:33.125  2.6222\n",
       "9 2015-01-15 13:09:30.875  2.6122"
      ]
     },
     "execution_count": 2,
     "metadata": {},
     "output_type": "execute_result"
    }
   ],
   "source": [
    "# Capturar câmbio\n",
    "dolar = favoritos.cambio('USD', data_inicial='01-01-2015', data_final='01-01-2020')\n",
    "dolar.head(10)"
   ]
  },
  {
   "cell_type": "code",
   "execution_count": 3,
   "metadata": {},
   "outputs": [
    {
     "data": {
      "text/html": [
       "<div>\n",
       "<style scoped>\n",
       "    .dataframe tbody tr th:only-of-type {\n",
       "        vertical-align: middle;\n",
       "    }\n",
       "\n",
       "    .dataframe tbody tr th {\n",
       "        vertical-align: top;\n",
       "    }\n",
       "\n",
       "    .dataframe thead th {\n",
       "        text-align: right;\n",
       "    }\n",
       "</style>\n",
       "<table border=\"1\" class=\"dataframe\">\n",
       "  <thead>\n",
       "    <tr style=\"text-align: right;\">\n",
       "      <th></th>\n",
       "      <th>Data</th>\n",
       "      <th>USD</th>\n",
       "      <th>mês</th>\n",
       "      <th>ano</th>\n",
       "    </tr>\n",
       "  </thead>\n",
       "  <tbody>\n",
       "    <tr>\n",
       "      <th>0</th>\n",
       "      <td>2015-01-02 13:09:00.008</td>\n",
       "      <td>2.6929</td>\n",
       "      <td>1</td>\n",
       "      <td>2015</td>\n",
       "    </tr>\n",
       "    <tr>\n",
       "      <th>1</th>\n",
       "      <td>2015-01-05 13:05:39.045</td>\n",
       "      <td>2.7107</td>\n",
       "      <td>1</td>\n",
       "      <td>2015</td>\n",
       "    </tr>\n",
       "    <tr>\n",
       "      <th>2</th>\n",
       "      <td>2015-01-06 13:02:40.508</td>\n",
       "      <td>2.7023</td>\n",
       "      <td>1</td>\n",
       "      <td>2015</td>\n",
       "    </tr>\n",
       "    <tr>\n",
       "      <th>3</th>\n",
       "      <td>2015-01-07 13:03:26.355</td>\n",
       "      <td>2.6807</td>\n",
       "      <td>1</td>\n",
       "      <td>2015</td>\n",
       "    </tr>\n",
       "    <tr>\n",
       "      <th>4</th>\n",
       "      <td>2015-01-08 13:14:50.913</td>\n",
       "      <td>2.6919</td>\n",
       "      <td>1</td>\n",
       "      <td>2015</td>\n",
       "    </tr>\n",
       "    <tr>\n",
       "      <th>5</th>\n",
       "      <td>2015-01-09 13:05:35.298</td>\n",
       "      <td>2.6583</td>\n",
       "      <td>1</td>\n",
       "      <td>2015</td>\n",
       "    </tr>\n",
       "    <tr>\n",
       "      <th>6</th>\n",
       "      <td>2015-01-12 13:08:28.690</td>\n",
       "      <td>2.6575</td>\n",
       "      <td>1</td>\n",
       "      <td>2015</td>\n",
       "    </tr>\n",
       "    <tr>\n",
       "      <th>7</th>\n",
       "      <td>2015-01-13 13:03:36.247</td>\n",
       "      <td>2.6485</td>\n",
       "      <td>1</td>\n",
       "      <td>2015</td>\n",
       "    </tr>\n",
       "    <tr>\n",
       "      <th>8</th>\n",
       "      <td>2015-01-14 13:11:33.125</td>\n",
       "      <td>2.6222</td>\n",
       "      <td>1</td>\n",
       "      <td>2015</td>\n",
       "    </tr>\n",
       "    <tr>\n",
       "      <th>9</th>\n",
       "      <td>2015-01-15 13:09:30.875</td>\n",
       "      <td>2.6122</td>\n",
       "      <td>1</td>\n",
       "      <td>2015</td>\n",
       "    </tr>\n",
       "  </tbody>\n",
       "</table>\n",
       "</div>"
      ],
      "text/plain": [
       "                     Data     USD  mês   ano\n",
       "0 2015-01-02 13:09:00.008  2.6929    1  2015\n",
       "1 2015-01-05 13:05:39.045  2.7107    1  2015\n",
       "2 2015-01-06 13:02:40.508  2.7023    1  2015\n",
       "3 2015-01-07 13:03:26.355  2.6807    1  2015\n",
       "4 2015-01-08 13:14:50.913  2.6919    1  2015\n",
       "5 2015-01-09 13:05:35.298  2.6583    1  2015\n",
       "6 2015-01-12 13:08:28.690  2.6575    1  2015\n",
       "7 2015-01-13 13:03:36.247  2.6485    1  2015\n",
       "8 2015-01-14 13:11:33.125  2.6222    1  2015\n",
       "9 2015-01-15 13:09:30.875  2.6122    1  2015"
      ]
     },
     "execution_count": 3,
     "metadata": {},
     "output_type": "execute_result"
    }
   ],
   "source": [
    "# Formatar datas\n",
    "dolar['mês'] = dolar.Data.dt.month\n",
    "dolar['ano'] = dolar.Data.dt.year\n",
    "dolar.head(10)"
   ]
  },
  {
   "cell_type": "code",
   "execution_count": 4,
   "metadata": {},
   "outputs": [
    {
     "data": {
      "text/html": [
       "<div>\n",
       "<style scoped>\n",
       "    .dataframe tbody tr th:only-of-type {\n",
       "        vertical-align: middle;\n",
       "    }\n",
       "\n",
       "    .dataframe tbody tr th {\n",
       "        vertical-align: top;\n",
       "    }\n",
       "\n",
       "    .dataframe thead th {\n",
       "        text-align: right;\n",
       "    }\n",
       "</style>\n",
       "<table border=\"1\" class=\"dataframe\">\n",
       "  <thead>\n",
       "    <tr style=\"text-align: right;\">\n",
       "      <th></th>\n",
       "      <th>Data</th>\n",
       "      <th>USD</th>\n",
       "    </tr>\n",
       "  </thead>\n",
       "  <tbody>\n",
       "    <tr>\n",
       "      <th>0</th>\n",
       "      <td>2015-01-30 13:03:33.490</td>\n",
       "      <td>NaN</td>\n",
       "    </tr>\n",
       "    <tr>\n",
       "      <th>1</th>\n",
       "      <td>2015-02-27 13:16:10.395</td>\n",
       "      <td>0.081095</td>\n",
       "    </tr>\n",
       "    <tr>\n",
       "      <th>2</th>\n",
       "      <td>2015-03-31 13:03:36.780</td>\n",
       "      <td>0.114586</td>\n",
       "    </tr>\n",
       "    <tr>\n",
       "      <th>3</th>\n",
       "      <td>2015-04-30 13:09:01.536</td>\n",
       "      <td>-0.066833</td>\n",
       "    </tr>\n",
       "    <tr>\n",
       "      <th>4</th>\n",
       "      <td>2015-05-29 13:04:28.682</td>\n",
       "      <td>0.061865</td>\n",
       "    </tr>\n",
       "    <tr>\n",
       "      <th>5</th>\n",
       "      <td>2015-06-30 13:02:53.185</td>\n",
       "      <td>-0.023971</td>\n",
       "    </tr>\n",
       "    <tr>\n",
       "      <th>6</th>\n",
       "      <td>2015-07-31 13:09:26.023</td>\n",
       "      <td>0.093921</td>\n",
       "    </tr>\n",
       "    <tr>\n",
       "      <th>7</th>\n",
       "      <td>2015-08-31 13:10:45.736</td>\n",
       "      <td>0.074455</td>\n",
       "    </tr>\n",
       "    <tr>\n",
       "      <th>8</th>\n",
       "      <td>2015-09-30 13:03:13.098</td>\n",
       "      <td>0.089451</td>\n",
       "    </tr>\n",
       "    <tr>\n",
       "      <th>9</th>\n",
       "      <td>2015-10-30 13:03:37.247</td>\n",
       "      <td>-0.028694</td>\n",
       "    </tr>\n",
       "  </tbody>\n",
       "</table>\n",
       "</div>"
      ],
      "text/plain": [
       "                     Data       USD\n",
       "0 2015-01-30 13:03:33.490       NaN\n",
       "1 2015-02-27 13:16:10.395  0.081095\n",
       "2 2015-03-31 13:03:36.780  0.114586\n",
       "3 2015-04-30 13:09:01.536 -0.066833\n",
       "4 2015-05-29 13:04:28.682  0.061865\n",
       "5 2015-06-30 13:02:53.185 -0.023971\n",
       "6 2015-07-31 13:09:26.023  0.093921\n",
       "7 2015-08-31 13:10:45.736  0.074455\n",
       "8 2015-09-30 13:03:13.098  0.089451\n",
       "9 2015-10-30 13:03:37.247 -0.028694"
      ]
     },
     "execution_count": 4,
     "metadata": {},
     "output_type": "execute_result"
    }
   ],
   "source": [
    "# Obter última cotação do mês\n",
    "dolar = dolar.groupby(['ano', 'mês']).last().reset_index().drop(columns=['ano', 'mês'])\n",
    "\n",
    "# Obter variação percentual da cotação\n",
    "dolar.USD = dolar.USD.pct_change()\n",
    "\n",
    "dolar.head(10)"
   ]
  },
  {
   "cell_type": "markdown",
   "metadata": {},
   "source": [
    "#### 2. Obter índice IPCA-15 mensal"
   ]
  },
  {
   "cell_type": "markdown",
   "metadata": {},
   "source": [
    "##### 2.1. Encontrar a tabela desejada"
   ]
  },
  {
   "cell_type": "code",
   "execution_count": 5,
   "metadata": {},
   "outputs": [
    {
     "data": {
      "text/html": [
       "<div>\n",
       "<style scoped>\n",
       "    .dataframe tbody tr th:only-of-type {\n",
       "        vertical-align: middle;\n",
       "    }\n",
       "\n",
       "    .dataframe tbody tr th {\n",
       "        vertical-align: top;\n",
       "    }\n",
       "\n",
       "    .dataframe thead th {\n",
       "        text-align: right;\n",
       "    }\n",
       "</style>\n",
       "<table border=\"1\" class=\"dataframe\">\n",
       "  <thead>\n",
       "    <tr style=\"text-align: right;\">\n",
       "      <th></th>\n",
       "      <th>agregado_nome</th>\n",
       "      <th>pesquisa_id</th>\n",
       "      <th>pesquisa_nome</th>\n",
       "    </tr>\n",
       "    <tr>\n",
       "      <th>agregado_id</th>\n",
       "      <th></th>\n",
       "      <th></th>\n",
       "      <th></th>\n",
       "    </tr>\n",
       "  </thead>\n",
       "  <tbody>\n",
       "    <tr>\n",
       "      <th>1387</th>\n",
       "      <td>IPCA15 - Variação mensal, acumulada no ano e p...</td>\n",
       "      <td>IQ</td>\n",
       "      <td>Índice Nacional de Preços ao Consumidor Amplo 15</td>\n",
       "    </tr>\n",
       "    <tr>\n",
       "      <th>1646</th>\n",
       "      <td>IPCA15 - Variação mensal, acumulada no ano e p...</td>\n",
       "      <td>IQ</td>\n",
       "      <td>Índice Nacional de Preços ao Consumidor Amplo 15</td>\n",
       "    </tr>\n",
       "    <tr>\n",
       "      <th>1705</th>\n",
       "      <td>IPCA15 - Variação mensal, acumulada no ano, ac...</td>\n",
       "      <td>IQ</td>\n",
       "      <td>Índice Nacional de Preços ao Consumidor Amplo 15</td>\n",
       "    </tr>\n",
       "    <tr>\n",
       "      <th>3065</th>\n",
       "      <td>IPCA15 - Série histórica com número-índice, va...</td>\n",
       "      <td>IQ</td>\n",
       "      <td>Índice Nacional de Preços ao Consumidor Amplo 15</td>\n",
       "    </tr>\n",
       "    <tr>\n",
       "      <th>7062</th>\n",
       "      <td>IPCA15 - Variação mensal, acumulada no ano, ac...</td>\n",
       "      <td>IQ</td>\n",
       "      <td>Índice Nacional de Preços ao Consumidor Amplo 15</td>\n",
       "    </tr>\n",
       "  </tbody>\n",
       "</table>\n",
       "</div>"
      ],
      "text/plain": [
       "                                                 agregado_nome pesquisa_id  \\\n",
       "agregado_id                                                                  \n",
       "1387         IPCA15 - Variação mensal, acumulada no ano e p...          IQ   \n",
       "1646         IPCA15 - Variação mensal, acumulada no ano e p...          IQ   \n",
       "1705         IPCA15 - Variação mensal, acumulada no ano, ac...          IQ   \n",
       "3065         IPCA15 - Série histórica com número-índice, va...          IQ   \n",
       "7062         IPCA15 - Variação mensal, acumulada no ano, ac...          IQ   \n",
       "\n",
       "                                                pesquisa_nome  \n",
       "agregado_id                                                    \n",
       "1387         Índice Nacional de Preços ao Consumidor Amplo 15  \n",
       "1646         Índice Nacional de Preços ao Consumidor Amplo 15  \n",
       "1705         Índice Nacional de Preços ao Consumidor Amplo 15  \n",
       "3065         Índice Nacional de Preços ao Consumidor Amplo 15  \n",
       "7062         Índice Nacional de Preços ao Consumidor Amplo 15  "
      ]
     },
     "execution_count": 5,
     "metadata": {},
     "output_type": "execute_result"
    }
   ],
   "source": [
    "ibge.Agregados(index=True).filtrar(contendo='IPCA15')"
   ]
  },
  {
   "cell_type": "code",
   "execution_count": 6,
   "metadata": {},
   "outputs": [],
   "source": [
    "meta = ibge.Metadados(1705)"
   ]
  },
  {
   "cell_type": "markdown",
   "metadata": {},
   "source": [
    "##### 2.2. Definir períodos desejados"
   ]
  },
  {
   "cell_type": "code",
   "execution_count": 7,
   "metadata": {},
   "outputs": [
    {
     "data": {
      "text/plain": [
       "{'frequencia': 'mensal', 'inicio': 201202, 'fim': 202001}"
      ]
     },
     "execution_count": 7,
     "metadata": {},
     "output_type": "execute_result"
    }
   ],
   "source": [
    "meta.periodos"
   ]
  },
  {
   "cell_type": "code",
   "execution_count": 8,
   "metadata": {},
   "outputs": [],
   "source": [
    "periodos = []\n",
    "for i in range(2015, 2020):\n",
    "    for j in ['01', '02', '03', '04', '05', '06', '07', '08', '09', '10', '11', '12']:\n",
    "        periodos.append(str(i)+j)"
   ]
  },
  {
   "cell_type": "markdown",
   "metadata": {},
   "source": [
    "##### 2.3. Definir localidades desejadas"
   ]
  },
  {
   "cell_type": "code",
   "execution_count": 9,
   "metadata": {},
   "outputs": [
    {
     "data": {
      "text/plain": [
       "{'Administrativo': ['N1', 'N6', 'N7'], 'Especial': [], 'IBGE': []}"
      ]
     },
     "execution_count": 9,
     "metadata": {},
     "output_type": "execute_result"
    }
   ],
   "source": [
    "meta.localidades"
   ]
  },
  {
   "cell_type": "code",
   "execution_count": 10,
   "metadata": {},
   "outputs": [],
   "source": [
    "localidades = {'N1': 'all'}"
   ]
  },
  {
   "cell_type": "markdown",
   "metadata": {},
   "source": [
    "##### 2.4. Definir variáveis desejadas"
   ]
  },
  {
   "cell_type": "code",
   "execution_count": 11,
   "metadata": {},
   "outputs": [
    {
     "data": {
      "text/plain": [
       "[{'id': 355,\n",
       "  'nome': 'IPCA15 - Variação mensal',\n",
       "  'unidade': '%',\n",
       "  'sumarizacao': []},\n",
       " {'id': 356,\n",
       "  'nome': 'IPCA15 - Variação acumulada no ano',\n",
       "  'unidade': '%',\n",
       "  'sumarizacao': []},\n",
       " {'id': 1120,\n",
       "  'nome': 'IPCA15 - Variação acumulada em 12 meses',\n",
       "  'unidade': '%',\n",
       "  'sumarizacao': []},\n",
       " {'id': 357,\n",
       "  'nome': 'IPCA15 - Peso mensal',\n",
       "  'unidade': '%',\n",
       "  'sumarizacao': []}]"
      ]
     },
     "execution_count": 11,
     "metadata": {},
     "output_type": "execute_result"
    }
   ],
   "source": [
    "meta.variaveis"
   ]
  },
  {
   "cell_type": "code",
   "execution_count": 12,
   "metadata": {},
   "outputs": [],
   "source": [
    "variavel = 355"
   ]
  },
  {
   "cell_type": "markdown",
   "metadata": {},
   "source": [
    "##### 2.5. Definir classificações e categorias desejadas"
   ]
  },
  {
   "cell_type": "code",
   "execution_count": 1,
   "metadata": {},
   "outputs": [],
   "source": [
    "# Descomente a linha abaixo para ver todas as classificações e categorias disponíveis.\n",
    "#meta.classificacoes"
   ]
  },
  {
   "cell_type": "code",
   "execution_count": 14,
   "metadata": {},
   "outputs": [],
   "source": [
    "# Aqui precisamos navegar pelo dictionaty de categorias para capturar uma lista de todas as ids\n",
    "categorias = [cat['id'] for cat in meta.classificacoes[0]['categorias']]\n",
    "classificacoes = {315: categorias}"
   ]
  },
  {
   "cell_type": "markdown",
   "metadata": {},
   "source": [
    "##### 2.6. Criar objeto SIDRA"
   ]
  },
  {
   "cell_type": "code",
   "execution_count": 15,
   "metadata": {},
   "outputs": [],
   "source": [
    "sidra = ibge.Sidra(agregado=1705, periodos=periodos, variaveis=variavel, classificacoes=classificacoes, localidades=localidades).rodar()"
   ]
  },
  {
   "cell_type": "markdown",
   "metadata": {},
   "source": [
    "##### 2.7. Como extrair os valores do dictionary do SIDRA (usando farinha de arroz como exemplo)"
   ]
  },
  {
   "cell_type": "code",
   "execution_count": 16,
   "metadata": {},
   "outputs": [
    {
     "data": {
      "text/plain": [
       "'1102001.Farinha de arroz'"
      ]
     },
     "execution_count": 16,
     "metadata": {},
     "output_type": "execute_result"
    }
   ],
   "source": [
    "# Extrair nome do item\n",
    "list(sidra[0]['resultados'][10]['classificacoes'][0]['categoria'].values())[0]"
   ]
  },
  {
   "cell_type": "code",
   "execution_count": 17,
   "metadata": {},
   "outputs": [
    {
     "data": {
      "text/html": [
       "<div>\n",
       "<style scoped>\n",
       "    .dataframe tbody tr th:only-of-type {\n",
       "        vertical-align: middle;\n",
       "    }\n",
       "\n",
       "    .dataframe tbody tr th {\n",
       "        vertical-align: top;\n",
       "    }\n",
       "\n",
       "    .dataframe thead th {\n",
       "        text-align: right;\n",
       "    }\n",
       "</style>\n",
       "<table border=\"1\" class=\"dataframe\">\n",
       "  <thead>\n",
       "    <tr style=\"text-align: right;\">\n",
       "      <th></th>\n",
       "      <th>IPCA15</th>\n",
       "    </tr>\n",
       "  </thead>\n",
       "  <tbody>\n",
       "    <tr>\n",
       "      <th>201501</th>\n",
       "      <td>0.41</td>\n",
       "    </tr>\n",
       "    <tr>\n",
       "      <th>201502</th>\n",
       "      <td>2.92</td>\n",
       "    </tr>\n",
       "    <tr>\n",
       "      <th>201503</th>\n",
       "      <td>3.54</td>\n",
       "    </tr>\n",
       "    <tr>\n",
       "      <th>201504</th>\n",
       "      <td>1.97</td>\n",
       "    </tr>\n",
       "    <tr>\n",
       "      <th>201505</th>\n",
       "      <td>0.96</td>\n",
       "    </tr>\n",
       "    <tr>\n",
       "      <th>201506</th>\n",
       "      <td>-1.35</td>\n",
       "    </tr>\n",
       "    <tr>\n",
       "      <th>201507</th>\n",
       "      <td>0.24</td>\n",
       "    </tr>\n",
       "    <tr>\n",
       "      <th>201508</th>\n",
       "      <td>-0.15</td>\n",
       "    </tr>\n",
       "    <tr>\n",
       "      <th>201509</th>\n",
       "      <td>0.35</td>\n",
       "    </tr>\n",
       "    <tr>\n",
       "      <th>201510</th>\n",
       "      <td>-0.19</td>\n",
       "    </tr>\n",
       "  </tbody>\n",
       "</table>\n",
       "</div>"
      ],
      "text/plain": [
       "       IPCA15\n",
       "201501   0.41\n",
       "201502   2.92\n",
       "201503   3.54\n",
       "201504   1.97\n",
       "201505   0.96\n",
       "201506  -1.35\n",
       "201507   0.24\n",
       "201508  -0.15\n",
       "201509   0.35\n",
       "201510  -0.19"
      ]
     },
     "execution_count": 17,
     "metadata": {},
     "output_type": "execute_result"
    }
   ],
   "source": [
    "# Extrair IPCA15\n",
    "pd.DataFrame(sidra[0]['resultados'][10]['series'][0]['serie'], index=['IPCA15']).T.head(10)"
   ]
  },
  {
   "cell_type": "markdown",
   "metadata": {},
   "source": [
    "##### 2.8. Loop para capturar todos os itens"
   ]
  },
  {
   "cell_type": "code",
   "execution_count": 18,
   "metadata": {},
   "outputs": [],
   "source": [
    "itens = [list(i['classificacoes'][0]['categoria'].values())[0] for i in sidra[0]['resultados']]\n",
    "series = [pd.DataFrame(i['series'][0]['serie'], index=['IPCA15']).T for i in sidra[0]['resultados']]"
   ]
  },
  {
   "cell_type": "markdown",
   "metadata": {},
   "source": [
    "#### 3. Formatar DataFrame de câmbio para que colunas coincidam"
   ]
  },
  {
   "cell_type": "code",
   "execution_count": 19,
   "metadata": {},
   "outputs": [
    {
     "data": {
      "text/html": [
       "<div>\n",
       "<style scoped>\n",
       "    .dataframe tbody tr th:only-of-type {\n",
       "        vertical-align: middle;\n",
       "    }\n",
       "\n",
       "    .dataframe tbody tr th {\n",
       "        vertical-align: top;\n",
       "    }\n",
       "\n",
       "    .dataframe thead th {\n",
       "        text-align: right;\n",
       "    }\n",
       "</style>\n",
       "<table border=\"1\" class=\"dataframe\">\n",
       "  <thead>\n",
       "    <tr style=\"text-align: right;\">\n",
       "      <th></th>\n",
       "      <th>USD</th>\n",
       "    </tr>\n",
       "    <tr>\n",
       "      <th>Data</th>\n",
       "      <th></th>\n",
       "    </tr>\n",
       "  </thead>\n",
       "  <tbody>\n",
       "    <tr>\n",
       "      <th>201501</th>\n",
       "      <td>NaN</td>\n",
       "    </tr>\n",
       "    <tr>\n",
       "      <th>201502</th>\n",
       "      <td>0.081095</td>\n",
       "    </tr>\n",
       "    <tr>\n",
       "      <th>201503</th>\n",
       "      <td>0.114586</td>\n",
       "    </tr>\n",
       "    <tr>\n",
       "      <th>201504</th>\n",
       "      <td>-0.066833</td>\n",
       "    </tr>\n",
       "    <tr>\n",
       "      <th>201505</th>\n",
       "      <td>0.061865</td>\n",
       "    </tr>\n",
       "    <tr>\n",
       "      <th>201506</th>\n",
       "      <td>-0.023971</td>\n",
       "    </tr>\n",
       "    <tr>\n",
       "      <th>201507</th>\n",
       "      <td>0.093921</td>\n",
       "    </tr>\n",
       "    <tr>\n",
       "      <th>201508</th>\n",
       "      <td>0.074455</td>\n",
       "    </tr>\n",
       "    <tr>\n",
       "      <th>201509</th>\n",
       "      <td>0.089451</td>\n",
       "    </tr>\n",
       "    <tr>\n",
       "      <th>201510</th>\n",
       "      <td>-0.028694</td>\n",
       "    </tr>\n",
       "  </tbody>\n",
       "</table>\n",
       "</div>"
      ],
      "text/plain": [
       "             USD\n",
       "Data            \n",
       "201501       NaN\n",
       "201502  0.081095\n",
       "201503  0.114586\n",
       "201504 -0.066833\n",
       "201505  0.061865\n",
       "201506 -0.023971\n",
       "201507  0.093921\n",
       "201508  0.074455\n",
       "201509  0.089451\n",
       "201510 -0.028694"
      ]
     },
     "execution_count": 19,
     "metadata": {},
     "output_type": "execute_result"
    }
   ],
   "source": [
    "dolar.Data = dolar.Data.dt.strftime('%Y%m')\n",
    "dolar.set_index('Data', inplace=True)\n",
    "dolar.head(10)"
   ]
  },
  {
   "cell_type": "markdown",
   "metadata": {},
   "source": [
    "#### 4. Correlação"
   ]
  },
  {
   "cell_type": "markdown",
   "metadata": {},
   "source": [
    "##### 4.1. Usar farinha de arroz como exemplo"
   ]
  },
  {
   "cell_type": "code",
   "execution_count": 20,
   "metadata": {},
   "outputs": [
    {
     "data": {
      "text/html": [
       "<div>\n",
       "<style scoped>\n",
       "    .dataframe tbody tr th:only-of-type {\n",
       "        vertical-align: middle;\n",
       "    }\n",
       "\n",
       "    .dataframe tbody tr th {\n",
       "        vertical-align: top;\n",
       "    }\n",
       "\n",
       "    .dataframe thead th {\n",
       "        text-align: right;\n",
       "    }\n",
       "</style>\n",
       "<table border=\"1\" class=\"dataframe\">\n",
       "  <thead>\n",
       "    <tr style=\"text-align: right;\">\n",
       "      <th></th>\n",
       "      <th>IPCA15</th>\n",
       "      <th>USD</th>\n",
       "    </tr>\n",
       "    <tr>\n",
       "      <th>Data</th>\n",
       "      <th></th>\n",
       "      <th></th>\n",
       "    </tr>\n",
       "  </thead>\n",
       "  <tbody>\n",
       "    <tr>\n",
       "      <th>201501</th>\n",
       "      <td>0.0041</td>\n",
       "      <td>NaN</td>\n",
       "    </tr>\n",
       "    <tr>\n",
       "      <th>201502</th>\n",
       "      <td>0.0292</td>\n",
       "      <td>0.081095</td>\n",
       "    </tr>\n",
       "    <tr>\n",
       "      <th>201503</th>\n",
       "      <td>0.0354</td>\n",
       "      <td>0.114586</td>\n",
       "    </tr>\n",
       "    <tr>\n",
       "      <th>201504</th>\n",
       "      <td>0.0197</td>\n",
       "      <td>-0.066833</td>\n",
       "    </tr>\n",
       "    <tr>\n",
       "      <th>201505</th>\n",
       "      <td>0.0096</td>\n",
       "      <td>0.061865</td>\n",
       "    </tr>\n",
       "    <tr>\n",
       "      <th>201506</th>\n",
       "      <td>-0.0135</td>\n",
       "      <td>-0.023971</td>\n",
       "    </tr>\n",
       "    <tr>\n",
       "      <th>201507</th>\n",
       "      <td>0.0024</td>\n",
       "      <td>0.093921</td>\n",
       "    </tr>\n",
       "    <tr>\n",
       "      <th>201508</th>\n",
       "      <td>-0.0015</td>\n",
       "      <td>0.074455</td>\n",
       "    </tr>\n",
       "    <tr>\n",
       "      <th>201509</th>\n",
       "      <td>0.0035</td>\n",
       "      <td>0.089451</td>\n",
       "    </tr>\n",
       "    <tr>\n",
       "      <th>201510</th>\n",
       "      <td>-0.0019</td>\n",
       "      <td>-0.028694</td>\n",
       "    </tr>\n",
       "  </tbody>\n",
       "</table>\n",
       "</div>"
      ],
      "text/plain": [
       "        IPCA15       USD\n",
       "Data                    \n",
       "201501  0.0041       NaN\n",
       "201502  0.0292  0.081095\n",
       "201503  0.0354  0.114586\n",
       "201504  0.0197 -0.066833\n",
       "201505  0.0096  0.061865\n",
       "201506 -0.0135 -0.023971\n",
       "201507  0.0024  0.093921\n",
       "201508 -0.0015  0.074455\n",
       "201509  0.0035  0.089451\n",
       "201510 -0.0019 -0.028694"
      ]
     },
     "execution_count": 20,
     "metadata": {},
     "output_type": "execute_result"
    }
   ],
   "source": [
    "# Criar DataFrame de comparação\n",
    "df = pd.concat([series[10].IPCA15.astype(float)/100, dolar.USD], axis=1, sort=True)\n",
    "df.head(10)"
   ]
  },
  {
   "cell_type": "code",
   "execution_count": 21,
   "metadata": {},
   "outputs": [
    {
     "data": {
      "text/plain": [
       "0.05799510045760339"
      ]
     },
     "execution_count": 21,
     "metadata": {},
     "output_type": "execute_result"
    }
   ],
   "source": [
    "# Cálculo de correlação\n",
    "df.IPCA15.corr(df.USD)"
   ]
  },
  {
   "cell_type": "markdown",
   "metadata": {},
   "source": [
    "##### 4.2. Loop de correlação"
   ]
  },
  {
   "cell_type": "code",
   "execution_count": 22,
   "metadata": {},
   "outputs": [],
   "source": [
    "correlacoes = []\n",
    "for i, s in zip(itens, series):\n",
    "    df = pd.concat([s.IPCA15.astype(float)/100, dolar.USD], axis=1)\n",
    "    correlacoes.append([i, df.IPCA15.corr(df.USD)])"
   ]
  },
  {
   "cell_type": "code",
   "execution_count": 23,
   "metadata": {},
   "outputs": [],
   "source": [
    "corr = pd.DataFrame(correlacoes, columns=['Itens', 'Correlação']).sort_values(by='Correlação')"
   ]
  },
  {
   "cell_type": "code",
   "execution_count": 24,
   "metadata": {},
   "outputs": [
    {
     "data": {
      "text/html": [
       "<div>\n",
       "<style scoped>\n",
       "    .dataframe tbody tr th:only-of-type {\n",
       "        vertical-align: middle;\n",
       "    }\n",
       "\n",
       "    .dataframe tbody tr th {\n",
       "        vertical-align: top;\n",
       "    }\n",
       "\n",
       "    .dataframe thead th {\n",
       "        text-align: right;\n",
       "    }\n",
       "</style>\n",
       "<table border=\"1\" class=\"dataframe\">\n",
       "  <thead>\n",
       "    <tr style=\"text-align: right;\">\n",
       "      <th></th>\n",
       "      <th>Itens</th>\n",
       "      <th>Correlação</th>\n",
       "    </tr>\n",
       "  </thead>\n",
       "  <tbody>\n",
       "    <tr>\n",
       "      <th>0</th>\n",
       "      <td>7201054.Boate e danceteria</td>\n",
       "      <td>0.400594</td>\n",
       "    </tr>\n",
       "    <tr>\n",
       "      <th>1</th>\n",
       "      <td>1115017.Pepino em conserva</td>\n",
       "      <td>0.332499</td>\n",
       "    </tr>\n",
       "    <tr>\n",
       "      <th>2</th>\n",
       "      <td>3101003.Móvel para quarto</td>\n",
       "      <td>0.325629</td>\n",
       "    </tr>\n",
       "    <tr>\n",
       "      <th>3</th>\n",
       "      <td>5104005.Gás veicular</td>\n",
       "      <td>0.306144</td>\n",
       "    </tr>\n",
       "    <tr>\n",
       "      <th>4</th>\n",
       "      <td>3102007.Utensílios de metal</td>\n",
       "      <td>0.305697</td>\n",
       "    </tr>\n",
       "    <tr>\n",
       "      <th>5</th>\n",
       "      <td>5102001.Automóvel novo</td>\n",
       "      <td>0.299492</td>\n",
       "    </tr>\n",
       "    <tr>\n",
       "      <th>6</th>\n",
       "      <td>2202003.Energia elétrica residencial</td>\n",
       "      <td>0.291527</td>\n",
       "    </tr>\n",
       "    <tr>\n",
       "      <th>7</th>\n",
       "      <td>2202.Energia elétrica residencial</td>\n",
       "      <td>0.291527</td>\n",
       "    </tr>\n",
       "    <tr>\n",
       "      <th>8</th>\n",
       "      <td>22.Combustíveis e energia</td>\n",
       "      <td>0.279110</td>\n",
       "    </tr>\n",
       "    <tr>\n",
       "      <th>9</th>\n",
       "      <td>1201048.Cerveja</td>\n",
       "      <td>0.274031</td>\n",
       "    </tr>\n",
       "  </tbody>\n",
       "</table>\n",
       "</div>"
      ],
      "text/plain": [
       "                                  Itens  Correlação\n",
       "0            7201054.Boate e danceteria    0.400594\n",
       "1            1115017.Pepino em conserva    0.332499\n",
       "2             3101003.Móvel para quarto    0.325629\n",
       "3                  5104005.Gás veicular    0.306144\n",
       "4           3102007.Utensílios de metal    0.305697\n",
       "5                5102001.Automóvel novo    0.299492\n",
       "6  2202003.Energia elétrica residencial    0.291527\n",
       "7     2202.Energia elétrica residencial    0.291527\n",
       "8             22.Combustíveis e energia    0.279110\n",
       "9                       1201048.Cerveja    0.274031"
      ]
     },
     "execution_count": 24,
     "metadata": {},
     "output_type": "execute_result"
    }
   ],
   "source": [
    "# Maior correlação positiva com dólar\n",
    "corr.tail(10)[::-1].reset_index(drop=True)"
   ]
  },
  {
   "cell_type": "code",
   "execution_count": 25,
   "metadata": {},
   "outputs": [
    {
     "data": {
      "text/html": [
       "<div>\n",
       "<style scoped>\n",
       "    .dataframe tbody tr th:only-of-type {\n",
       "        vertical-align: middle;\n",
       "    }\n",
       "\n",
       "    .dataframe tbody tr th {\n",
       "        vertical-align: top;\n",
       "    }\n",
       "\n",
       "    .dataframe thead th {\n",
       "        text-align: right;\n",
       "    }\n",
       "</style>\n",
       "<table border=\"1\" class=\"dataframe\">\n",
       "  <thead>\n",
       "    <tr style=\"text-align: right;\">\n",
       "      <th></th>\n",
       "      <th>Itens</th>\n",
       "      <th>Correlação</th>\n",
       "    </tr>\n",
       "  </thead>\n",
       "  <tbody>\n",
       "    <tr>\n",
       "      <th>0</th>\n",
       "      <td>1111031.Manteiga</td>\n",
       "      <td>-0.381820</td>\n",
       "    </tr>\n",
       "    <tr>\n",
       "      <th>1</th>\n",
       "      <td>4301004.Relógio de pulso</td>\n",
       "      <td>-0.360476</td>\n",
       "    </tr>\n",
       "    <tr>\n",
       "      <th>2</th>\n",
       "      <td>8103001.Caderno</td>\n",
       "      <td>-0.333106</td>\n",
       "    </tr>\n",
       "    <tr>\n",
       "      <th>3</th>\n",
       "      <td>5101010.Passagem aérea</td>\n",
       "      <td>-0.323886</td>\n",
       "    </tr>\n",
       "    <tr>\n",
       "      <th>4</th>\n",
       "      <td>1113040.Margarina</td>\n",
       "      <td>-0.297480</td>\n",
       "    </tr>\n",
       "    <tr>\n",
       "      <th>5</th>\n",
       "      <td>5102053.Motocicleta</td>\n",
       "      <td>-0.287096</td>\n",
       "    </tr>\n",
       "    <tr>\n",
       "      <th>6</th>\n",
       "      <td>1113.Óleos e gorduras</td>\n",
       "      <td>-0.284971</td>\n",
       "    </tr>\n",
       "    <tr>\n",
       "      <th>7</th>\n",
       "      <td>5101.Transporte público</td>\n",
       "      <td>-0.280602</td>\n",
       "    </tr>\n",
       "    <tr>\n",
       "      <th>8</th>\n",
       "      <td>4101009.Camisa/camiseta masculina</td>\n",
       "      <td>-0.268447</td>\n",
       "    </tr>\n",
       "    <tr>\n",
       "      <th>9</th>\n",
       "      <td>7203001.Máquina fotográfica</td>\n",
       "      <td>-0.264062</td>\n",
       "    </tr>\n",
       "  </tbody>\n",
       "</table>\n",
       "</div>"
      ],
      "text/plain": [
       "                               Itens  Correlação\n",
       "0                   1111031.Manteiga   -0.381820\n",
       "1           4301004.Relógio de pulso   -0.360476\n",
       "2                    8103001.Caderno   -0.333106\n",
       "3             5101010.Passagem aérea   -0.323886\n",
       "4                  1113040.Margarina   -0.297480\n",
       "5                5102053.Motocicleta   -0.287096\n",
       "6              1113.Óleos e gorduras   -0.284971\n",
       "7            5101.Transporte público   -0.280602\n",
       "8  4101009.Camisa/camiseta masculina   -0.268447\n",
       "9        7203001.Máquina fotográfica   -0.264062"
      ]
     },
     "execution_count": 25,
     "metadata": {},
     "output_type": "execute_result"
    }
   ],
   "source": [
    "# Maior correlação negativa com dólar\n",
    "corr.head(10).reset_index(drop=True)"
   ]
  },
  {
   "cell_type": "markdown",
   "metadata": {},
   "source": [
    "#### 5. Plottar os dois itens mais correlacionados"
   ]
  },
  {
   "cell_type": "code",
   "execution_count": 26,
   "metadata": {},
   "outputs": [
    {
     "data": {
      "text/plain": [
       "401"
      ]
     },
     "execution_count": 26,
     "metadata": {},
     "output_type": "execute_result"
    }
   ],
   "source": [
    "itens.index('7201054.Boate e danceteria')"
   ]
  },
  {
   "cell_type": "code",
   "execution_count": 27,
   "metadata": {},
   "outputs": [
    {
     "data": {
      "text/plain": [
       "121"
      ]
     },
     "execution_count": 27,
     "metadata": {},
     "output_type": "execute_result"
    }
   ],
   "source": [
    "itens.index('1111031.Manteiga')"
   ]
  },
  {
   "cell_type": "code",
   "execution_count": 28,
   "metadata": {},
   "outputs": [],
   "source": [
    "df401 = pd.concat([series[401].IPCA15.astype(float)/100, dolar.USD], axis=1)\n",
    "df121 = pd.concat([series[121].IPCA15.astype(float)/100, dolar.USD], axis=1)"
   ]
  },
  {
   "cell_type": "code",
   "execution_count": 29,
   "metadata": {},
   "outputs": [
    {
     "data": {
      "image/png": "[encoded data removed]",
      "text/plain": [
       "<Figure size 720x1080 with 2 Axes>"
      ]
     },
     "metadata": {
      "needs_background": "light"
     },
     "output_type": "display_data"
    }
   ],
   "source": [
    "fig, axs = plt.subplots(2, 1, figsize=(10,15))\n",
    "\n",
    "# Boate\n",
    "ax1 = plt.subplot(211)\n",
    "plt.scatter(df401.USD, df401.IPCA15)\n",
    "plt.ylabel('IPCA mensal de boates e danceterias')\n",
    "\n",
    "# Manteiga\n",
    "ax2 = plt.subplot(212, sharex=ax1)\n",
    "plt.scatter(df121.USD, df121.IPCA15)\n",
    "plt.ylabel('IPCA mensal de Manteiga')\n",
    "\n",
    "plt.show()"
   ]
  }
 ],
 "metadata": {
  "kernelspec": {
   "display_name": "Python 3",
   "language": "python",
   "name": "python3"
  },
  "language_info": {
   "codemirror_mode": {
    "name": "ipython",
    "version": 3
   },
   "file_extension": ".py",
   "mimetype": "text/x-python",
   "name": "python",
   "nbconvert_exporter": "python",
   "pygments_lexer": "ipython3",
   "version": "3.7.3"
  }
 },
 "nbformat": 4,
 "nbformat_minor": 4
}
