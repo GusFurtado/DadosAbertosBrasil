{
 "metadata": {
  "language_info": {
   "codemirror_mode": {
    "name": "ipython",
    "version": 3
   },
   "file_extension": ".py",
   "mimetype": "text/x-python",
   "name": "python",
   "nbconvert_exporter": "python",
   "pygments_lexer": "ipython3",
   "version": "3.7.7-final"
  },
  "orig_nbformat": 2,
  "kernelspec": {
   "name": "python3",
   "display_name": "Python 3",
   "language": "python"
  }
 },
 "nbformat": 4,
 "nbformat_minor": 2,
 "cells": [
  {
   "source": [
    "## **Nomes de Apóstolos mais Comuns**\n",
    "\n",
    "#### Este notebook apresenta quais são os nomes de apóstolos mais populares no Brasil ao longo das décadas."
   ],
   "cell_type": "markdown",
   "metadata": {}
  },
  {
   "cell_type": "code",
   "execution_count": 1,
   "metadata": {},
   "outputs": [],
   "source": [
    "from DadosAbertosBrasil import ibge\n",
    "import plotly.graph_objects as go"
   ]
  },
  {
   "source": [
    "1. Listar os nomes dos doze apóstolos. Vamos incluir as variações 'Felipe', 'Thiago' e 'Matheus'."
   ],
   "cell_type": "markdown",
   "metadata": {}
  },
  {
   "cell_type": "code",
   "execution_count": 39,
   "metadata": {},
   "outputs": [],
   "source": [
    "APOSTOLOS = [\n",
    "    'ANDRE',\n",
    "    'BARTOLOMEU',\n",
    "    'FELIPE',\n",
    "    'FILIPE',\n",
    "    'MATEUS',\n",
    "    'MATHEUS',\n",
    "    'JOAO',\n",
    "    'JUDAS',\n",
    "    'PEDRO',\n",
    "    'SIMAO',\n",
    "    'TADEU',\n",
    "    'TIAGO',\n",
    "    'THIAGO',\n",
    "    'TOME'\n",
    "]"
   ]
  },
  {
   "source": [
    "2. Capturar a frequência dos nomes por década."
   ],
   "cell_type": "markdown",
   "metadata": {}
  },
  {
   "cell_type": "code",
   "execution_count": 40,
   "metadata": {},
   "outputs": [
    {
     "output_type": "execute_result",
     "data": {
      "text/plain": [
       "nome          ANDRE  BARTOLOMEU  FELIPE  FILIPE    JOAO  JUDAS  MATEUS  \\\n",
       "1930[          1154         284     600      54   60155    NaN     269   \n",
       "[1930,1940[    2764         813    1173      97  141772    NaN     635   \n",
       "[1940,1950[    4437        1579    1750     139  256001  121.0    1179   \n",
       "[1950,1960[    8745        2625    2462     192  396438  284.0    1875   \n",
       "[1960,1970[   30200        3036    3719     294  429148  251.0    2829   \n",
       "[1970,1980[  124754        2407   12447    1013  279975  113.0    6505   \n",
       "[1980,1990[  191597        1544  107869   11353  273960   73.0   26373   \n",
       "[1990,2000[  130048         853  263480   26428  352552   40.0  218839   \n",
       "[2000,2010[   90109         386  227960   22162  794118    NaN  330315   \n",
       "\n",
       "nome         MATHEUS   PEDRO  SIMAO  TADEU  THIAGO   TIAGO  TOME  \n",
       "1930[             90   21483    379     86     109     279   149  \n",
       "[1930,1940[      203   49143    857    342     194     529   381  \n",
       "[1940,1950[      298   86926   1329   1400     230     758   556  \n",
       "[1950,1960[      470  126205   1570   4137     422    1081   702  \n",
       "[1960,1970[      684  132795   1792   4418     858    1842   707  \n",
       "[1970,1980[     2370   87427   1530   3786    7265   10434   481  \n",
       "[1980,1990[    13765   97975   1743   5194  145466  202332   378  \n",
       "[1990,2000[   142256  174376   1429   3371  102922  159130   259  \n",
       "[2000,2010[   190298  443275   1006   1638   86271  118826   225  "
      ],
      "text/html": "<div>\n<style scoped>\n    .dataframe tbody tr th:only-of-type {\n        vertical-align: middle;\n    }\n\n    .dataframe tbody tr th {\n        vertical-align: top;\n    }\n\n    .dataframe thead th {\n        text-align: right;\n    }\n</style>\n<table border=\"1\" class=\"dataframe\">\n  <thead>\n    <tr style=\"text-align: right;\">\n      <th>nome</th>\n      <th>ANDRE</th>\n      <th>BARTOLOMEU</th>\n      <th>FELIPE</th>\n      <th>FILIPE</th>\n      <th>JOAO</th>\n      <th>JUDAS</th>\n      <th>MATEUS</th>\n      <th>MATHEUS</th>\n      <th>PEDRO</th>\n      <th>SIMAO</th>\n      <th>TADEU</th>\n      <th>THIAGO</th>\n      <th>TIAGO</th>\n      <th>TOME</th>\n    </tr>\n  </thead>\n  <tbody>\n    <tr>\n      <th>1930[</th>\n      <td>1154</td>\n      <td>284</td>\n      <td>600</td>\n      <td>54</td>\n      <td>60155</td>\n      <td>NaN</td>\n      <td>269</td>\n      <td>90</td>\n      <td>21483</td>\n      <td>379</td>\n      <td>86</td>\n      <td>109</td>\n      <td>279</td>\n      <td>149</td>\n    </tr>\n    <tr>\n      <th>[1930,1940[</th>\n      <td>2764</td>\n      <td>813</td>\n      <td>1173</td>\n      <td>97</td>\n      <td>141772</td>\n      <td>NaN</td>\n      <td>635</td>\n      <td>203</td>\n      <td>49143</td>\n      <td>857</td>\n      <td>342</td>\n      <td>194</td>\n      <td>529</td>\n      <td>381</td>\n    </tr>\n    <tr>\n      <th>[1940,1950[</th>\n      <td>4437</td>\n      <td>1579</td>\n      <td>1750</td>\n      <td>139</td>\n      <td>256001</td>\n      <td>121.0</td>\n      <td>1179</td>\n      <td>298</td>\n      <td>86926</td>\n      <td>1329</td>\n      <td>1400</td>\n      <td>230</td>\n      <td>758</td>\n      <td>556</td>\n    </tr>\n    <tr>\n      <th>[1950,1960[</th>\n      <td>8745</td>\n      <td>2625</td>\n      <td>2462</td>\n      <td>192</td>\n      <td>396438</td>\n      <td>284.0</td>\n      <td>1875</td>\n      <td>470</td>\n      <td>126205</td>\n      <td>1570</td>\n      <td>4137</td>\n      <td>422</td>\n      <td>1081</td>\n      <td>702</td>\n    </tr>\n    <tr>\n      <th>[1960,1970[</th>\n      <td>30200</td>\n      <td>3036</td>\n      <td>3719</td>\n      <td>294</td>\n      <td>429148</td>\n      <td>251.0</td>\n      <td>2829</td>\n      <td>684</td>\n      <td>132795</td>\n      <td>1792</td>\n      <td>4418</td>\n      <td>858</td>\n      <td>1842</td>\n      <td>707</td>\n    </tr>\n    <tr>\n      <th>[1970,1980[</th>\n      <td>124754</td>\n      <td>2407</td>\n      <td>12447</td>\n      <td>1013</td>\n      <td>279975</td>\n      <td>113.0</td>\n      <td>6505</td>\n      <td>2370</td>\n      <td>87427</td>\n      <td>1530</td>\n      <td>3786</td>\n      <td>7265</td>\n      <td>10434</td>\n      <td>481</td>\n    </tr>\n    <tr>\n      <th>[1980,1990[</th>\n      <td>191597</td>\n      <td>1544</td>\n      <td>107869</td>\n      <td>11353</td>\n      <td>273960</td>\n      <td>73.0</td>\n      <td>26373</td>\n      <td>13765</td>\n      <td>97975</td>\n      <td>1743</td>\n      <td>5194</td>\n      <td>145466</td>\n      <td>202332</td>\n      <td>378</td>\n    </tr>\n    <tr>\n      <th>[1990,2000[</th>\n      <td>130048</td>\n      <td>853</td>\n      <td>263480</td>\n      <td>26428</td>\n      <td>352552</td>\n      <td>40.0</td>\n      <td>218839</td>\n      <td>142256</td>\n      <td>174376</td>\n      <td>1429</td>\n      <td>3371</td>\n      <td>102922</td>\n      <td>159130</td>\n      <td>259</td>\n    </tr>\n    <tr>\n      <th>[2000,2010[</th>\n      <td>90109</td>\n      <td>386</td>\n      <td>227960</td>\n      <td>22162</td>\n      <td>794118</td>\n      <td>NaN</td>\n      <td>330315</td>\n      <td>190298</td>\n      <td>443275</td>\n      <td>1006</td>\n      <td>1638</td>\n      <td>86271</td>\n      <td>118826</td>\n      <td>225</td>\n    </tr>\n  </tbody>\n</table>\n</div>"
     },
     "metadata": {},
     "execution_count": 40
    }
   ],
   "source": [
    "nomes = ibge.nomes(APOSTOLOS)\n",
    "nomes"
   ]
  },
  {
   "source": [
    "3. Unificar as variações dos nomes."
   ],
   "cell_type": "markdown",
   "metadata": {}
  },
  {
   "cell_type": "code",
   "execution_count": 41,
   "metadata": {},
   "outputs": [
    {
     "output_type": "execute_result",
     "data": {
      "text/plain": [
       "nome          ANDRE  BARTOLOMEU  FILIPE    JOAO  JUDAS  MATEUS   PEDRO  SIMAO  \\\n",
       "1930[          1154         284     654   60155    NaN     359   21483    379   \n",
       "[1930,1940[    2764         813    1270  141772    NaN     838   49143    857   \n",
       "[1940,1950[    4437        1579    1889  256001  121.0    1477   86926   1329   \n",
       "[1950,1960[    8745        2625    2654  396438  284.0    2345  126205   1570   \n",
       "[1960,1970[   30200        3036    4013  429148  251.0    3513  132795   1792   \n",
       "[1970,1980[  124754        2407   13460  279975  113.0    8875   87427   1530   \n",
       "[1980,1990[  191597        1544  119222  273960   73.0   40138   97975   1743   \n",
       "[1990,2000[  130048         853  289908  352552   40.0  361095  174376   1429   \n",
       "[2000,2010[   90109         386  250122  794118    NaN  520613  443275   1006   \n",
       "\n",
       "nome         TADEU   TIAGO  TOME  \n",
       "1930[           86     388   149  \n",
       "[1930,1940[    342     723   381  \n",
       "[1940,1950[   1400     988   556  \n",
       "[1950,1960[   4137    1503   702  \n",
       "[1960,1970[   4418    2700   707  \n",
       "[1970,1980[   3786   17699   481  \n",
       "[1980,1990[   5194  347798   378  \n",
       "[1990,2000[   3371  262052   259  \n",
       "[2000,2010[   1638  205097   225  "
      ],
      "text/html": "<div>\n<style scoped>\n    .dataframe tbody tr th:only-of-type {\n        vertical-align: middle;\n    }\n\n    .dataframe tbody tr th {\n        vertical-align: top;\n    }\n\n    .dataframe thead th {\n        text-align: right;\n    }\n</style>\n<table border=\"1\" class=\"dataframe\">\n  <thead>\n    <tr style=\"text-align: right;\">\n      <th>nome</th>\n      <th>ANDRE</th>\n      <th>BARTOLOMEU</th>\n      <th>FILIPE</th>\n      <th>JOAO</th>\n      <th>JUDAS</th>\n      <th>MATEUS</th>\n      <th>PEDRO</th>\n      <th>SIMAO</th>\n      <th>TADEU</th>\n      <th>TIAGO</th>\n      <th>TOME</th>\n    </tr>\n  </thead>\n  <tbody>\n    <tr>\n      <th>1930[</th>\n      <td>1154</td>\n      <td>284</td>\n      <td>654</td>\n      <td>60155</td>\n      <td>NaN</td>\n      <td>359</td>\n      <td>21483</td>\n      <td>379</td>\n      <td>86</td>\n      <td>388</td>\n      <td>149</td>\n    </tr>\n    <tr>\n      <th>[1930,1940[</th>\n      <td>2764</td>\n      <td>813</td>\n      <td>1270</td>\n      <td>141772</td>\n      <td>NaN</td>\n      <td>838</td>\n      <td>49143</td>\n      <td>857</td>\n      <td>342</td>\n      <td>723</td>\n      <td>381</td>\n    </tr>\n    <tr>\n      <th>[1940,1950[</th>\n      <td>4437</td>\n      <td>1579</td>\n      <td>1889</td>\n      <td>256001</td>\n      <td>121.0</td>\n      <td>1477</td>\n      <td>86926</td>\n      <td>1329</td>\n      <td>1400</td>\n      <td>988</td>\n      <td>556</td>\n    </tr>\n    <tr>\n      <th>[1950,1960[</th>\n      <td>8745</td>\n      <td>2625</td>\n      <td>2654</td>\n      <td>396438</td>\n      <td>284.0</td>\n      <td>2345</td>\n      <td>126205</td>\n      <td>1570</td>\n      <td>4137</td>\n      <td>1503</td>\n      <td>702</td>\n    </tr>\n    <tr>\n      <th>[1960,1970[</th>\n      <td>30200</td>\n      <td>3036</td>\n      <td>4013</td>\n      <td>429148</td>\n      <td>251.0</td>\n      <td>3513</td>\n      <td>132795</td>\n      <td>1792</td>\n      <td>4418</td>\n      <td>2700</td>\n      <td>707</td>\n    </tr>\n    <tr>\n      <th>[1970,1980[</th>\n      <td>124754</td>\n      <td>2407</td>\n      <td>13460</td>\n      <td>279975</td>\n      <td>113.0</td>\n      <td>8875</td>\n      <td>87427</td>\n      <td>1530</td>\n      <td>3786</td>\n      <td>17699</td>\n      <td>481</td>\n    </tr>\n    <tr>\n      <th>[1980,1990[</th>\n      <td>191597</td>\n      <td>1544</td>\n      <td>119222</td>\n      <td>273960</td>\n      <td>73.0</td>\n      <td>40138</td>\n      <td>97975</td>\n      <td>1743</td>\n      <td>5194</td>\n      <td>347798</td>\n      <td>378</td>\n    </tr>\n    <tr>\n      <th>[1990,2000[</th>\n      <td>130048</td>\n      <td>853</td>\n      <td>289908</td>\n      <td>352552</td>\n      <td>40.0</td>\n      <td>361095</td>\n      <td>174376</td>\n      <td>1429</td>\n      <td>3371</td>\n      <td>262052</td>\n      <td>259</td>\n    </tr>\n    <tr>\n      <th>[2000,2010[</th>\n      <td>90109</td>\n      <td>386</td>\n      <td>250122</td>\n      <td>794118</td>\n      <td>NaN</td>\n      <td>520613</td>\n      <td>443275</td>\n      <td>1006</td>\n      <td>1638</td>\n      <td>205097</td>\n      <td>225</td>\n    </tr>\n  </tbody>\n</table>\n</div>"
     },
     "metadata": {},
     "execution_count": 41
    }
   ],
   "source": [
    "nomes['FILIPE'] = nomes[['FILIPE', 'FELIPE']].sum(axis=1)\n",
    "nomes['MATEUS'] = nomes[['MATEUS', 'MATHEUS']].sum(axis=1)\n",
    "nomes['TIAGO'] = nomes[['TIAGO', 'THIAGO']].sum(axis=1)\n",
    "nomes.drop(columns=['FELIPE', 'THIAGO', 'MATHEUS'], inplace=True)\n",
    "\n",
    "nomes"
   ]
  },
  {
   "source": [
    "4. Converter valores absolutos para percetuais"
   ],
   "cell_type": "markdown",
   "metadata": {}
  },
  {
   "cell_type": "code",
   "execution_count": 46,
   "metadata": {},
   "outputs": [
    {
     "output_type": "execute_result",
     "data": {
      "text/plain": [
       "nome     ANDRE  BARTOLOMEU    FILIPE      JOAO     JUDAS    MATEUS     PEDRO  \\\n",
       "1930  0.013562    0.003338  0.007686  0.706949       NaN  0.004219  0.252471   \n",
       "1940  0.013896    0.004087  0.006385  0.712770       NaN  0.004213  0.247070   \n",
       "1950  0.012439    0.004427  0.005296  0.717687  0.000339  0.004141  0.243693   \n",
       "1960  0.015981    0.004797  0.004850  0.724474  0.000519  0.004285  0.230634   \n",
       "1970  0.049300    0.004956  0.006551  0.700566  0.000410  0.005735  0.216782   \n",
       "1980  0.230809    0.004453  0.024903  0.517986  0.000209  0.016420  0.161750   \n",
       "1990  0.177467    0.001430  0.110429  0.253755  0.000068  0.037178  0.090749   \n",
       "2000  0.082519    0.000541  0.183954  0.223703  0.000025  0.229124  0.110646   \n",
       "2010  0.039066    0.000167  0.108438  0.344282       NaN  0.225707  0.192178   \n",
       "\n",
       "nome     SIMAO     TADEU     TIAGO      TOME  \n",
       "1930  0.004454  0.001011  0.004560  0.001751  \n",
       "1940  0.004309  0.001719  0.003635  0.001916  \n",
       "1950  0.003726  0.003925  0.002770  0.001559  \n",
       "1960  0.002869  0.007560  0.002747  0.001283  \n",
       "1970  0.002925  0.007212  0.004408  0.001154  \n",
       "1980  0.002831  0.007005  0.032745  0.000890  \n",
       "1990  0.001614  0.004811  0.322148  0.000350  \n",
       "2000  0.000907  0.002139  0.166278  0.000164  \n",
       "2010  0.000436  0.000710  0.088918  0.000098  "
      ],
      "text/html": "<div>\n<style scoped>\n    .dataframe tbody tr th:only-of-type {\n        vertical-align: middle;\n    }\n\n    .dataframe tbody tr th {\n        vertical-align: top;\n    }\n\n    .dataframe thead th {\n        text-align: right;\n    }\n</style>\n<table border=\"1\" class=\"dataframe\">\n  <thead>\n    <tr style=\"text-align: right;\">\n      <th>nome</th>\n      <th>ANDRE</th>\n      <th>BARTOLOMEU</th>\n      <th>FILIPE</th>\n      <th>JOAO</th>\n      <th>JUDAS</th>\n      <th>MATEUS</th>\n      <th>PEDRO</th>\n      <th>SIMAO</th>\n      <th>TADEU</th>\n      <th>TIAGO</th>\n      <th>TOME</th>\n    </tr>\n  </thead>\n  <tbody>\n    <tr>\n      <th>1930</th>\n      <td>0.013562</td>\n      <td>0.003338</td>\n      <td>0.007686</td>\n      <td>0.706949</td>\n      <td>NaN</td>\n      <td>0.004219</td>\n      <td>0.252471</td>\n      <td>0.004454</td>\n      <td>0.001011</td>\n      <td>0.004560</td>\n      <td>0.001751</td>\n    </tr>\n    <tr>\n      <th>1940</th>\n      <td>0.013896</td>\n      <td>0.004087</td>\n      <td>0.006385</td>\n      <td>0.712770</td>\n      <td>NaN</td>\n      <td>0.004213</td>\n      <td>0.247070</td>\n      <td>0.004309</td>\n      <td>0.001719</td>\n      <td>0.003635</td>\n      <td>0.001916</td>\n    </tr>\n    <tr>\n      <th>1950</th>\n      <td>0.012439</td>\n      <td>0.004427</td>\n      <td>0.005296</td>\n      <td>0.717687</td>\n      <td>0.000339</td>\n      <td>0.004141</td>\n      <td>0.243693</td>\n      <td>0.003726</td>\n      <td>0.003925</td>\n      <td>0.002770</td>\n      <td>0.001559</td>\n    </tr>\n    <tr>\n      <th>1960</th>\n      <td>0.015981</td>\n      <td>0.004797</td>\n      <td>0.004850</td>\n      <td>0.724474</td>\n      <td>0.000519</td>\n      <td>0.004285</td>\n      <td>0.230634</td>\n      <td>0.002869</td>\n      <td>0.007560</td>\n      <td>0.002747</td>\n      <td>0.001283</td>\n    </tr>\n    <tr>\n      <th>1970</th>\n      <td>0.049300</td>\n      <td>0.004956</td>\n      <td>0.006551</td>\n      <td>0.700566</td>\n      <td>0.000410</td>\n      <td>0.005735</td>\n      <td>0.216782</td>\n      <td>0.002925</td>\n      <td>0.007212</td>\n      <td>0.004408</td>\n      <td>0.001154</td>\n    </tr>\n    <tr>\n      <th>1980</th>\n      <td>0.230809</td>\n      <td>0.004453</td>\n      <td>0.024903</td>\n      <td>0.517986</td>\n      <td>0.000209</td>\n      <td>0.016420</td>\n      <td>0.161750</td>\n      <td>0.002831</td>\n      <td>0.007005</td>\n      <td>0.032745</td>\n      <td>0.000890</td>\n    </tr>\n    <tr>\n      <th>1990</th>\n      <td>0.177467</td>\n      <td>0.001430</td>\n      <td>0.110429</td>\n      <td>0.253755</td>\n      <td>0.000068</td>\n      <td>0.037178</td>\n      <td>0.090749</td>\n      <td>0.001614</td>\n      <td>0.004811</td>\n      <td>0.322148</td>\n      <td>0.000350</td>\n    </tr>\n    <tr>\n      <th>2000</th>\n      <td>0.082519</td>\n      <td>0.000541</td>\n      <td>0.183954</td>\n      <td>0.223703</td>\n      <td>0.000025</td>\n      <td>0.229124</td>\n      <td>0.110646</td>\n      <td>0.000907</td>\n      <td>0.002139</td>\n      <td>0.166278</td>\n      <td>0.000164</td>\n    </tr>\n    <tr>\n      <th>2010</th>\n      <td>0.039066</td>\n      <td>0.000167</td>\n      <td>0.108438</td>\n      <td>0.344282</td>\n      <td>NaN</td>\n      <td>0.225707</td>\n      <td>0.192178</td>\n      <td>0.000436</td>\n      <td>0.000710</td>\n      <td>0.088918</td>\n      <td>0.000098</td>\n    </tr>\n  </tbody>\n</table>\n</div>"
     },
     "metadata": {},
     "execution_count": 46
    }
   ],
   "source": [
    "df = nomes.divide(nomes.sum(axis=1), axis=0)\n",
    "df.index = df.index.map(lambda x: x[-5:-1])\n",
    "\n",
    "df"
   ]
  },
  {
   "source": [
    "5. Plottar resultados"
   ],
   "cell_type": "markdown",
   "metadata": {}
  },
  {
   "cell_type": "code",
   "execution_count": 66,
   "metadata": {},
   "outputs": [
    {
     "output_type": "display_data",
     "data": {
      "application/vnd.plotly.v1+json": {
       "config": {
        "plotlyServerURL": "https://plot.ly"
       },
       "data": [
        {
         "name": "ANDRE",
         "offset": -1,
         "type": "bar",
         "x": [
          "1930",
          "1940",
          "1950",
          "1960",
          "1970",
          "1980",
          "1990",
          "2000",
          "2010"
         ],
         "y": [
          0.013561951322701578,
          0.013896220770928542,
          0.012438919773593158,
          0.015981126006929722,
          0.04930024666447917,
          0.23080922171220725,
          0.17746674298967602,
          0.0825186566098746,
          0.03906591074526064
         ]
        },
        {
         "name": "BARTOLOMEU",
         "offset": -1,
         "type": "bar",
         "x": [
          "1930",
          "1940",
          "1950",
          "1960",
          "1970",
          "1980",
          "1990",
          "2000",
          "2010"
         ],
         "y": [
          0.0033376032717913765,
          0.0040874194959352045,
          0.00442665186443624,
          0.0047970789900732445,
          0.004956144002429099,
          0.004453226322693323,
          0.0014301301751909465,
          0.000541249493173467,
          0.00016734667511203772
         ]
        },
        {
         "name": "FILIPE",
         "offset": -1,
         "type": "bar",
         "x": [
          "1930",
          "1940",
          "1950",
          "1960",
          "1970",
          "1980",
          "1990",
          "2000",
          "2010"
         ],
         "y": [
          0.007685889224477324,
          0.0063850218448188315,
          0.005295722211475653,
          0.004850075291296911,
          0.006551055955779964,
          0.02490254520292984,
          0.1104293910276004,
          0.18395376092254803,
          0.10843804422894586
         ]
        },
        {
         "name": "JOAO",
         "offset": -1,
         "type": "bar",
         "x": [
          "1930",
          "1940",
          "1950",
          "1960",
          "1970",
          "1980",
          "1990",
          "2000",
          "2010"
         ],
         "y": [
          0.70694903103736,
          0.7127695409320121,
          0.717686702943345,
          0.7244740573968217,
          0.700566299853242,
          0.5179858910245381,
          0.2537554810850464,
          0.22370292065333192,
          0.34428240141611705
         ]
        },
        {
         "name": "JUDAS",
         "offset": -1,
         "type": "bar",
         "x": [
          "1930",
          "1940",
          "1950",
          "1960",
          "1970",
          "1980",
          "1990",
          "2000",
          "2010"
         ],
         "y": [
          null,
          null,
          0.0003392177806186099,
          0.0005189982602593529,
          0.00040974708320477723,
          0.0002090629723574348,
          0.00006761625828299164,
          0.000025380984439552965,
          null
         ]
        },
        {
         "name": "MATEUS",
         "offset": -1,
         "type": "bar",
         "x": [
          "1930",
          "1940",
          "1950",
          "1960",
          "1970",
          "1980",
          "1990",
          "2000",
          "2010"
         ],
         "y": [
          0.004219012586525015,
          0.004213108902329276,
          0.004140699685732949,
          0.004285390564465432,
          0.005734826706368057,
          0.016419768846656937,
          0.03717782705428382,
          0.22912366440500945,
          0.22570687712461995
         ]
        },
        {
         "name": "PEDRO",
         "offset": -1,
         "type": "bar",
         "x": [
          "1930",
          "1940",
          "1950",
          "1960",
          "1970",
          "1980",
          "1990",
          "2000",
          "2010"
         ],
         "y": [
          0.2524708841123033,
          0.24707017993695418,
          0.24369293221531638,
          0.23063442054940717,
          0.21678232635130834,
          0.1617499865866677,
          0.09074935486679597,
          0.11064586356578719,
          0.1921777134981568
         ]
        },
        {
         "name": "SIMAO",
         "offset": -1,
         "type": "bar",
         "x": [
          "1930",
          "1940",
          "1950",
          "1960",
          "1970",
          "1980",
          "1990",
          "2000",
          "2010"
         ],
         "y": [
          0.004454055070453985,
          0.00430863285118877,
          0.0037257886813399383,
          0.0028691101007295213,
          0.0029253656298922743,
          0.0028306756434236745,
          0.0016144539477706086,
          0.0009067356691030297,
          0.0004361418527531346
         ]
        },
        {
         "name": "TADEU",
         "offset": -1,
         "type": "bar",
         "x": [
          "1930",
          "1940",
          "1950",
          "1960",
          "1970",
          "1980",
          "1990",
          "2000",
          "2010"
         ],
         "y": [
          0.0010106826808945718,
          0.001719431079470898,
          0.003924833825339288,
          0.007560196488355433,
          0.007212201647803609,
          0.0070045346313738766,
          0.004810943089340529,
          0.002138982463643326,
          0.000710139517703414
         ]
        },
        {
         "name": "TIAGO",
         "offset": -1,
         "type": "bar",
         "x": [
          "1930",
          "1940",
          "1950",
          "1960",
          "1970",
          "1980",
          "1990",
          "2000",
          "2010"
         ],
         "y": [
          0.004559824188222021,
          0.0036349376329165473,
          0.0027698112995965833,
          0.0027466703703162235,
          0.004407637946824297,
          0.03274518183853308,
          0.32214793696312227,
          0.16627844335884334,
          0.08891787830428395
         ]
        },
        {
         "name": "TOME",
         "offset": -1,
         "type": "bar",
         "x": [
          "1930",
          "1940",
          "1950",
          "1960",
          "1970",
          "1980",
          "1990",
          "2000",
          "2010"
         ],
         "y": [
          0.0017510665052708277,
          0.0019155065534456493,
          0.0015587197192061743,
          0.001282875981345302,
          0.0011541481586684363,
          0.0008899052186188153,
          0.0003501225428900115,
          0.00016434187424610544,
          0.00009754663704717225
         ]
        }
       ],
       "layout": {
        "bargap": 0,
        "barmode": "stack",
        "font": {
         "family": "Montserrat"
        },
        "plot_bgcolor": "white",
        "template": {
         "data": {
          "bar": [
           {
            "error_x": {
             "color": "#2a3f5f"
            },
            "error_y": {
             "color": "#2a3f5f"
            },
            "marker": {
             "line": {
              "color": "#E5ECF6",
              "width": 0.5
             }
            },
            "type": "bar"
           }
          ],
          "barpolar": [
           {
            "marker": {
             "line": {
              "color": "#E5ECF6",
              "width": 0.5
             }
            },
            "type": "barpolar"
           }
          ],
          "carpet": [
           {
            "aaxis": {
             "endlinecolor": "#2a3f5f",
             "gridcolor": "white",
             "linecolor": "white",
             "minorgridcolor": "white",
             "startlinecolor": "#2a3f5f"
            },
            "baxis": {
             "endlinecolor": "#2a3f5f",
             "gridcolor": "white",
             "linecolor": "white",
             "minorgridcolor": "white",
             "startlinecolor": "#2a3f5f"
            },
            "type": "carpet"
           }
          ],
          "choropleth": [
           {
            "colorbar": {
             "outlinewidth": 0,
             "ticks": ""
            },
            "type": "choropleth"
           }
          ],
          "contour": [
           {
            "colorbar": {
             "outlinewidth": 0,
             "ticks": ""
            },
            "colorscale": [
             [
              0,
              "#0d0887"
             ],
             [
              0.1111111111111111,
              "#46039f"
             ],
             [
              0.2222222222222222,
              "#7201a8"
             ],
             [
              0.3333333333333333,
              "#9c179e"
             ],
             [
              0.4444444444444444,
              "#bd3786"
             ],
             [
              0.5555555555555556,
              "#d8576b"
             ],
             [
              0.6666666666666666,
              "#ed7953"
             ],
             [
              0.7777777777777778,
              "#fb9f3a"
             ],
             [
              0.8888888888888888,
              "#fdca26"
             ],
             [
              1,
              "#f0f921"
             ]
            ],
            "type": "contour"
           }
          ],
          "contourcarpet": [
           {
            "colorbar": {
             "outlinewidth": 0,
             "ticks": ""
            },
            "type": "contourcarpet"
           }
          ],
          "heatmap": [
           {
            "colorbar": {
             "outlinewidth": 0,
             "ticks": ""
            },
            "colorscale": [
             [
              0,
              "#0d0887"
             ],
             [
              0.1111111111111111,
              "#46039f"
             ],
             [
              0.2222222222222222,
              "#7201a8"
             ],
             [
              0.3333333333333333,
              "#9c179e"
             ],
             [
              0.4444444444444444,
              "#bd3786"
             ],
             [
              0.5555555555555556,
              "#d8576b"
             ],
             [
              0.6666666666666666,
              "#ed7953"
             ],
             [
              0.7777777777777778,
              "#fb9f3a"
             ],
             [
              0.8888888888888888,
              "#fdca26"
             ],
             [
              1,
              "#f0f921"
             ]
            ],
            "type": "heatmap"
           }
          ],
          "heatmapgl": [
           {
            "colorbar": {
             "outlinewidth": 0,
             "ticks": ""
            },
            "colorscale": [
             [
              0,
              "#0d0887"
             ],
             [
              0.1111111111111111,
              "#46039f"
             ],
             [
              0.2222222222222222,
              "#7201a8"
             ],
             [
              0.3333333333333333,
              "#9c179e"
             ],
             [
              0.4444444444444444,
              "#bd3786"
             ],
             [
              0.5555555555555556,
              "#d8576b"
             ],
             [
              0.6666666666666666,
              "#ed7953"
             ],
             [
              0.7777777777777778,
              "#fb9f3a"
             ],
             [
              0.8888888888888888,
              "#fdca26"
             ],
             [
              1,
              "#f0f921"
             ]
            ],
            "type": "heatmapgl"
           }
          ],
          "histogram": [
           {
            "marker": {
             "colorbar": {
              "outlinewidth": 0,
              "ticks": ""
             }
            },
            "type": "histogram"
           }
          ],
          "histogram2d": [
           {
            "colorbar": {
             "outlinewidth": 0,
             "ticks": ""
            },
            "colorscale": [
             [
              0,
              "#0d0887"
             ],
             [
              0.1111111111111111,
              "#46039f"
             ],
             [
              0.2222222222222222,
              "#7201a8"
             ],
             [
              0.3333333333333333,
              "#9c179e"
             ],
             [
              0.4444444444444444,
              "#bd3786"
             ],
             [
              0.5555555555555556,
              "#d8576b"
             ],
             [
              0.6666666666666666,
              "#ed7953"
             ],
             [
              0.7777777777777778,
              "#fb9f3a"
             ],
             [
              0.8888888888888888,
              "#fdca26"
             ],
             [
              1,
              "#f0f921"
             ]
            ],
            "type": "histogram2d"
           }
          ],
          "histogram2dcontour": [
           {
            "colorbar": {
             "outlinewidth": 0,
             "ticks": ""
            },
            "colorscale": [
             [
              0,
              "#0d0887"
             ],
             [
              0.1111111111111111,
              "#46039f"
             ],
             [
              0.2222222222222222,
              "#7201a8"
             ],
             [
              0.3333333333333333,
              "#9c179e"
             ],
             [
              0.4444444444444444,
              "#bd3786"
             ],
             [
              0.5555555555555556,
              "#d8576b"
             ],
             [
              0.6666666666666666,
              "#ed7953"
             ],
             [
              0.7777777777777778,
              "#fb9f3a"
             ],
             [
              0.8888888888888888,
              "#fdca26"
             ],
             [
              1,
              "#f0f921"
             ]
            ],
            "type": "histogram2dcontour"
           }
          ],
          "mesh3d": [
           {
            "colorbar": {
             "outlinewidth": 0,
             "ticks": ""
            },
            "type": "mesh3d"
           }
          ],
          "parcoords": [
           {
            "line": {
             "colorbar": {
              "outlinewidth": 0,
              "ticks": ""
             }
            },
            "type": "parcoords"
           }
          ],
          "scatter": [
           {
            "marker": {
             "colorbar": {
              "outlinewidth": 0,
              "ticks": ""
             }
            },
            "type": "scatter"
           }
          ],
          "scatter3d": [
           {
            "line": {
             "colorbar": {
              "outlinewidth": 0,
              "ticks": ""
             }
            },
            "marker": {
             "colorbar": {
              "outlinewidth": 0,
              "ticks": ""
             }
            },
            "type": "scatter3d"
           }
          ],
          "scattercarpet": [
           {
            "marker": {
             "colorbar": {
              "outlinewidth": 0,
              "ticks": ""
             }
            },
            "type": "scattercarpet"
           }
          ],
          "scattergeo": [
           {
            "marker": {
             "colorbar": {
              "outlinewidth": 0,
              "ticks": ""
             }
            },
            "type": "scattergeo"
           }
          ],
          "scattergl": [
           {
            "marker": {
             "colorbar": {
              "outlinewidth": 0,
              "ticks": ""
             }
            },
            "type": "scattergl"
           }
          ],
          "scattermapbox": [
           {
            "marker": {
             "colorbar": {
              "outlinewidth": 0,
              "ticks": ""
             }
            },
            "type": "scattermapbox"
           }
          ],
          "scatterpolar": [
           {
            "marker": {
             "colorbar": {
              "outlinewidth": 0,
              "ticks": ""
             }
            },
            "type": "scatterpolar"
           }
          ],
          "scatterpolargl": [
           {
            "marker": {
             "colorbar": {
              "outlinewidth": 0,
              "ticks": ""
             }
            },
            "type": "scatterpolargl"
           }
          ],
          "scatterternary": [
           {
            "marker": {
             "colorbar": {
              "outlinewidth": 0,
              "ticks": ""
             }
            },
            "type": "scatterternary"
           }
          ],
          "surface": [
           {
            "colorbar": {
             "outlinewidth": 0,
             "ticks": ""
            },
            "colorscale": [
             [
              0,
              "#0d0887"
             ],
             [
              0.1111111111111111,
              "#46039f"
             ],
             [
              0.2222222222222222,
              "#7201a8"
             ],
             [
              0.3333333333333333,
              "#9c179e"
             ],
             [
              0.4444444444444444,
              "#bd3786"
             ],
             [
              0.5555555555555556,
              "#d8576b"
             ],
             [
              0.6666666666666666,
              "#ed7953"
             ],
             [
              0.7777777777777778,
              "#fb9f3a"
             ],
             [
              0.8888888888888888,
              "#fdca26"
             ],
             [
              1,
              "#f0f921"
             ]
            ],
            "type": "surface"
           }
          ],
          "table": [
           {
            "cells": {
             "fill": {
              "color": "#EBF0F8"
             },
             "line": {
              "color": "white"
             }
            },
            "header": {
             "fill": {
              "color": "#C8D4E3"
             },
             "line": {
              "color": "white"
             }
            },
            "type": "table"
           }
          ]
         },
         "layout": {
          "annotationdefaults": {
           "arrowcolor": "#2a3f5f",
           "arrowhead": 0,
           "arrowwidth": 1
          },
          "colorscale": {
           "diverging": [
            [
             0,
             "#8e0152"
            ],
            [
             0.1,
             "#c51b7d"
            ],
            [
             0.2,
             "#de77ae"
            ],
            [
             0.3,
             "#f1b6da"
            ],
            [
             0.4,
             "#fde0ef"
            ],
            [
             0.5,
             "#f7f7f7"
            ],
            [
             0.6,
             "#e6f5d0"
            ],
            [
             0.7,
             "#b8e186"
            ],
            [
             0.8,
             "#7fbc41"
            ],
            [
             0.9,
             "#4d9221"
            ],
            [
             1,
             "#276419"
            ]
           ],
           "sequential": [
            [
             0,
             "#0d0887"
            ],
            [
             0.1111111111111111,
             "#46039f"
            ],
            [
             0.2222222222222222,
             "#7201a8"
            ],
            [
             0.3333333333333333,
             "#9c179e"
            ],
            [
             0.4444444444444444,
             "#bd3786"
            ],
            [
             0.5555555555555556,
             "#d8576b"
            ],
            [
             0.6666666666666666,
             "#ed7953"
            ],
            [
             0.7777777777777778,
             "#fb9f3a"
            ],
            [
             0.8888888888888888,
             "#fdca26"
            ],
            [
             1,
             "#f0f921"
            ]
           ],
           "sequentialminus": [
            [
             0,
             "#0d0887"
            ],
            [
             0.1111111111111111,
             "#46039f"
            ],
            [
             0.2222222222222222,
             "#7201a8"
            ],
            [
             0.3333333333333333,
             "#9c179e"
            ],
            [
             0.4444444444444444,
             "#bd3786"
            ],
            [
             0.5555555555555556,
             "#d8576b"
            ],
            [
             0.6666666666666666,
             "#ed7953"
            ],
            [
             0.7777777777777778,
             "#fb9f3a"
            ],
            [
             0.8888888888888888,
             "#fdca26"
            ],
            [
             1,
             "#f0f921"
            ]
           ]
          },
          "colorway": [
           "#636efa",
           "#EF553B",
           "#00cc96",
           "#ab63fa",
           "#FFA15A",
           "#19d3f3",
           "#FF6692",
           "#B6E880",
           "#FF97FF",
           "#FECB52"
          ],
          "font": {
           "color": "#2a3f5f"
          },
          "geo": {
           "bgcolor": "white",
           "lakecolor": "white",
           "landcolor": "#E5ECF6",
           "showlakes": true,
           "showland": true,
           "subunitcolor": "white"
          },
          "hoverlabel": {
           "align": "left"
          },
          "hovermode": "closest",
          "mapbox": {
           "style": "light"
          },
          "paper_bgcolor": "white",
          "plot_bgcolor": "#E5ECF6",
          "polar": {
           "angularaxis": {
            "gridcolor": "white",
            "linecolor": "white",
            "ticks": ""
           },
           "bgcolor": "#E5ECF6",
           "radialaxis": {
            "gridcolor": "white",
            "linecolor": "white",
            "ticks": ""
           }
          },
          "scene": {
           "xaxis": {
            "backgroundcolor": "#E5ECF6",
            "gridcolor": "white",
            "gridwidth": 2,
            "linecolor": "white",
            "showbackground": true,
            "ticks": "",
            "zerolinecolor": "white"
           },
           "yaxis": {
            "backgroundcolor": "#E5ECF6",
            "gridcolor": "white",
            "gridwidth": 2,
            "linecolor": "white",
            "showbackground": true,
            "ticks": "",
            "zerolinecolor": "white"
           },
           "zaxis": {
            "backgroundcolor": "#E5ECF6",
            "gridcolor": "white",
            "gridwidth": 2,
            "linecolor": "white",
            "showbackground": true,
            "ticks": "",
            "zerolinecolor": "white"
           }
          },
          "shapedefaults": {
           "line": {
            "color": "#2a3f5f"
           }
          },
          "ternary": {
           "aaxis": {
            "gridcolor": "white",
            "linecolor": "white",
            "ticks": ""
           },
           "baxis": {
            "gridcolor": "white",
            "linecolor": "white",
            "ticks": ""
           },
           "bgcolor": "#E5ECF6",
           "caxis": {
            "gridcolor": "white",
            "linecolor": "white",
            "ticks": ""
           }
          },
          "title": {
           "x": 0.05
          },
          "xaxis": {
           "automargin": true,
           "gridcolor": "white",
           "linecolor": "white",
           "ticks": "",
           "zerolinecolor": "white",
           "zerolinewidth": 2
          },
          "yaxis": {
           "automargin": true,
           "gridcolor": "white",
           "linecolor": "white",
           "ticks": "",
           "zerolinecolor": "white",
           "zerolinewidth": 2
          }
         }
        },
        "xaxis": {
         "type": "category"
        },
        "yaxis": {
         "range": [
          0,
          1
         ],
         "tickformat": ",.0%"
        }
       }
      }
     },
     "metadata": {}
    }
   ],
   "source": [
    "fig = go.Figure()\n",
    "\n",
    "for nome in df.columns:\n",
    "    fig.add_trace(\n",
    "        go.Bar(\n",
    "            x=df.index,\n",
    "            y=df[nome],\n",
    "            name = nome,\n",
    "            offset = -1\n",
    "        )\n",
    "    )\n",
    "\n",
    "fig.update_layout(\n",
    "    barmode = 'stack',\n",
    "    bargap = 0,\n",
    "    font_family = 'Montserrat',\n",
    "    plot_bgcolor = 'white',\n",
    "    xaxis = {'type': 'category'},\n",
    "    yaxis = {\n",
    "        'tickformat': ',.0%',\n",
    "        'range': [0,1]\n",
    "    }\n",
    ")\n",
    "\n",
    "fig.show()"
   ]
  }
 ]
}